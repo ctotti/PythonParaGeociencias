{
 "cells": [
  {
   "cell_type": "markdown",
   "metadata": {},
   "source": [
    "# Disciplina: Introdução a programação para geocientistas"
   ]
  },
  {
   "cell_type": "markdown",
   "metadata": {},
   "source": [
    "# Aula 14 - Funções"
   ]
  },
  {
   "cell_type": "markdown",
   "metadata": {},
   "source": [
    "## Motivação\n",
    "\n",
    "Até agora vimos programas que usam uma sequência de comandos, estruturas de repetição e decisão.  \n",
    "Os programas possuem a capacidade de resolver diversos problemas, mas às vezes é mais difícil de resolver\n",
    "problemas grandes. Por exemplo, em algumas situações, é necessário repetir um mesmo trecho de código em diversos pontos do programa:"
   ]
  },
  {
   "cell_type": "code",
   "execution_count": 1,
   "metadata": {},
   "outputs": [],
   "source": [
    "import numpy as np"
   ]
  },
  {
   "cell_type": "code",
   "execution_count": 2,
   "metadata": {},
   "outputs": [
    {
     "name": "stdout",
     "output_type": "stream",
     "text": [
      "3.0\n"
     ]
    }
   ],
   "source": [
    "A = np.array([1., 2., 3., 4., 5.])\n",
    "\n",
    "# Calcular a média dos elementos de A:\n",
    "\n",
    "soma = 0\n",
    "for i in A:\n",
    "    soma += i\n",
    "\n",
    "media = soma/len(A)\n",
    "print(media)"
   ]
  },
  {
   "cell_type": "code",
   "execution_count": 3,
   "metadata": {},
   "outputs": [
    {
     "name": "stdout",
     "output_type": "stream",
     "text": [
      "9.0\n"
     ]
    }
   ],
   "source": [
    "B = np.array([7., 8., 9., 10., 11.])\n",
    "\n",
    "# Calcular a média dos elementos de B:\n",
    "\n",
    "soma = 0\n",
    "for i in B:\n",
    "    soma += i\n",
    "\n",
    "media = soma/len(B)\n",
    "print(media)"
   ]
  },
  {
   "cell_type": "markdown",
   "metadata": {},
   "source": [
    "### Problemas desta “repetição”\n",
    "\n",
    "Um programa muito grande com várias partes repetidas podem gerar  defeitos que ficam difíceis perceber ou corrigir (e se eu esquecer de corrigir o defeito em uma das N repetições daquele trecho de código?)\n",
    "\n",
    "### Solução: subprogramação (funções)\n",
    "\n",
    "Definir o trecho de código que se repete e usá-la como uma função que é chamada no programa quantas vezes for necessário. A função é definida uma única vez, e chamada várias vezes dentro do programa:"
   ]
  },
  {
   "attachments": {
    "image.png": {
     "image/png": "[encoded data removed]"
    }
   },
   "cell_type": "markdown",
   "metadata": {},
   "source": [
    "![image.png](attachment:image.png)"
   ]
  },
  {
   "attachments": {
    "image.png": {
     "image/png": "[encoded data removed]"
    }
   },
   "cell_type": "markdown",
   "metadata": {},
   "source": [
    "![image.png](attachment:image.png)"
   ]
  },
  {
   "cell_type": "code",
   "execution_count": 4,
   "metadata": {},
   "outputs": [],
   "source": [
    "# Função para calcular a média:\n",
    "\n",
    "def calcula_media(v):    # para criar uma função tem que usar \"def\" = define\n",
    "    \n",
    "    '''\n",
    "    Essa função calcula a media dos elementos um array.\n",
    "    \n",
    "    Inputs: \n",
    "    v: numpy array\n",
    "    \n",
    "    Outputs:\n",
    "    media: escalar\n",
    "    '''\n",
    "    \n",
    "    soma = 0\n",
    "    for i in v:\n",
    "        soma += i\n",
    "    media = soma/len(v)\n",
    "    \n",
    "    return media"
   ]
  },
  {
   "cell_type": "code",
   "execution_count": 5,
   "metadata": {},
   "outputs": [
    {
     "data": {
      "text/plain": [
       "array([1., 2., 3., 4., 5.])"
      ]
     },
     "execution_count": 5,
     "metadata": {},
     "output_type": "execute_result"
    }
   ],
   "source": [
    "A"
   ]
  },
  {
   "cell_type": "code",
   "execution_count": 6,
   "metadata": {},
   "outputs": [
    {
     "data": {
      "text/plain": [
       "3.0"
      ]
     },
     "execution_count": 6,
     "metadata": {},
     "output_type": "execute_result"
    }
   ],
   "source": [
    "calcula_media(A)"
   ]
  },
  {
   "cell_type": "code",
   "execution_count": 7,
   "metadata": {},
   "outputs": [
    {
     "name": "stdout",
     "output_type": "stream",
     "text": [
      "3.0 9.0\n"
     ]
    }
   ],
   "source": [
    "mediaA = calcula_media(A)\n",
    "mediaB = calcula_media(B)\n",
    "\n",
    "print(mediaA, mediaB)"
   ]
  },
  {
   "cell_type": "markdown",
   "metadata": {},
   "source": [
    "## Vantagens do uso das funções:\n",
    "\n",
    "* Economia de código\n",
    "    * Quanto mais repetição, mais economia\n",
    "* Facilidade na correção de defeitos\n",
    "    * Corrigir o defeito em um único local\n",
    "* Legibilidade do código\n",
    "    * Podemos dar nomes mais intuitivos a blocos de código\n",
    "    * É como se criássemos nossos próprios comandos\n",
    "* Melhor tratamento de complexidade\n",
    "    * Facilidade em lidar melhor com a complexidade de programas grandes"
   ]
  },
  {
   "cell_type": "markdown",
   "metadata": {},
   "source": [
    "### Fluxo de execução"
   ]
  },
  {
   "attachments": {
    "image-2.png": {
     "image/png": "[encoded data removed]"
    }
   },
   "cell_type": "markdown",
   "metadata": {},
   "source": [
    "![image-2.png](attachment:image-2.png)"
   ]
  },
  {
   "cell_type": "markdown",
   "metadata": {},
   "source": [
    "Sintaxe"
   ]
  },
  {
   "cell_type": "raw",
   "metadata": {},
   "source": [
    "def nome_funcao(<parâmetros>):\n",
    "\n",
    "    ' Explicação da função '\n",
    "\n",
    "    <comandos>\n",
    "    \n",
    "    return <expressão>"
   ]
  },
  {
   "cell_type": "markdown",
   "metadata": {},
   "source": [
    "### Exemplos"
   ]
  },
  {
   "cell_type": "code",
   "execution_count": 9,
   "metadata": {},
   "outputs": [],
   "source": [
    "def calcula_media(v):\n",
    "    \n",
    "    '''\n",
    "    Essa função calcula a media dos elementos um array.\n",
    "    \n",
    "    Inputs: \n",
    "    v: numpy array\n",
    "    \n",
    "    Outputs:\n",
    "    media: escalar - é a média dps elementos de v\n",
    "    '''\n",
    "    \n",
    "    soma = 0\n",
    "    for i in v:\n",
    "        soma += i\n",
    "    media = soma/len(v)\n",
    "    \n",
    "    return media"
   ]
  },
  {
   "cell_type": "code",
   "execution_count": 10,
   "metadata": {},
   "outputs": [],
   "source": [
    "def calcula_tempo(velocidade, distancia):\n",
    "    \n",
    "    '''\n",
    "    Calcula o tempo a partir da velocidade e distância.\n",
    "    \n",
    "    Inputs:\n",
    "    velocidade: Escalar (m/s)\n",
    "    distancia: Escalar (m)\n",
    "    \n",
    "    Output:\n",
    "    tempo: Escalar (s)\n",
    "    '''\n",
    "    \n",
    "    tempo = distancia/velocidade\n",
    "\n",
    "    return tempo"
   ]
  },
  {
   "cell_type": "code",
   "execution_count": 11,
   "metadata": {},
   "outputs": [],
   "source": [
    "def calcula_distancia(velocidade, tempo):\n",
    "    \n",
    "    '''\n",
    "    Calcula a distância a partir da velocidade e tempo.\n",
    "    \n",
    "    Inputs:\n",
    "    velocidade: Escalar (m/s)\n",
    "    tempo: Escalar (s)\n",
    "    \n",
    "    Output:\n",
    "    distancia: Escalar (m)\n",
    "    '''\n",
    "    \n",
    "    distancia = velocidade * tempo\n",
    "    \n",
    "    return distancia"
   ]
  },
  {
   "cell_type": "code",
   "execution_count": 12,
   "metadata": {},
   "outputs": [
    {
     "name": "stdout",
     "output_type": "stream",
     "text": [
      "0.5\n"
     ]
    }
   ],
   "source": [
    "t = calcula_tempo(10, 5)\n",
    "\n",
    "print(t)"
   ]
  },
  {
   "cell_type": "code",
   "execution_count": 13,
   "metadata": {},
   "outputs": [
    {
     "name": "stdout",
     "output_type": "stream",
     "text": [
      "20\n"
     ]
    }
   ],
   "source": [
    "d = calcula_distancia(5, 4)\n",
    "\n",
    "print(d) "
   ]
  },
  {
   "cell_type": "code",
   "execution_count": 14,
   "metadata": {},
   "outputs": [
    {
     "name": "stdout",
     "output_type": "stream",
     "text": [
      "A distancia é 20\n"
     ]
    }
   ],
   "source": [
    "print ('A distancia é', calcula_distancia(5,4))"
   ]
  },
  {
   "cell_type": "markdown",
   "metadata": {},
   "source": [
    "### Sobre as funções\n",
    "\n",
    "* Um programa pode ter nenhuma, uma ou mais funções;\n",
    "* Uma função pode ter nenhum, um ou mais parâmetros;\n",
    "* Uma função pode nunca ser chamada ou chamada diversas vezes;\n",
    "* Uma função é executada **apenas** quando é chamada;\n",
    "* Duas chamadas de uma mesma função podem produzir resultados diferentes;\n",
    "* Uma função que retorna um valor deve usar `return`\n",
    "    * Assim que o comando `return` é executado, a função termina;\n",
    "* Uma função pode não retornar nenhum valor;\n",
    "    * Nesse caso a função termina quando sua última linha de código for executada"
   ]
  },
  {
   "cell_type": "markdown",
   "metadata": {},
   "source": [
    "### Variáveis\n",
    "\n",
    "Variáveis podem ser locais ou globais\n",
    "\n",
    "* Variáveis locais\n",
    "    * Declaradas dentro de uma função\n",
    "    * São visíveis somente dentro da função onde foram declaradas\n",
    "    * São destruídas ao término da execução da função\n",
    "* Variáveis globais\n",
    "    * Declaradas fora de todas as funções\n",
    "    * São visíveis por **todas** as funções do programa"
   ]
  },
  {
   "cell_type": "markdown",
   "metadata": {},
   "source": [
    "#### Variáveis locais"
   ]
  },
  {
   "cell_type": "raw",
   "metadata": {},
   "source": [
    "def calcula_media(v):\n",
    "    \n",
    "    '''\n",
    "    Essa função calcula a media dos elementos um array.\n",
    "    \n",
    "    Inputs: \n",
    "    v: numpy array\n",
    "    \n",
    "    Outputs:\n",
    "    media: escalar\n",
    "    '''\n",
    "    \n",
    "    soma = 0\n",
    "    for i in v:\n",
    "        soma += i\n",
    "    media = soma/len(v)\n",
    "    \n",
    "    return media"
   ]
  },
  {
   "cell_type": "markdown",
   "metadata": {},
   "source": [
    "Variáveis locais: media"
   ]
  },
  {
   "cell_type": "markdown",
   "metadata": {},
   "source": [
    "def calcula_tempo(velocidade, distancia):\n",
    "    \n",
    "    '''\n",
    "    Calcula o tempo a partir da velocidade e distância.\n",
    "    \n",
    "    Inputs:\n",
    "    velocidade: Escalar (m/s)\n",
    "    distancia: Escalar (m)\n",
    "    \n",
    "    Output:\n",
    "    tempo: Escalar (s)\n",
    "    '''\n",
    "    \n",
    "    tempo = distancia/velocidade\n",
    "\n",
    "    return tempo"
   ]
  },
  {
   "cell_type": "markdown",
   "metadata": {},
   "source": [
    "Variáveis locais: tempo\n",
    "\n",
    "Parâmetros também se comportam como variáveis locais: soma, velocidade, distancia"
   ]
  },
  {
   "cell_type": "markdown",
   "metadata": {},
   "source": [
    "#### Variáveis Globais"
   ]
  },
  {
   "cell_type": "raw",
   "metadata": {},
   "source": [
    "t = calcula_tempo(10, 5)\n",
    "\n",
    "d = calcula_distancia(5, 4)\n"
   ]
  },
  {
   "cell_type": "markdown",
   "metadata": {},
   "source": [
    "Variáveis globais: t, d"
   ]
  },
  {
   "cell_type": "code",
   "execution_count": 15,
   "metadata": {},
   "outputs": [
    {
     "data": {
      "text/plain": [
       "0.5"
      ]
     },
     "execution_count": 15,
     "metadata": {},
     "output_type": "execute_result"
    }
   ],
   "source": [
    "t"
   ]
  },
  {
   "cell_type": "code",
   "execution_count": 16,
   "metadata": {},
   "outputs": [
    {
     "ename": "NameError",
     "evalue": "name 'tempo' is not defined",
     "output_type": "error",
     "traceback": [
      "\u001b[1;31m---------------------------------------------------------------------------\u001b[0m",
      "\u001b[1;31mNameError\u001b[0m                                 Traceback (most recent call last)",
      "\u001b[1;32m<ipython-input-16-71afad14fb14>\u001b[0m in \u001b[0;36m<module>\u001b[1;34m\u001b[0m\n\u001b[0;32m      1\u001b[0m \u001b[1;31m# Essa celula dará erro\u001b[0m\u001b[1;33m\u001b[0m\u001b[1;33m\u001b[0m\u001b[1;33m\u001b[0m\u001b[0m\n\u001b[0;32m      2\u001b[0m \u001b[1;33m\u001b[0m\u001b[0m\n\u001b[1;32m----> 3\u001b[1;33m \u001b[0mtempo\u001b[0m\u001b[1;33m\u001b[0m\u001b[1;33m\u001b[0m\u001b[0m\n\u001b[0m",
      "\u001b[1;31mNameError\u001b[0m: name 'tempo' is not defined"
     ]
    }
   ],
   "source": [
    "# Essa celula dará erro\n",
    "\n",
    "tempo"
   ]
  },
  {
   "cell_type": "markdown",
   "metadata": {},
   "source": [
    "## Uso de variáveis globais x variáveis locais\n",
    "\n",
    "Cuidado com o uso de variáveis globais dentro das funções\n",
    "\n",
    "* Dificultam o entendimento do programa\n",
    "* Dificultam a correção de defeitos no programa\n",
    "\n",
    "* Se a variável pode ser usada por qualquer função do programa, encontrar um defeito envolvendo o valor desta variável pode ser muito complexo\n",
    "\n",
    "#### Recomendação\n",
    "\n",
    "* Sempre que possível, usar variáveis locais e passar os valores necessários para a função como parâmetro"
   ]
  },
  {
   "cell_type": "code",
   "execution_count": 17,
   "metadata": {},
   "outputs": [],
   "source": [
    "# modelo não indicado\n",
    "\n",
    "def maior():\n",
    "    \n",
    "    '''\n",
    "    Compara duas variáveis e retorna a maior.\n",
    "    '''\n",
    "    \n",
    "    global m\n",
    "    if a > b:\n",
    "        m = a\n",
    "    else:\n",
    "        m = b"
   ]
  },
  {
   "cell_type": "code",
   "execution_count": 18,
   "metadata": {},
   "outputs": [
    {
     "name": "stdout",
     "output_type": "stream",
     "text": [
      "2\n"
     ]
    }
   ],
   "source": [
    "m = 0\n",
    "a = 1\n",
    "b = 2\n",
    "\n",
    "maior()\n",
    "print(m)"
   ]
  },
  {
   "cell_type": "code",
   "execution_count": 19,
   "metadata": {},
   "outputs": [],
   "source": [
    "# modelo mais indicado \n",
    "\n",
    "def maior(a, b):\n",
    "    \n",
    "    '''\n",
    "    Compara duas variáveis (a,b) e retorna a maior.\n",
    "    \n",
    "    Inputs:\n",
    "    a: escalar\n",
    "    b: escalar\n",
    "    \n",
    "    Output:\n",
    "    maior: escalar\n",
    "    \n",
    "    '''\n",
    "    \n",
    "    if a > b:\n",
    "        maior = a\n",
    "    else:\n",
    "        maior = b\n",
    "\n",
    "    return maior"
   ]
  },
  {
   "cell_type": "code",
   "execution_count": 22,
   "metadata": {},
   "outputs": [
    {
     "name": "stdout",
     "output_type": "stream",
     "text": [
      "29\n"
     ]
    }
   ],
   "source": [
    "abacaxi = 5\n",
    "banana = 29\n",
    "\n",
    "macarrao = maior(abacaxi, banana)\n",
    "print(macarrao)"
   ]
  },
  {
   "cell_type": "markdown",
   "metadata": {},
   "source": [
    "## Passagem de parâmetros\n",
    "\n",
    "Quando uma função é chamada, é necessário fornecer um valor para cada um de seus parâmetros. Isso por ser feito informando o valor diretamente:"
   ]
  },
  {
   "cell_type": "code",
   "execution_count": 23,
   "metadata": {},
   "outputs": [
    {
     "data": {
      "text/plain": [
       "2.0"
      ]
     },
     "execution_count": 23,
     "metadata": {},
     "output_type": "execute_result"
    }
   ],
   "source": [
    "t = calcula_tempo(1, 2)\n",
    "\n",
    "t"
   ]
  },
  {
   "cell_type": "markdown",
   "metadata": {},
   "source": [
    "Ou usando o valor de uma variável"
   ]
  },
  {
   "cell_type": "code",
   "execution_count": 24,
   "metadata": {},
   "outputs": [
    {
     "data": {
      "text/plain": [
       "0.4"
      ]
     },
     "execution_count": 24,
     "metadata": {},
     "output_type": "execute_result"
    }
   ],
   "source": [
    "v = 5\n",
    "d = 2\n",
    "\n",
    "t = calcula_tempo(v, d)\n",
    "\n",
    "t"
   ]
  },
  {
   "cell_type": "code",
   "execution_count": 25,
   "metadata": {},
   "outputs": [
    {
     "name": "stdout",
     "output_type": "stream",
     "text": [
      "0.5\n"
     ]
    }
   ],
   "source": [
    "v = 10\n",
    "t = calcula_tempo(v, 5)\n",
    "\n",
    "print(t)"
   ]
  },
  {
   "cell_type": "code",
   "execution_count": 26,
   "metadata": {},
   "outputs": [
    {
     "name": "stdout",
     "output_type": "stream",
     "text": [
      "5.0\n"
     ]
    }
   ],
   "source": [
    "d = calcula_distancia(v, t)\n",
    "\n",
    "print(d)"
   ]
  },
  {
   "cell_type": "markdown",
   "metadata": {},
   "source": [
    "### Função sem retorno"
   ]
  },
  {
   "cell_type": "code",
   "execution_count": 27,
   "metadata": {},
   "outputs": [],
   "source": [
    "def imprime_linha(tamanho):\n",
    "    print('-' * tamanho)"
   ]
  },
  {
   "cell_type": "code",
   "execution_count": 28,
   "metadata": {},
   "outputs": [
    {
     "name": "stdout",
     "output_type": "stream",
     "text": [
      "----------\n"
     ]
    }
   ],
   "source": [
    "imprime_linha(10)"
   ]
  },
  {
   "cell_type": "code",
   "execution_count": 29,
   "metadata": {},
   "outputs": [
    {
     "name": "stdout",
     "output_type": "stream",
     "text": [
      "-----------------\n"
     ]
    }
   ],
   "source": [
    "texto = 'PROGRAMAR É LEGAL'\n",
    "\n",
    "imprime_linha(len(texto))"
   ]
  },
  {
   "cell_type": "code",
   "execution_count": 30,
   "metadata": {},
   "outputs": [
    {
     "name": "stdout",
     "output_type": "stream",
     "text": [
      "-----------------\n",
      "PROGRAMAR É LEGAL\n",
      "-----------------\n"
     ]
    }
   ],
   "source": [
    "imprime_linha(len(texto))\n",
    "print(texto)\n",
    "imprime_linha(len(texto))"
   ]
  },
  {
   "cell_type": "markdown",
   "metadata": {},
   "source": [
    "### Chamada de função\n",
    "\n",
    "Se a função retorna um valor, pode-se atribuir seu resultado a uma variável\n"
   ]
  },
  {
   "cell_type": "code",
   "execution_count": 31,
   "metadata": {},
   "outputs": [],
   "source": [
    "a = 5\n",
    "b = 2\n",
    "\n",
    "m = maior(a,b)"
   ]
  },
  {
   "cell_type": "code",
   "execution_count": 32,
   "metadata": {},
   "outputs": [
    {
     "data": {
      "text/plain": [
       "5"
      ]
     },
     "execution_count": 32,
     "metadata": {},
     "output_type": "execute_result"
    }
   ],
   "source": [
    "m"
   ]
  },
  {
   "cell_type": "markdown",
   "metadata": {},
   "source": [
    "Se a função não retorna um valor (não tem return), não se deve atribuir seu resultado a uma variável (se for feito, variável ficará com valor `None`)"
   ]
  },
  {
   "cell_type": "code",
   "execution_count": 33,
   "metadata": {},
   "outputs": [
    {
     "name": "stdout",
     "output_type": "stream",
     "text": [
      "----------\n"
     ]
    }
   ],
   "source": [
    "imprime_linha(10)"
   ]
  },
  {
   "cell_type": "code",
   "execution_count": 34,
   "metadata": {},
   "outputs": [
    {
     "name": "stdout",
     "output_type": "stream",
     "text": [
      "----------\n"
     ]
    }
   ],
   "source": [
    "linhas = imprime_linha(10)"
   ]
  },
  {
   "cell_type": "code",
   "execution_count": 35,
   "metadata": {},
   "outputs": [
    {
     "name": "stdout",
     "output_type": "stream",
     "text": [
      "None\n"
     ]
    }
   ],
   "source": [
    "print(linhas)"
   ]
  },
  {
   "cell_type": "markdown",
   "metadata": {},
   "source": [
    "## Função sem parâmetro\n",
    "\n",
    "* Nem toda função precisa ter parâmetro\n",
    "* Nesse caso, ao definir a função, deve-se abrir e fechar parênteses, sem informar nenhum parâmetro\n",
    "* O mesmo deve acontecer na chamada da função"
   ]
  },
  {
   "cell_type": "code",
   "execution_count": 36,
   "metadata": {},
   "outputs": [],
   "source": [
    "def menu():\n",
    "    print('***************************')\n",
    "    print('1 - Somar')\n",
    "    print('2 - Subtrair')\n",
    "    print('3 - Multiplicar')\n",
    "    print('4 - Dividir')\n",
    "    print('***************************')"
   ]
  },
  {
   "cell_type": "code",
   "execution_count": 37,
   "metadata": {},
   "outputs": [
    {
     "name": "stdout",
     "output_type": "stream",
     "text": [
      "***************************\n",
      "1 - Somar\n",
      "2 - Subtrair\n",
      "3 - Multiplicar\n",
      "4 - Dividir\n",
      "***************************\n"
     ]
    }
   ],
   "source": [
    "menu()"
   ]
  },
  {
   "cell_type": "code",
   "execution_count": 38,
   "metadata": {},
   "outputs": [
    {
     "name": "stdout",
     "output_type": "stream",
     "text": [
      "***************************\n",
      "1 - Somar\n",
      "2 - Subtrair\n",
      "3 - Multiplicar\n",
      "4 - Dividir\n",
      "***************************\n",
      "Digite a opção desejada: 1\n"
     ]
    }
   ],
   "source": [
    "menu()\n",
    "opcao = int(input('Digite a opção desejada: '))"
   ]
  },
  {
   "cell_type": "markdown",
   "metadata": {},
   "source": [
    "## Parâmetros default\n",
    "\n",
    "Em alguns casos, pode-se definir um valor padrão (default) para um parâmetro. Caso ele não seja passado na chamada, o valor default será assumido.\n",
    "\n",
    "#### Exemplo:\n",
    "\n",
    "uma função para calcular a gorjeta de uma conta tem como parâmetros o valor da conta e o percentual da gorjeta. No entanto, na grande maioria dos restaurantes, a gorjeta é sempre 10%. Podemos então colocar 10% como valor default\n",
    "para o parâmetro “percentual”."
   ]
  },
  {
   "cell_type": "code",
   "execution_count": 39,
   "metadata": {},
   "outputs": [],
   "source": [
    "# para indicar um valor default é só usar <nome>=<valor>\n",
    "\n",
    "def calcular_gorjeta(valor, percentual=10):\n",
    "    \n",
    "    '''\n",
    "    Calcula a gorjeta.\n",
    "    \n",
    "    Inputs\n",
    "    valor: Escalar - valor da conta\n",
    "    percentual: escalar - percentual referente à gorjeta. Default = 10%\n",
    "    \n",
    "    Output:\n",
    "    gorjeta: escalar\n",
    "    '''\n",
    "    \n",
    "    gorjeta = valor * percentual/100\n",
    "    \n",
    "    return gorjeta"
   ]
  },
  {
   "cell_type": "code",
   "execution_count": 40,
   "metadata": {},
   "outputs": [
    {
     "name": "stdout",
     "output_type": "stream",
     "text": [
      "O valor da gorjeta de 10% de uma conta de R$ 400 é 40.0\n"
     ]
    }
   ],
   "source": [
    "gorjeta = calcular_gorjeta(400)\n",
    "\n",
    "print('O valor da gorjeta de 10% de uma conta de R$ 400 é', gorjeta)"
   ]
  },
  {
   "cell_type": "code",
   "execution_count": 43,
   "metadata": {},
   "outputs": [
    {
     "name": "stdout",
     "output_type": "stream",
     "text": [
      "O valor da gorjeta de 20% de uma conta de R$ 400 é 80.0\n"
     ]
    }
   ],
   "source": [
    "gorjeta = calcular_gorjeta(400, 20)\n",
    "\n",
    "print('O valor da gorjeta de 20% de uma conta de R$ 400 é', gorjeta)"
   ]
  },
  {
   "cell_type": "markdown",
   "metadata": {},
   "source": [
    "Quando a gorjeta não é informada na chamada da função, o valor do parâmetro gorjeta fica sendo 10."
   ]
  },
  {
   "cell_type": "markdown",
   "metadata": {},
   "source": [
    "## Colocar funções em arquivo separado\n",
    "\n",
    "Em alguns casos, pode ser necessário colocar todas as funções em um módulo separado (ex: funcoes)\n",
    "\n",
    "Nesse caso, basta definir todas as funções num arquivo .py (ex.: funcoes.py). Quando precisar usar as funções em um determinado programa, basta fazer `import <nome do módulo que contém as funções>`. Ao chamar a função, colocar o nome do módulo na frente"
   ]
  },
  {
   "cell_type": "code",
   "execution_count": 45,
   "metadata": {},
   "outputs": [],
   "source": [
    "import my_functions"
   ]
  },
  {
   "cell_type": "code",
   "execution_count": 46,
   "metadata": {},
   "outputs": [],
   "source": [
    "import numpy as np"
   ]
  },
  {
   "cell_type": "code",
   "execution_count": 47,
   "metadata": {},
   "outputs": [
    {
     "name": "stdout",
     "output_type": "stream",
     "text": [
      "30.0\n"
     ]
    }
   ],
   "source": [
    "A = np.array ([10,20,30,40,50])\n",
    "\n",
    "media = my_functions.calcula_media(A)\n",
    "\n",
    "print (media)"
   ]
  },
  {
   "cell_type": "code",
   "execution_count": 48,
   "metadata": {},
   "outputs": [],
   "source": [
    "import my_functions as mf"
   ]
  },
  {
   "cell_type": "code",
   "execution_count": 49,
   "metadata": {},
   "outputs": [
    {
     "name": "stdout",
     "output_type": "stream",
     "text": [
      "100.0\n"
     ]
    }
   ],
   "source": [
    "v = 100\n",
    "d = 10000\n",
    "\n",
    "t = mf.calcula_tempo(v,d)\n",
    "\n",
    "print (t)"
   ]
  },
  {
   "cell_type": "code",
   "execution_count": null,
   "metadata": {},
   "outputs": [],
   "source": []
  },
  {
   "cell_type": "markdown",
   "metadata": {},
   "source": [
    "## Exercícios"
   ]
  },
  {
   "cell_type": "markdown",
   "metadata": {},
   "source": [
    "### 1.\n",
    "Faça uma função que calcule a média ponderada de uma lista de números. Dica: O parâmentro de entrada deve ser um numpy array."
   ]
  },
  {
   "cell_type": "code",
   "execution_count": null,
   "metadata": {},
   "outputs": [],
   "source": []
  },
  {
   "cell_type": "code",
   "execution_count": null,
   "metadata": {},
   "outputs": [],
   "source": []
  },
  {
   "cell_type": "markdown",
   "metadata": {},
   "source": [
    "## 2. \n",
    "\n",
    "Faça uma função que informe o status do aluno a partir da sua média de acordo com a tabela a seguir:\n",
    "* Nota acima de 6 à “Aprovado”\n",
    "* Nota entre 4 e 6 à “Verificação Suplementar”\n",
    "* Nota abaixo de 4 à “Reprovado”\n",
    "\n",
    "Dica: Defina e use a função `media` que vimos na aula."
   ]
  },
  {
   "cell_type": "code",
   "execution_count": null,
   "metadata": {},
   "outputs": [],
   "source": []
  },
  {
   "cell_type": "code",
   "execution_count": null,
   "metadata": {},
   "outputs": [],
   "source": []
  },
  {
   "cell_type": "markdown",
   "metadata": {},
   "source": [
    "### 3. \n",
    "\n",
    "Faça uma calculadora que forneça as seguintes opções para o usuário, usando funções sempre que necessário. Cada opção deve usar como operando um número lido do teclado e o valor atual da memória. Por exemplo, se o estado atual da memória é 5, e o usuário escolhe somar, ele deve informar um novo número (por exemplo, 3). Após a conclusão da\n",
    "soma, o novo estado da memória passa a ser 8. "
   ]
  },
  {
   "cell_type": "raw",
   "metadata": {},
   "source": [
    "Estado da memória: 0\n",
    "\n",
    "Opções:\n",
    "(1) Somar\n",
    "(2) Subtrair\n",
    "(3) Multiplicar\n",
    "(4) Dividir\n",
    "(5) Limpar memória\n",
    "(6) Sair do programa\n",
    "\n",
    "Qual opção você deseja?"
   ]
  },
  {
   "cell_type": "code",
   "execution_count": null,
   "metadata": {},
   "outputs": [],
   "source": []
  },
  {
   "cell_type": "code",
   "execution_count": null,
   "metadata": {},
   "outputs": [],
   "source": []
  }
 ],
 "metadata": {
  "kernelspec": {
   "display_name": "Python 3",
   "language": "python",
   "name": "python3"
  },
  "language_info": {
   "codemirror_mode": {
    "name": "ipython",
    "version": 3
   },
   "file_extension": ".py",
   "mimetype": "text/x-python",
   "name": "python",
   "nbconvert_exporter": "python",
   "pygments_lexer": "ipython3",
   "version": "3.7.3"
  }
 },
 "nbformat": 4,
 "nbformat_minor": 5
}
