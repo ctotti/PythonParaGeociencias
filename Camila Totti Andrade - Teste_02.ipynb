{
 "cells": [
  {
   "cell_type": "markdown",
   "metadata": {},
   "source": [
    "# Disciplina: Introdução a programação para geocientistas"
   ]
  },
  {
   "cell_type": "markdown",
   "metadata": {},
   "source": [
    "# Teste 02\n",
    "\n",
    "Este teste foi pensado para que se utilize, em todas as questões, as estruturas de repetição (`for` ou `while`). Em algumas será necessário utilizar as estruturas de decisão (`if/elif/else`)."
   ]
  },
  {
   "cell_type": "markdown",
   "metadata": {},
   "source": [
    "### Questão 1 (1 ponto)\n",
    "\n"
   ]
  },
  {
   "cell_type": "markdown",
   "metadata": {},
   "source": [
    "Escreva um programa que receba uma lista qualquer e calcule o número de elementos da lista. **NÃO** utilizar a função `len()` ou `count()`."
   ]
  },
  {
   "cell_type": "code",
   "execution_count": 6,
   "metadata": {},
   "outputs": [
    {
     "name": "stdout",
     "output_type": "stream",
     "text": [
      "Há 7 elementos na lista\n"
     ]
    }
   ],
   "source": [
    "lista = [1, 5, 10, 15, 20, 25, 30]\n",
    "cont = 0\n",
    "\n",
    "for i in lista:\n",
    "    cont += 1\n",
    "\n",
    "print ('Há', cont, 'elementos na lista')"
   ]
  },
  {
   "cell_type": "markdown",
   "metadata": {},
   "source": [
    "### Questão 2 (1 ponto)"
   ]
  },
  {
   "cell_type": "markdown",
   "metadata": {},
   "source": [
    "Escreva um programa para converter temperaturas de Fahrenheit para Celsius usando a fórmula abaixo:\n",
    "\n",
    "$$ C = (5 \\times (F - 32))/9 $$\n",
    "\n",
    "Em que $C$ é a temperatura em graus Celcius e $F$ é a temperatura em graus Fahrenheit. Para fazer a questão, primeiro crie uma lista de temperaturas em graus Fahrenheit usando a função `random.sample()`. A lista deve conter 100 números aleatórios que variem entre 10 a 150.\n",
    "\n",
    "Uma vez gerada a lista de temperaturas convertidas em graus Celcius, o programa também deve informar quantos valores correspondem a temperaturas abaixo de zero. "
   ]
  },
  {
   "cell_type": "raw",
   "metadata": {},
   "source": [
    "# Gerar uma lista de números aleatórios de \"a\" a \"b\", com \"n\" elementos.\n",
    "\n",
    "import random\n",
    "\n",
    "lista = random.sample(range(a,b),n) "
   ]
  },
  {
   "cell_type": "code",
   "execution_count": 40,
   "metadata": {},
   "outputs": [
    {
     "name": "stdout",
     "output_type": "stream",
     "text": [
      "Lista de graus em Fahrenheit:  [60, 75, 96, 109, 120, 12, 94, 123, 117, 132, 139, 114, 98, 131, 37, 22, 50, 88, 15, 43, 59, 101, 55, 70, 65, 107, 144, 108, 14, 64, 58, 25, 54, 33, 67, 16, 46, 17, 39, 42, 18, 90, 102, 76, 20, 68, 57, 83, 141, 113, 81, 128, 48, 77, 31, 56, 87, 99, 110, 38, 133, 105, 149, 84, 119, 129, 118, 124, 62, 122, 135, 89, 142, 28, 134, 127, 103, 27, 78, 126, 23, 52, 79, 74, 95, 130, 73, 147, 143, 92, 26, 35, 63, 10, 80, 44, 13, 72, 11, 40]\n",
      "Lista de graus convertidos para Celsius:  [15.555555555555555, 23.88888888888889, 35.55555555555556, 42.77777777777778, 48.888888888888886, -11.11111111111111, 34.44444444444444, 50.55555555555556, 47.22222222222222, 55.55555555555556, 59.44444444444444, 45.55555555555556, 36.666666666666664, 55.0, 2.7777777777777777, -5.555555555555555, 10.0, 31.11111111111111, -9.444444444444445, 6.111111111111111, 15.0, 38.333333333333336, 12.777777777777779, 21.11111111111111, 18.333333333333332, 41.666666666666664, 62.22222222222222, 42.22222222222222, -10.0, 17.77777777777778, 14.444444444444445, -3.888888888888889, 12.222222222222221, 0.5555555555555556, 19.444444444444443, -8.88888888888889, 7.777777777777778, -8.333333333333334, 3.888888888888889, 5.555555555555555, -7.777777777777778, 32.22222222222222, 38.888888888888886, 24.444444444444443, -6.666666666666667, 20.0, 13.88888888888889, 28.333333333333332, 60.55555555555556, 45.0, 27.22222222222222, 53.333333333333336, 8.88888888888889, 25.0, -0.5555555555555556, 13.333333333333334, 30.555555555555557, 37.22222222222222, 43.333333333333336, 3.3333333333333335, 56.111111111111114, 40.55555555555556, 65.0, 28.88888888888889, 48.333333333333336, 53.888888888888886, 47.77777777777778, 51.111111111111114, 16.666666666666668, 50.0, 57.22222222222222, 31.666666666666668, 61.111111111111114, -2.2222222222222223, 56.666666666666664, 52.77777777777778, 39.44444444444444, -2.7777777777777777, 25.555555555555557, 52.22222222222222, -5.0, 11.11111111111111, 26.11111111111111, 23.333333333333332, 35.0, 54.44444444444444, 22.77777777777778, 63.888888888888886, 61.666666666666664, 33.333333333333336, -3.3333333333333335, 1.6666666666666667, 17.22222222222222, -12.222222222222221, 26.666666666666668, 6.666666666666667, -10.555555555555555, 22.22222222222222, -11.666666666666666, 4.444444444444445]\n",
      "17 valores correspondem a temperaturas abaixo de zero\n"
     ]
    }
   ],
   "source": [
    "import random\n",
    "lista = random.sample (range (10,150),100)\n",
    "print ('Lista de graus em Fahrenheit: ', lista)\n",
    "nova_lista = []\n",
    "cont = 0\n",
    "\n",
    "for i in lista:\n",
    "    C = (5*(i - 32))/9\n",
    "    nova_lista.append (C)    \n",
    "print ('Lista de graus convertidos para Celsius: ', nova_lista)\n",
    "\n",
    "for i in nova_lista:\n",
    "    if i < 0:\n",
    "        cont += 1\n",
    "print (cont, 'valores correspondem a temperaturas abaixo de zero')"
   ]
  },
  {
   "cell_type": "markdown",
   "metadata": {},
   "source": [
    "### Questão 3 (1,5 pontos)\n",
    "\n"
   ]
  },
  {
   "cell_type": "markdown",
   "metadata": {},
   "source": [
    "Seja $\\mathbf t$ um vetor que contém valores de tempo, calcule $\\mathbf y$ de acordo com a equação a seguir:\n",
    "$$\n",
    "\\mathbf y = m_{1} + m_{2}\\mathbf t - \\frac{1}{2}m_{3}\\mathbf t² \\: ,\n",
    "$$\n",
    "\n",
    "em que \n",
    "\n",
    "$$\\mathbf{t} = \\left[\n",
    "\\begin{array}{c}\n",
    "1, 2, 3, 4, 5, 6, 7, 8, 9, 10\n",
    "\\end{array}\n",
    "\\right]$$\n",
    "\n",
    "e\n",
    "\n",
    "$$m_1 = 10; m_2 = 100; m_3 = 9.8$$\n",
    "\n",
    "Resposta esperada: $$\\mathbf{y} = \\left[ \n",
    "\\begin{array}{c}\n",
    "105.1 ,190.4, 265.9, 331.6, 387.5, 433.6, 469.9, 496.4, 513.1, 520.\n",
    "\\end{array}\n",
    "\\right]$$"
   ]
  },
  {
   "cell_type": "code",
   "execution_count": 52,
   "metadata": {},
   "outputs": [
    {
     "name": "stdout",
     "output_type": "stream",
     "text": [
      "y = [105.1, 190.4, 265.9, 331.6, 387.5, 433.6, 469.9, 496.4, 513.0999999999999, 520.0]\n"
     ]
    }
   ],
   "source": [
    "t = [1,2,3,4,5,6,7,8,9,10]\n",
    "m1 = 10\n",
    "m2 = 100\n",
    "m3 = 9.8\n",
    "list = []\n",
    "\n",
    "for i in t:\n",
    "    y = m1 + m2*i-1/2*m3*i**2\n",
    "    list.append (y)\n",
    "\n",
    "print ('y =', list)"
   ]
  },
  {
   "cell_type": "markdown",
   "metadata": {},
   "source": [
    "### Questão 4 (1,5 pontos)"
   ]
  },
  {
   "cell_type": "markdown",
   "metadata": {},
   "source": [
    "Escreva um programa que gere $n$ estações igualmente espaçadas no intervalo de `a` a `b`, sendo `a` o início e `b` o fim. Guarde as coordenadas em uma lista `coordenadas`.\n",
    "\n",
    "Por exemplo: Caso deseje que a lista tenha 10 estações entre 10 e 100, teremos 9 intervalos com espaçamento igual a 10. Nesse caso, o resultado final seria uma lista de coordenadas = [10, 20, 30, 40, 50, 60, 70, 80, 90, 100]\n",
    "\n",
    "*Dica*: Uma lista com $n$ estações, teremos $n-1$ intervalos, o espaçamento é dado por $ h = (b-a)/(n-1)$. As coordenadas podem ser geradas pela fórmula: $ x_i = a + i h$, sendo $i = 0, 1, ..., n+1.$"
   ]
  },
  {
   "cell_type": "code",
   "execution_count": 27,
   "metadata": {},
   "outputs": [
    {
     "name": "stdout",
     "output_type": "stream",
     "text": [
      "digite o início do intervalo: 10\n",
      "digite o fim do intervalo: 100\n",
      "insira a quantidade de estações: 10\n",
      "[10.0, 20.0, 30.0, 40.0, 50.0, 60.0, 70.0, 80.0, 90.0, 100.0]\n"
     ]
    }
   ],
   "source": [
    "a = int(input('digite o início do intervalo: '))\n",
    "b = int(input('digite o fim do intervalo: '))\n",
    "n = int (input ('insira a quantidade de estações: ')) \n",
    "\n",
    "h = (b-a)/(n - 1)   # espaçamento -- distância\n",
    "estacoes = []\n",
    "\n",
    "for i in range(n):\n",
    "    xi = a + i*h\n",
    "    estacoes.append(xi)\n",
    "\n",
    "print(estacoes)"
   ]
  },
  {
   "cell_type": "markdown",
   "metadata": {},
   "source": [
    "## Anomalia gravimétrica\n",
    "\n",
    "Uma anomalia gravimétrica é a diferença entre a aceleração da gravidade observada em um determinado local (geralmente um ponto na superfície da Terra), e o valor correspondente previsto a partir de um modelo do campo gravitacional do planeta. Normalmente, o modelo baseia-se em premissas simplificadas, tais como a de que o planeta é aproximado por elipsóide de revolução que contempla as dimensões, massa e rotação da Terra.\n",
    "\n",
    "A diferença entre o valor da aceleração da gravidade observada ($g_{obs}$) e a aceleração da gravidade teórica ($\\gamma$) é obtida através da fórmula: \n",
    "\n",
    "$$\\Delta g=g_{obs}-\\gamma$$ \n",
    "\n",
    "em que $\\Delta g$ é a anomalia gravimétrica. As anomalias gravimétricas descrevem as variações locais do campo de gravidade em relação ao campo gravitacional previsto pelo modelo ($\\gamma)$. Um local com uma anomalia positiva exibe mais gravidade do que o previsto pelo modelo sugerindo a presença de um excesso de massa, enquanto uma anomalia negativa exibe um valor mais baixo do que o previsto - sugerindo um déficit de massa. Estas anomalias são, portanto, de substancial interesse geofísico e geológico.\n",
    "\n",
    "**Anomalia Ar livre**\n",
    "\n",
    "De forma bastante simplificada, é a anomalia de gravidade medida após a aplicação de uma correção Ar-livre para compensar a elevação em que é feita uma medição. Para isso, ajustam-se estas medidas de gravidade ao que teria sido medido a um nível de referência, que é normalmente tomado como o nível médio do mar ou o geóide. O cálculo da anomalia é dado pela fórmula a seguir: \n",
    "\n",
    "$$ \\Delta g_{ar-livre}=g_{obs}-\\gamma-(-0,3086h) $$\n",
    "\n",
    "Onde 0,3086 é o gradiente de gravidade normal expresso em mGal/m e h é a elevação do ponto onde foi realizada a medida da aceleração da gravidade, em metros.\n",
    "\n",
    "**Anomalia Bouguer** \n",
    "\n",
    "É a anomalia corrigida para compensar, não só a elevação como a correção Ar-livre, mas também as massas presentes entre o ponto de observação e a superfície de referência. Ao aplicar esta correção, a anomalia restante é representativa sobretudo de variações de densidade em subsuperfície. A anomalia de Bouguer é dada por:\n",
    "\n",
    "$$ \\Delta g_{bouguer}=g_{obs}-\\gamma- (−0.3086 h +2\\pi G \\rho \\times10^{5} h ) $$\n",
    "\n",
    "em que $G = 6.674184 \\times 10^{-11}$ é a constante gravitacional e $\\rho = 2670$ é a densidade de referência do continente em g/cm³."
   ]
  },
  {
   "cell_type": "markdown",
   "metadata": {},
   "source": [
    "### Questão 5 (1,5 pontos)\n",
    "\n",
    "A partir dos vetores de gravidade observada ($g_{obs}$), gravidade teórica ($\\gamma$) e altitudes ($h$) fornecidos abaixo, calcule a anomalia Ar-livre utilizando a fórmula acima correspondente.\n",
    "\n",
    "*Resposta esperada* \n",
    "\n",
    "$\\Delta g_{ar-livre} = [29.17, 32.17, 34.34, 38.66, 41.33, 29.97, 29.42, 18.02, 13.16, 21.32, 23.38, 39.02, 52.39, 9.52, 17.19, 27.07, 67.91, 1.2, 39.65, 8.33, 53.8, 85.39, 20.36, 2.02, 3.66, -2.32, 11.55, 16.94, 19.94, 47.25]$"
   ]
  },
  {
   "cell_type": "code",
   "execution_count": 29,
   "metadata": {},
   "outputs": [],
   "source": [
    "# Gravidade observada\n",
    "\n",
    "g_obs = [978327.75895173, 978356.13786764, 978366.69919956, 978373.62929348, 978382.09717987, \n",
    "         978380.20431098, 978380.77447999, 978369.46532367, 978363.12556894, 978372.82134202, \n",
    "         978374.88115842, 978390.52501546, 978403.82877837, 978360.9993912 , 978368.69042058, \n",
    "         978378.45457184, 978419.41702798, 978352.70233265, 978391.15784458, 978359.8325173, \n",
    "         978405.29508957, 978436.89961504, 978371.8668729 , 978353.49779395, 978355.16050153, \n",
    "         978349.18970325, 978363.05588538, 978368.4333742, 978371.43210584, 978398.75068886]\n",
    "\n",
    "# Gravidade teórica\n",
    "\n",
    "gamma = [978351.50543132, 978351.50543132, 978351.50543132, 978351.50543132,\n",
    "       978351.50543132, 978351.50543132, 978351.50543132, 978351.50543132,\n",
    "       978351.50543132, 978351.50543132, 978351.50543132, 978351.50543132,\n",
    "       978351.50543132, 978351.50543132, 978351.50543132, 978351.50543132,\n",
    "       978351.50543132, 978351.50543132, 978351.50543132, 978351.50543132,\n",
    "       978351.50543132, 978351.50543132, 978351.50543132, 978351.50543132,\n",
    "       978351.50543132, 978351.50543132, 978351.50543132, 978351.50543132,\n",
    "       978351.50543132, 978351.50543132]\n",
    "\n",
    "# Altitude\n",
    "\n",
    "h = [171.48,  89.24,  62.04,  53.6 ,  34.8 ,   4.12,   0.  ,   0.  ,\n",
    "         5.  ,   0.  ,   0.  ,   0.  ,   0.  ,   0.  ,   0.  ,   0.  ,\n",
    "         0.  ,   0.  ,   0.  ,   0.  ,   0.  ,   0.  ,   0.  ,   0.  ,\n",
    "         0.  ,   0.  ,   0.  ,   0.  ,   0.  ,   0.  ]"
   ]
  },
  {
   "cell_type": "code",
   "execution_count": 30,
   "metadata": {},
   "outputs": [
    {
     "name": "stdout",
     "output_type": "stream",
     "text": [
      "Δ𝑔𝑎𝑟−𝑙𝑖𝑣𝑟𝑒 = [29.172248409925835, 32.171900319952826, 34.33931223992934, 38.66482215990409, 41.33102854995217, 29.97031165999078, 29.269048669957556, 17.959892349899746, 13.163137619902379, 21.31591069989372, 23.375727099948563, 39.01958413992543, 52.32334704999812, 9.493959879968315, 17.184989259927534, 26.94914051995147, 67.91159665992018, 1.1969013299094513, 39.65241325995885, 8.327085979981348, 53.78965824993793, 85.39418371999636, 20.361441579996608, 1.992362629971467, 3.655070209992118, -2.3157280700979754, 11.550454059964977, 16.927942879963666, 19.92667451989837, 47.24525753990747]\n"
     ]
    }
   ],
   "source": [
    "# Δ𝑔𝑎𝑟−𝑙𝑖𝑣𝑟𝑒 = 𝑔𝑜𝑏𝑠−𝛾−(−0,3086ℎ)   # gobs-y = gravidade observada  #y = aceleração da gravidade teórica\n",
    "# FÓRMULA: gar_livre = g_obs - gamma - (-0.3086)\n",
    "\n",
    "gar_livre = []\n",
    "\n",
    "for i in range(len(g_obs)):\n",
    "    gar_livre_i = g_obs[i] - gamma[i] - (-0.3086 * h[i])\n",
    "    gar_livre.append(gar_livre_i)\n",
    "    \n",
    "print ('Δ𝑔𝑎𝑟−𝑙𝑖𝑣𝑟𝑒 =', gar_livre)"
   ]
  },
  {
   "cell_type": "markdown",
   "metadata": {},
   "source": [
    "### Questão 6 (1,5 pontos)\n",
    "\n",
    "A partir dos vetores de gravidade observada ($g_{obs}$), gravidade teórica ($\\gamma$) e altitudes ($h$) fornecidos na questão anterior, calcule a anomalia Bouguer utilizando a fórmula dada anteriormente.\n",
    "\n",
    "*Resposta esperada*\n",
    "\n",
    "$\\Delta g_{bouguer} = [9.97, 22.18, 27.39, 32.66, 37.43, 29.51, 29.37, 18.  , 12.6 ,\n",
    "       21.32, 23.38, 39.02, 52.36,  9.51, 17.19, 27.03, 67.91,  1.2 ,\n",
    "       39.65,  8.33, 53.79, 85.39, 20.36,  2.01,  3.66, -2.32, 11.55,\n",
    "       16.93, 19.93, 47.25]$"
   ]
  },
  {
   "cell_type": "code",
   "execution_count": 41,
   "metadata": {},
   "outputs": [
    {
     "name": "stdout",
     "output_type": "stream",
     "text": [
      "Δ𝑔𝑏𝑜𝑢𝑔𝑢𝑒𝑟 =  [48.37231699548025, 42.1638184478679, 41.28573313477303, 44.666243178015336, 45.22747353932291, 30.431614917353063, 29.269048669957556, 17.959892349899746, 13.722971670099323, 21.31591069989372, 23.375727099948563, 39.01958413992543, 52.32334704999812, 9.493959879968315, 17.184989259927534, 26.94914051995147, 67.91159665992018, 1.1969013299094513, 39.65241325995885, 8.327085979981348, 53.78965824993793, 85.39418371999636, 20.361441579996608, 1.992362629971467, 3.655070209992118, -2.3157280700979754, 11.550454059964977, 16.927942879963666, 19.92667451989837, 47.24525753990747]\n"
     ]
    }
   ],
   "source": [
    "# Δ𝑔𝑏𝑜𝑢𝑔𝑢𝑒𝑟 = 𝑔ar_livre + (2 𝜋 𝐺 𝜌 × 10^5 ℎ) | constante gravitacional - 𝜌 = 2670 | 𝐺=6.674184 × 10**(-11)\n",
    "import numpy as np\n",
    "\n",
    "𝐺 = 6.674184 * 10 **-11\n",
    "p = 2670\n",
    "pi = np.pi\n",
    "g_bouguer = []\n",
    "\n",
    "for i in range(len(g_obs)):\n",
    "    g_bouguer_i = gar_livre[i] + ((2*pi*G*p) * (10**5 * h[i]))\n",
    "    g_bouguer.append(g_bouguer_i)\n",
    "    \n",
    "print ('Δ𝑔𝑏𝑜𝑢𝑔𝑢𝑒𝑟 = ', g_bouguer)"
   ]
  },
  {
   "cell_type": "markdown",
   "metadata": {},
   "source": [
    "### Questão 7 (2 pontos)\n",
    "\n",
    "Faça um programa que, dada as listas acima (g_obs, gamma e h), o usuário decida se deseja calcular a anomalia Ar-livre ou a anomalia Bouguer e retorne (imprima) o resultado correto. Crie uma opção para caso o usuário digite uma entrada inválida. \n",
    "\n",
    "*Dica: Utilize as formulas dadas no enunciado e aproveite os comandos dos programas que fez nas questões 5 e 6.*"
   ]
  },
  {
   "cell_type": "code",
   "execution_count": 33,
   "metadata": {},
   "outputs": [
    {
     "name": "stdout",
     "output_type": "stream",
     "text": [
      "Qual anomalia deseja calcular? Digite \"ar\" para Anomalia Ar-livre ou \"bouguer\" para Anomalia Bouguer: nada\n",
      "entrada inválida\n"
     ]
    }
   ],
   "source": [
    "calculo = input('Qual anomalia deseja calcular? Digite \"ar\" para Anomalia Ar-livre ou \"bouguer\" para Anomalia Bouguer: ')\n",
    "\n",
    "if calculo == 'ar':\n",
    "    print ('A anomalia ar é igual a:', gar_livre)\n",
    "elif calculo == 'bouguer':\n",
    "    print ('A anomalia Bouguer é igual a: ', g_bouguer)\n",
    "else :\n",
    "    print ('entrada inválida')"
   ]
  }
 ],
 "metadata": {
  "kernelspec": {
   "display_name": "Python 3",
   "language": "python",
   "name": "python3"
  },
  "language_info": {
   "codemirror_mode": {
    "name": "ipython",
    "version": 3
   },
   "file_extension": ".py",
   "mimetype": "text/x-python",
   "name": "python",
   "nbconvert_exporter": "python",
   "pygments_lexer": "ipython3",
   "version": "3.7.3"
  }
 },
 "nbformat": 4,
 "nbformat_minor": 4
}
