{
 "cells": [
  {
   "cell_type": "markdown",
   "metadata": {},
   "source": [
    "# Disciplina: Introdução a programação para geocientistas"
   ]
  },
  {
   "cell_type": "markdown",
   "metadata": {},
   "source": [
    "# Aula 8 - Estruturas de repetição - Parte 1"
   ]
  },
  {
   "cell_type": "markdown",
   "metadata": {},
   "source": [
    "Estrururas de repetição permitem que um bloco de comandos seja executado diversas vezes. Se baseiam em iterações que significa executar o mesmo bloco de código repetidamente, várias vezes. Uma estrutura de repetição que implementa a iteração é chamada *loop*.\n",
    "\n",
    "Há dois tipos de Repetição:\n",
    " * Repetição condicional: executa um bloco de código enquanto uma condição lógica for verdadeira (`while`)\n",
    " * Repetição contável: executa um bloco de código um número predeterminado de vezes (`for`)"
   ]
  },
  {
   "cell_type": "markdown",
   "metadata": {},
   "source": [
    "# `while`"
   ]
  },
  {
   "cell_type": "markdown",
   "metadata": {},
   "source": [
    "Para usarmos a repetição condicional no Python, usamos `while`. A sintaxe foi exemplificada abaixo:"
   ]
  },
  {
   "cell_type": "raw",
   "metadata": {},
   "source": [
    "while <condição>:\n",
    "    <instrução 1>\n",
    "    <instrução 2>\n",
    "    ...\n",
    "    <instrução n>"
   ]
  },
  {
   "cell_type": "markdown",
   "metadata": {},
   "source": [
    "`<instrução 1:n>` representam o bloco de instruções a serem executados repetidamente enquanto a `<condição>` for verdadeira. O bloco a ser executado é comumente chamado de corpo do *loop* e também deve ser identado, da mesma maneira que é feito nas estruturas de decisão `if`, `if/else` e `elif`.\n",
    "\n",
    "A `<condição>`, envolve tipicamente uma ou mais variáveis que são inicializadas antes de iniciar o *loop* e depois modificadas no corpo do *loop*.\n",
    "\n",
    "Quando o programa \"encontra\" um *loop*, a `<condição>` é primeiro avaliada no contexto booleano. Se for verdadeira, o corpo do *loop* é executado. Depois a `<condição>` é verificada novamente, e se ainda for verdadeira, o corpo é executado novamente. Isto continua até que a `<condição>` se torne falsa. Nesse momento a execução do programa prossegue para a primeira declaração após do corpo do *loop*."
   ]
  },
  {
   "cell_type": "code",
   "execution_count": 1,
   "metadata": {},
   "outputs": [
    {
     "name": "stdout",
     "output_type": "stream",
     "text": [
      "5\n",
      "4\n",
      "3\n",
      "2\n",
      "1\n"
     ]
    }
   ],
   "source": [
    "n = 5\n",
    "\n",
    "while n > 0:\n",
    "    print(n)\n",
    "    n -= 1   # n = n - 1"
   ]
  },
  {
   "cell_type": "markdown",
   "metadata": {},
   "source": [
    "Vamos analisar o que está acontecendo:\n",
    "\n",
    "* `n` é inicialmente atribuído o valor 5 e a `<condição>` é `n > 0`, sendo ela verdadeira, e por tanto, o programa executa o corpo do *loop*. Dentro do corpo `n` é impresso e depois modificado;\n",
    "\n",
    "* Quando o corpo do *loop* tiver terminado, a execução do programa regressa ao topo do *loop*, e a <condição> é novamente avaliada. Como `n = 4`, o programa continua executando;\n",
    "\n",
    "* Isto continua até que `n` se torne `0`. Nesse momento, quando a expressão é testada, é falsa, e o *loop* termina. A execução do programa seria retomada na primeira declaração após o corpo do *loop*, mas não há nenhuma neste caso.\n",
    "\n",
    "A condição do`while` ésempre testada antes. Se for falsa desde o começo, o corpo do *loop* nunca será executado."
   ]
  },
  {
   "cell_type": "code",
   "execution_count": 2,
   "metadata": {},
   "outputs": [],
   "source": [
    "n = 0\n",
    "while n > 0:\n",
    "    print(n)\n",
    "    n -= 1"
   ]
  },
  {
   "cell_type": "code",
   "execution_count": 5,
   "metadata": {},
   "outputs": [
    {
     "name": "stdout",
     "output_type": "stream",
     "text": [
      "baz\n",
      "['foo', 'bar']\n",
      "bar\n",
      "['foo']\n",
      "foo\n",
      "[]\n"
     ]
    }
   ],
   "source": [
    "a = ['foo', 'bar', 'baz']\n",
    "\n",
    "while a:\n",
    "    print(a.pop(-1))\n",
    "    print (a)"
   ]
  },
  {
   "cell_type": "markdown",
   "metadata": {},
   "source": [
    "Quando uma lista é avaliada no contexto booleano, é verdadeiro queando se tem elementos nela e falso se a lista está vazia. \n",
    "\n",
    "No exemplo anterior, a cada iteração um elemento é removido da lista com a função `.pop()`. Uma vez removidos todos os elementos e a lista estiver vazia, `a` é falsa, e o *loop* termina."
   ]
  },
  {
   "cell_type": "markdown",
   "metadata": {},
   "source": [
    "### Loop infinito"
   ]
  },
  {
   "cell_type": "code",
   "execution_count": null,
   "metadata": {},
   "outputs": [],
   "source": [
    "while True:\n",
    "       print('infinite loop')"
   ]
  },
  {
   "cell_type": "markdown",
   "metadata": {},
   "source": [
    "## Loop aninhado (*Nested loop*)"
   ]
  },
  {
   "cell_type": "markdown",
   "metadata": {},
   "source": [
    "Em geral, as estruturas de controle do Python podem ser aninhadas umas dentro das outras. Por exemplo, as declarações condicionais `if/elif/else` podem ser aninhadas como no exemplo a seguir:"
   ]
  },
  {
   "cell_type": "raw",
   "metadata": {},
   "source": [
    "if age < 18:\n",
    "    if gender == 'M':\n",
    "        print('son')\n",
    "    else:\n",
    "        print('daughter')\n",
    "elif age >= 18 and age < 65:\n",
    "    if gender == 'M':\n",
    "        print('father')\n",
    "    else:\n",
    "        print('mother')\n",
    "else:\n",
    "    if gender == 'M':\n",
    "        print('grandfather')\n",
    "    else:\n",
    "        print('grandmother')"
   ]
  },
  {
   "cell_type": "markdown",
   "metadata": {},
   "source": [
    "Da mesma forma, um *loop* pode ser contido dentro de outro *loop*, como mostrado abaixo:"
   ]
  },
  {
   "cell_type": "code",
   "execution_count": 7,
   "metadata": {},
   "outputs": [
    {
     "name": "stdout",
     "output_type": "stream",
     "text": [
      "foo\n",
      "> baz\n",
      "> qux\n",
      "bar\n",
      "> baz\n",
      "> qux\n"
     ]
    }
   ],
   "source": [
    "a = ['foo', 'bar']\n",
    "while len(a):\n",
    "    print(a.pop(0))\n",
    "    b = ['baz', 'qux']\n",
    "    while len(b):\n",
    "        print('>', b.pop(0))"
   ]
  },
  {
   "cell_type": "markdown",
   "metadata": {},
   "source": [
    "Além disso, os loops `while`podem ser aninhados dentro de declarações de condição `if/elif/else`, e vice versa:\n"
   ]
  },
  {
   "cell_type": "raw",
   "metadata": {},
   "source": [
    "if <condição>:\n",
    "    <instrução>\n",
    "    while <condição>:\n",
    "        <instrução>\n",
    "        <instrução>\n",
    "else:\n",
    "    while <condição>:\n",
    "        <instrução>\n",
    "        <instrução>\n",
    "    <instrução>"
   ]
  },
  {
   "cell_type": "raw",
   "metadata": {},
   "source": [
    "while <condição>:\n",
    "    if <condição>:\n",
    "        <instrução>\n",
    "    elif <condição>:\n",
    "        <instrução>\n",
    "    else:\n",
    "        <instrução>\n",
    "\n",
    "    if <condição>:\n",
    "        <instrução>"
   ]
  },
  {
   "cell_type": "markdown",
   "metadata": {},
   "source": [
    "# Exemplos\n",
    "\n",
    "(baseado nas aulas do prof Leonardo Murta - http://www.ic.uff.br/~leomurta/courses)"
   ]
  },
  {
   "cell_type": "markdown",
   "metadata": {},
   "source": [
    "## Exemplo 1 - números"
   ]
  },
  {
   "cell_type": "markdown",
   "metadata": {},
   "source": [
    "Programa que imprime os números de 0 a 100, incluindo-os."
   ]
  },
  {
   "cell_type": "code",
   "execution_count": null,
   "metadata": {},
   "outputs": [],
   "source": [
    "num = 0\n",
    "\n",
    "while num <= 100:\n",
    "    print(num)\n",
    "    num +=1   # num = num + 1"
   ]
  },
  {
   "cell_type": "markdown",
   "metadata": {},
   "source": [
    "## Exemplo 2 - contador"
   ]
  },
  {
   "cell_type": "markdown",
   "metadata": {},
   "source": [
    "Programa que imprime a **quantidade** de números pares de 0 a 100, incluindo-os."
   ]
  },
  {
   "cell_type": "code",
   "execution_count": 8,
   "metadata": {},
   "outputs": [
    {
     "name": "stdout",
     "output_type": "stream",
     "text": [
      "51\n"
     ]
    }
   ],
   "source": [
    "num = 0\n",
    "cont_pares = 0\n",
    "\n",
    "while num <= 100:\n",
    "    if num % 2 == 0:\n",
    "        cont_pares += 1   # cont_pares = cont_pares + 1\n",
    "    num += 1\n",
    "\n",
    "print(cont_pares)"
   ]
  },
  {
   "cell_type": "markdown",
   "metadata": {},
   "source": [
    "Entre dois números quaisquer:"
   ]
  },
  {
   "cell_type": "code",
   "execution_count": 9,
   "metadata": {},
   "outputs": [
    {
     "name": "stdout",
     "output_type": "stream",
     "text": [
      "Digite o número inicial: 23\n",
      "Digite o número final: 896\n",
      "437\n"
     ]
    }
   ],
   "source": [
    "num1 = int(input('Digite o número inicial: '))\n",
    "num2 = int(input('Digite o número final: '))\n",
    "cont_pares = 0\n",
    "\n",
    "while num1 <= num2:\n",
    "    if num1 % 2 == 0:\n",
    "        cont_pares += 1\n",
    "    num1 += 1\n",
    "\n",
    "print(cont_pares)"
   ]
  },
  {
   "cell_type": "markdown",
   "metadata": {},
   "source": [
    "Faça o mesmo para números ímpares:"
   ]
  },
  {
   "cell_type": "code",
   "execution_count": null,
   "metadata": {},
   "outputs": [],
   "source": []
  },
  {
   "cell_type": "markdown",
   "metadata": {},
   "source": [
    "## Exemplo 3 - acumulador\n",
    "\n",
    "Programa que imprime a soma de todos os números pares entre dois números quaisquer, incluindo-os."
   ]
  },
  {
   "cell_type": "code",
   "execution_count": 12,
   "metadata": {},
   "outputs": [
    {
     "name": "stdout",
     "output_type": "stream",
     "text": [
      "número par 0\n",
      "soma 0\n",
      "número par 2\n",
      "soma 2\n",
      "número par 4\n",
      "soma 6\n",
      "número par 6\n",
      "soma 12\n",
      "A soma é 12\n"
     ]
    }
   ],
   "source": [
    "num1 = 0\n",
    "num2 = 6\n",
    "soma = 0\n",
    "\n",
    "while num1 <= num2:\n",
    "    if num1 % 2 == 0:\n",
    "        print ('número par', num1)\n",
    "        soma += num1   # soma = soma + num1\n",
    "        print ('soma', soma)\n",
    "    num1 += 1\n",
    "print('A soma é', soma)"
   ]
  },
  {
   "cell_type": "markdown",
   "metadata": {},
   "source": [
    "## Exemplo 4 - fatorial"
   ]
  },
  {
   "cell_type": "code",
   "execution_count": 14,
   "metadata": {},
   "outputs": [
    {
     "name": "stdout",
     "output_type": "stream",
     "text": [
      "6\n",
      "5\n",
      "4\n",
      "3\n",
      "2\n",
      "1\n",
      "O fatorial de 6 é 720\n"
     ]
    }
   ],
   "source": [
    "num = 6\n",
    "numero = num\n",
    "fatorial = 1\n",
    "\n",
    "while num > 0:\n",
    "    print (num)\n",
    "    fatorial *= num  # fatorial = fatorial * num \n",
    "    num -= 1\n",
    "print('O fatorial de', numero, 'é', fatorial)"
   ]
  },
  {
   "cell_type": "markdown",
   "metadata": {},
   "source": [
    "## Exemplo 5 - random"
   ]
  },
  {
   "cell_type": "markdown",
   "metadata": {},
   "source": [
    "Programa que gere números inteiros aleatórios entre 1 e 10 e calcule a soma desses números, até que seja gerado um número num que foi informado pelo usuário anteriormente.\n",
    "\n",
    " - Dica 1: o usuário deve digitar um número entre 1 e 10 e guarde o valor em `num`\n",
    " -  Dica2: vamos usar a função randint(inicio, fim) da biblioteca random para gerar um número aleatório entre 1 e 10\n",
    " \n",
    " https://docs.python.org/3/library/random.html"
   ]
  },
  {
   "cell_type": "code",
   "execution_count": 29,
   "metadata": {},
   "outputs": [
    {
     "data": {
      "text/plain": [
       "7"
      ]
     },
     "execution_count": 29,
     "metadata": {},
     "output_type": "execute_result"
    }
   ],
   "source": [
    "import random\n",
    "\n",
    "num_sorteado = random.randint(1,10)\n",
    "num_sorteado"
   ]
  },
  {
   "cell_type": "code",
   "execution_count": 31,
   "metadata": {},
   "outputs": [
    {
     "name": "stdout",
     "output_type": "stream",
     "text": [
      "Digite um número inteiro entre 1 e 10: 3\n",
      "Número sorteado: 8\n",
      "Número sorteado: 8\n",
      "Número sorteado: 3\n",
      "A soma é 16\n"
     ]
    }
   ],
   "source": [
    "num = int(input('Digite um número inteiro entre 1 e 10: '))\n",
    "soma = 0\n",
    "# num_sorteado = random.randint(1,10)\n",
    "\n",
    "print('Número sorteado:', num_sorteado)\n",
    "\n",
    "while num != num_sorteado:\n",
    "    soma += num_sorteado\n",
    "    num_sorteado = random.randint(1,10)\n",
    "    print('Número sorteado:', num_sorteado)\n",
    "    \n",
    "print('A soma é', soma)"
   ]
  },
  {
   "cell_type": "markdown",
   "metadata": {},
   "source": [
    "# Exercícios"
   ]
  },
  {
   "cell_type": "markdown",
   "metadata": {},
   "source": [
    "### 1.\n",
    "Faça um programa que gere números inteiros aleatórios entre 1 e 50 e calcule a soma desses números , até que seja gerado um número num que foi informado pelo usuário anteriormente. Observação: Realiza a soma **apenas com os números pares**."
   ]
  },
  {
   "cell_type": "code",
   "execution_count": null,
   "metadata": {},
   "outputs": [],
   "source": []
  },
  {
   "cell_type": "markdown",
   "metadata": {},
   "source": [
    "## 2."
   ]
  },
  {
   "cell_type": "markdown",
   "metadata": {},
   "source": [
    "Faça um programa para montar a tabela de multiplicação de números de 1 a 10 \n",
    "\n",
    "ex.:\n",
    "\n",
    "$$ 1 \\times 1 = 1 $$\n",
    "$$ 1 \\times 2 = 2 $$\n",
    "$$ ... $$"
   ]
  },
  {
   "cell_type": "code",
   "execution_count": null,
   "metadata": {},
   "outputs": [],
   "source": []
  },
  {
   "cell_type": "markdown",
   "metadata": {},
   "source": [
    "### 3.\n",
    "\n",
    "Peça para o usuário digitar 5 números do teclado usando loop e imprima a média dos números"
   ]
  },
  {
   "cell_type": "code",
   "execution_count": null,
   "metadata": {},
   "outputs": [],
   "source": []
  },
  {
   "cell_type": "markdown",
   "metadata": {},
   "source": [
    "## 4. \n",
    "\n",
    "Escreva um programa para encontrar os números que são divisíveis por 3 e múltiplos de 5, entre 1500 e 2700 (ambos incluídos)."
   ]
  },
  {
   "cell_type": "code",
   "execution_count": null,
   "metadata": {},
   "outputs": [],
   "source": []
  },
  {
   "cell_type": "markdown",
   "metadata": {},
   "source": [
    "## 5.\n",
    "\n",
    "Escreva um programa em que o usuário adivinhe um número entre 1 e 10. O usuário deve digitar o número no teclado. Se errar o programa deve pedir para tentar novamente até que acerte o número. Quando acertar, o programa deve parabenizar o usuário e encerrar a execução."
   ]
  },
  {
   "cell_type": "code",
   "execution_count": null,
   "metadata": {},
   "outputs": [],
   "source": []
  }
 ],
 "metadata": {
  "kernelspec": {
   "display_name": "Python 3",
   "language": "python",
   "name": "python3"
  },
  "language_info": {
   "codemirror_mode": {
    "name": "ipython",
    "version": 3
   },
   "file_extension": ".py",
   "mimetype": "text/x-python",
   "name": "python",
   "nbconvert_exporter": "python",
   "pygments_lexer": "ipython3",
   "version": "3.7.3"
  }
 },
 "nbformat": 4,
 "nbformat_minor": 4
}
