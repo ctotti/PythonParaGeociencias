{
 "cells": [
  {
   "cell_type": "code",
   "execution_count": 1,
   "id": "066404cc",
   "metadata": {},
   "outputs": [],
   "source": [
    "import numpy as np\n",
    "import matplotlib.pyplot as plt"
   ]
  },
  {
   "cell_type": "code",
   "execution_count": 2,
   "id": "d383a293",
   "metadata": {},
   "outputs": [
    {
     "data": {
      "text/plain": [
       "[1, 2, 3, 4, 5]"
      ]
     },
     "execution_count": 2,
     "metadata": {},
     "output_type": "execute_result"
    }
   ],
   "source": [
    "lista = [1, 2, 3, 4, 5]\n",
    "lista"
   ]
  },
  {
   "cell_type": "code",
   "execution_count": 3,
   "id": "f9c412f1",
   "metadata": {},
   "outputs": [
    {
     "data": {
      "text/plain": [
       "array([1., 2., 3., 4., 5.])"
      ]
     },
     "execution_count": 3,
     "metadata": {},
     "output_type": "execute_result"
    }
   ],
   "source": [
    "array = np.array([1.0, 2.0, 3., 4., 5.])\n",
    "array"
   ]
  },
  {
   "cell_type": "code",
   "execution_count": 4,
   "id": "98e07365",
   "metadata": {},
   "outputs": [
    {
     "data": {
      "text/plain": [
       "array([ 1,  3,  5,  7,  9, 11, 13, 15, 17, 19, 21, 23, 25, 27, 29, 31, 33,\n",
       "       35, 37, 39, 41, 43, 45, 47, 49, 51, 53, 55, 57, 59, 61, 63, 65, 67,\n",
       "       69, 71, 73, 75, 77, 79, 81, 83, 85, 87, 89, 91, 93, 95, 97, 99])"
      ]
     },
     "execution_count": 4,
     "metadata": {},
     "output_type": "execute_result"
    }
   ],
   "source": [
    "a = np.arange(1,101,2)\n",
    "a"
   ]
  },
  {
   "cell_type": "code",
   "execution_count": 5,
   "id": "644d0e28",
   "metadata": {},
   "outputs": [
    {
     "data": {
      "text/plain": [
       "array([  1.,   2.,   3.,   4.,   5.,   6.,   7.,   8.,   9.,  10.,  11.,\n",
       "        12.,  13.,  14.,  15.,  16.,  17.,  18.,  19.,  20.,  21.,  22.,\n",
       "        23.,  24.,  25.,  26.,  27.,  28.,  29.,  30.,  31.,  32.,  33.,\n",
       "        34.,  35.,  36.,  37.,  38.,  39.,  40.,  41.,  42.,  43.,  44.,\n",
       "        45.,  46.,  47.,  48.,  49.,  50.,  51.,  52.,  53.,  54.,  55.,\n",
       "        56.,  57.,  58.,  59.,  60.,  61.,  62.,  63.,  64.,  65.,  66.,\n",
       "        67.,  68.,  69.,  70.,  71.,  72.,  73.,  74.,  75.,  76.,  77.,\n",
       "        78.,  79.,  80.,  81.,  82.,  83.,  84.,  85.,  86.,  87.,  88.,\n",
       "        89.,  90.,  91.,  92.,  93.,  94.,  95.,  96.,  97.,  98.,  99.,\n",
       "       100.])"
      ]
     },
     "execution_count": 5,
     "metadata": {},
     "output_type": "execute_result"
    }
   ],
   "source": [
    "b = np.linspace(1,100,100)\n",
    "b"
   ]
  },
  {
   "cell_type": "code",
   "execution_count": 6,
   "id": "88233611",
   "metadata": {},
   "outputs": [],
   "source": [
    "c = np.arange(0,1001,5)"
   ]
  },
  {
   "cell_type": "code",
   "execution_count": 7,
   "id": "061c49fc",
   "metadata": {},
   "outputs": [
    {
     "data": {
      "text/plain": [
       "array([   0,    5,   10,   15,   20,   25,   30,   35,   40,   45,   50,\n",
       "         55,   60,   65,   70,   75,   80,   85,   90,   95,  100,  105,\n",
       "        110,  115,  120,  125,  130,  135,  140,  145,  150,  155,  160,\n",
       "        165,  170,  175,  180,  185,  190,  195,  200,  205,  210,  215,\n",
       "        220,  225,  230,  235,  240,  245,  250,  255,  260,  265,  270,\n",
       "        275,  280,  285,  290,  295,  300,  305,  310,  315,  320,  325,\n",
       "        330,  335,  340,  345,  350,  355,  360,  365,  370,  375,  380,\n",
       "        385,  390,  395,  400,  405,  410,  415,  420,  425,  430,  435,\n",
       "        440,  445,  450,  455,  460,  465,  470,  475,  480,  485,  490,\n",
       "        495,  500,  505,  510,  515,  520,  525,  530,  535,  540,  545,\n",
       "        550,  555,  560,  565,  570,  575,  580,  585,  590,  595,  600,\n",
       "        605,  610,  615,  620,  625,  630,  635,  640,  645,  650,  655,\n",
       "        660,  665,  670,  675,  680,  685,  690,  695,  700,  705,  710,\n",
       "        715,  720,  725,  730,  735,  740,  745,  750,  755,  760,  765,\n",
       "        770,  775,  780,  785,  790,  795,  800,  805,  810,  815,  820,\n",
       "        825,  830,  835,  840,  845,  850,  855,  860,  865,  870,  875,\n",
       "        880,  885,  890,  895,  900,  905,  910,  915,  920,  925,  930,\n",
       "        935,  940,  945,  950,  955,  960,  965,  970,  975,  980,  985,\n",
       "        990,  995, 1000])"
      ]
     },
     "execution_count": 7,
     "metadata": {},
     "output_type": "execute_result"
    }
   ],
   "source": [
    "c"
   ]
  },
  {
   "cell_type": "code",
   "execution_count": 8,
   "id": "69c5440b",
   "metadata": {},
   "outputs": [],
   "source": [
    "d = np.linspace(0,200)"
   ]
  },
  {
   "cell_type": "code",
   "execution_count": 9,
   "id": "805581ea",
   "metadata": {},
   "outputs": [
    {
     "data": {
      "text/plain": [
       "array([  0.        ,   4.08163265,   8.16326531,  12.24489796,\n",
       "        16.32653061,  20.40816327,  24.48979592,  28.57142857,\n",
       "        32.65306122,  36.73469388,  40.81632653,  44.89795918,\n",
       "        48.97959184,  53.06122449,  57.14285714,  61.2244898 ,\n",
       "        65.30612245,  69.3877551 ,  73.46938776,  77.55102041,\n",
       "        81.63265306,  85.71428571,  89.79591837,  93.87755102,\n",
       "        97.95918367, 102.04081633, 106.12244898, 110.20408163,\n",
       "       114.28571429, 118.36734694, 122.44897959, 126.53061224,\n",
       "       130.6122449 , 134.69387755, 138.7755102 , 142.85714286,\n",
       "       146.93877551, 151.02040816, 155.10204082, 159.18367347,\n",
       "       163.26530612, 167.34693878, 171.42857143, 175.51020408,\n",
       "       179.59183673, 183.67346939, 187.75510204, 191.83673469,\n",
       "       195.91836735, 200.        ])"
      ]
     },
     "execution_count": 9,
     "metadata": {},
     "output_type": "execute_result"
    }
   ],
   "source": [
    "d"
   ]
  },
  {
   "cell_type": "code",
   "execution_count": 10,
   "id": "401a6fab",
   "metadata": {},
   "outputs": [
    {
     "data": {
      "text/plain": [
       "array([[1, 2, 3],\n",
       "       [4, 5, 6]])"
      ]
     },
     "execution_count": 10,
     "metadata": {},
     "output_type": "execute_result"
    }
   ],
   "source": [
    "matriz = np.array([[1, 2, 3],[4, 5, 6]])\n",
    "matriz"
   ]
  },
  {
   "cell_type": "code",
   "execution_count": 11,
   "id": "3a2155b2",
   "metadata": {},
   "outputs": [
    {
     "data": {
      "text/plain": [
       "array([[1, 2, 3],\n",
       "       [4, 5, 6],\n",
       "       [7, 8, 9]])"
      ]
     },
     "execution_count": 11,
     "metadata": {},
     "output_type": "execute_result"
    }
   ],
   "source": [
    "matriz2 = np.array([[1, 2, 3],[4, 5, 6], [7, 8, 9]])\n",
    "matriz2"
   ]
  },
  {
   "cell_type": "code",
   "execution_count": 12,
   "id": "9f202f90",
   "metadata": {},
   "outputs": [
    {
     "data": {
      "text/plain": [
       "array([[1, 2, 4],\n",
       "       [4, 5, 6],\n",
       "       [7, 8, 9]])"
      ]
     },
     "execution_count": 12,
     "metadata": {},
     "output_type": "execute_result"
    }
   ],
   "source": [
    "matriz2 = np.array([[1, 2, 4],\n",
    "                    [4, 5, 6], \n",
    "                    [7, 8, 9]])\n",
    "\n",
    "matriz2"
   ]
  },
  {
   "cell_type": "code",
   "execution_count": 13,
   "id": "4c006f8d",
   "metadata": {},
   "outputs": [
    {
     "data": {
      "text/plain": [
       "array([1, 2, 3, 4, 5, 6, 7, 8, 9])"
      ]
     },
     "execution_count": 13,
     "metadata": {},
     "output_type": "execute_result"
    }
   ],
   "source": [
    "a = np.arange(1,10)\n",
    "a"
   ]
  },
  {
   "cell_type": "code",
   "execution_count": 14,
   "id": "c3b4d2d8",
   "metadata": {},
   "outputs": [
    {
     "data": {
      "text/plain": [
       "array([[1, 2, 3],\n",
       "       [4, 5, 6],\n",
       "       [7, 8, 9]])"
      ]
     },
     "execution_count": 14,
     "metadata": {},
     "output_type": "execute_result"
    }
   ],
   "source": [
    "matriz3 = a.reshape((3,3))\n",
    "matriz3"
   ]
  },
  {
   "cell_type": "code",
   "execution_count": 15,
   "id": "2486a8ea",
   "metadata": {},
   "outputs": [],
   "source": [
    "matriz3 = np.arange(1,10).reshape(3,3)"
   ]
  },
  {
   "cell_type": "code",
   "execution_count": 16,
   "id": "4e98e813",
   "metadata": {},
   "outputs": [
    {
     "data": {
      "text/plain": [
       "array([[1, 2, 3],\n",
       "       [4, 5, 6],\n",
       "       [7, 8, 9]])"
      ]
     },
     "execution_count": 16,
     "metadata": {},
     "output_type": "execute_result"
    }
   ],
   "source": [
    "matriz3"
   ]
  },
  {
   "cell_type": "code",
   "execution_count": 17,
   "id": "6e4a70e3",
   "metadata": {},
   "outputs": [
    {
     "data": {
      "text/plain": [
       "False"
      ]
     },
     "execution_count": 17,
     "metadata": {},
     "output_type": "execute_result"
    }
   ],
   "source": [
    "np.allclose(matriz2,matriz3)"
   ]
  },
  {
   "cell_type": "code",
   "execution_count": 18,
   "id": "0824db0d",
   "metadata": {},
   "outputs": [
    {
     "data": {
      "text/plain": [
       "array([[1, 2, 3],\n",
       "       [4, 5, 6],\n",
       "       [7, 8, 9]])"
      ]
     },
     "execution_count": 18,
     "metadata": {},
     "output_type": "execute_result"
    }
   ],
   "source": [
    "matriz3"
   ]
  },
  {
   "cell_type": "code",
   "execution_count": 19,
   "id": "f12581e6",
   "metadata": {},
   "outputs": [
    {
     "data": {
      "text/plain": [
       "(2, 3)"
      ]
     },
     "execution_count": 19,
     "metadata": {},
     "output_type": "execute_result"
    }
   ],
   "source": [
    "np.shape(matriz)"
   ]
  },
  {
   "cell_type": "code",
   "execution_count": null,
   "id": "ea62ce0b",
   "metadata": {},
   "outputs": [],
   "source": []
  }
 ],
 "metadata": {
  "kernelspec": {
   "display_name": "Python 3",
   "language": "python",
   "name": "python3"
  },
  "language_info": {
   "codemirror_mode": {
    "name": "ipython",
    "version": 3
   },
   "file_extension": ".py",
   "mimetype": "text/x-python",
   "name": "python",
   "nbconvert_exporter": "python",
   "pygments_lexer": "ipython3",
   "version": "3.8.3"
  }
 },
 "nbformat": 4,
 "nbformat_minor": 5
}
