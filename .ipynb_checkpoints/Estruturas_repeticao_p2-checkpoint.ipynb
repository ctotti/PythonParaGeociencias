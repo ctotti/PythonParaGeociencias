{
 "cells": [
  {
   "cell_type": "markdown",
   "metadata": {},
   "source": [
    "# Disciplina: Introdução a programação para geocientistas"
   ]
  },
  {
   "cell_type": "markdown",
   "metadata": {},
   "source": [
    "# Aula 8 - Estruturas de repetição - Parte 2"
   ]
  },
  {
   "cell_type": "markdown",
   "metadata": {},
   "source": [
    "Estrururas de repetição permitem que um bloco de comandos seja executado diversas vezes. Se baseiam em iterações que significa executar o mesmo bloco de código repetidamente, várias vezes. Uma estrutura de repetição que implementa a iteração é chamada *loop*.\n",
    "\n",
    "Há dois tipos de Repetição:\n",
    " * Repetição condicional: executa um bloco de código enquanto uma condição lógica for verdadeira (`while`)\n",
    " * **Repetição contável: executa um bloco de código um número predeterminado de vezes (`for`)**"
   ]
  },
  {
   "cell_type": "markdown",
   "metadata": {},
   "source": [
    "# `for`"
   ]
  },
  {
   "cell_type": "markdown",
   "metadata": {},
   "source": [
    "Para usarmos a repetição condicional no Python, usamos `for`. A sintaxe foi exemplificada abaixo:"
   ]
  },
  {
   "cell_type": "raw",
   "metadata": {},
   "source": [
    "for <variavel> in (<faixa de valores>):\n",
    "    <instrução 1>\n",
    "    <instrução 2>\n",
    "    ...\n",
    "    <instrução n>"
   ]
  },
  {
   "cell_type": "markdown",
   "metadata": {},
   "source": [
    "`<faixa de valores>` é uma coleção de objetos - por exemplo, uma lista ou um tupla, ou um intervalo de iterações. As instruções `<instrução...>` no corpo do *loop* são denotados por indentação, como em todas as estruturas de controle do Python, e são executados uma vez para cada item em `<faixa de valores>`. A variável do *loop* `<variavel>` assume o valor do elemento seguinte em `<faixa de valores>` a cada iteração do *loop*."
   ]
  },
  {
   "cell_type": "markdown",
   "metadata": {},
   "source": [
    "### `<faixa de valores>` é uma lista"
   ]
  },
  {
   "cell_type": "code",
   "execution_count": 1,
   "metadata": {},
   "outputs": [
    {
     "name": "stdout",
     "output_type": "stream",
     "text": [
      "0\n",
      "1\n",
      "2\n",
      "3\n",
      "4\n"
     ]
    }
   ],
   "source": [
    "for i in (0,1,2,3,4):\n",
    "    print(i)"
   ]
  },
  {
   "cell_type": "markdown",
   "metadata": {},
   "source": [
    "Neste exemplo, `<faixa de valores>` é uma lista, e `<variável>` é a variável `i`. A cada vez que passa pelo loop, `i` assume um item sucessivo da lista. `print(i)` será repetido 5 vezes, uma para cada valor especificado entre parÊnteses no comando `for`. Eu também posso atribuir a lista da `<faixa de valores>` anteriormente, a uma variável qualquer:"
   ]
  },
  {
   "cell_type": "code",
   "execution_count": 2,
   "metadata": {},
   "outputs": [
    {
     "name": "stdout",
     "output_type": "stream",
     "text": [
      "0\n",
      "1\n",
      "2\n",
      "3\n",
      "4\n"
     ]
    }
   ],
   "source": [
    "lista = [0,1,2,3,4]\n",
    "\n",
    "for i in lista:\n",
    "    print(i)"
   ]
  },
  {
   "cell_type": "code",
   "execution_count": 3,
   "metadata": {},
   "outputs": [
    {
     "name": "stdout",
     "output_type": "stream",
     "text": [
      "Tarsila\n",
      "Frida\n",
      "Malfatti\n"
     ]
    }
   ],
   "source": [
    "lista = ['Tarsila', 'Frida', 'Malfatti']\n",
    "\n",
    "for i in lista:\n",
    "    print(i)"
   ]
  },
  {
   "cell_type": "markdown",
   "metadata": {},
   "source": [
    "É possível também, iterar simultaneamente através das chaves e dos valores de uma tupla ou lista. Isto porque a variável *loop* do tipo `for` não está limitada a uma única variável. Nesse caso, as atribuições são feitas a partir dos itens da `<faixa de valores>`, utilizando o \"desempacotamento\", tal como com uma declaração de atribuição:\n"
   ]
  },
  {
   "cell_type": "code",
   "execution_count": 5,
   "metadata": {},
   "outputs": [
    {
     "name": "stdout",
     "output_type": "stream",
     "text": [
      "1 2 3\n"
     ]
    }
   ],
   "source": [
    "# Relembrando o desempacotamento\n",
    "\n",
    "i, j, k = [1, 2, 3]\n",
    "print(i,j,k)"
   ]
  },
  {
   "cell_type": "code",
   "execution_count": 8,
   "metadata": {},
   "outputs": [
    {
     "name": "stdout",
     "output_type": "stream",
     "text": [
      "1 2\n",
      "3 4\n",
      "5 6\n"
     ]
    }
   ],
   "source": [
    "for i, j in ([1, 2], [3, 4], [5, 6]):\n",
    "    print(i,j)"
   ]
  },
  {
   "cell_type": "code",
   "execution_count": 9,
   "metadata": {},
   "outputs": [
    {
     "name": "stdout",
     "output_type": "stream",
     "text": [
      "0 1 2\n",
      "Tarsila Frida Malfatti\n"
     ]
    }
   ],
   "source": [
    "a = [0, 1, 2]\n",
    "b = ['Tarsila', 'Frida', 'Malfatti']\n",
    "\n",
    "for i, j, k in ([a, b]):\n",
    "    print(i, j, k)"
   ]
  },
  {
   "cell_type": "markdown",
   "metadata": {},
   "source": [
    "### Função `zip()`\n",
    "\n",
    "Permite iterar em cada elemento de cada lista ou tupla que são \" embaladas\".\n",
    "\n",
    "https://docs.python.org/3.3/library/functions.html#zip\n",
    "https://www.geeksforgeeks.org/zip-in-python/"
   ]
  },
  {
   "cell_type": "code",
   "execution_count": 10,
   "metadata": {},
   "outputs": [
    {
     "name": "stdout",
     "output_type": "stream",
     "text": [
      "0 Tarsila\n",
      "1 Frida\n",
      "2 Malfatti\n"
     ]
    }
   ],
   "source": [
    "for i, j in zip(a, b):\n",
    "    print(i, j)"
   ]
  },
  {
   "cell_type": "markdown",
   "metadata": {},
   "source": [
    "### `<faixa de valores>` é um intervalo"
   ]
  },
  {
   "cell_type": "markdown",
   "metadata": {},
   "source": [
    "Os valores podem ser especificados como um intervalo com início, fim e incremento, usando `range`."
   ]
  },
  {
   "cell_type": "code",
   "execution_count": 13,
   "metadata": {},
   "outputs": [
    {
     "name": "stdout",
     "output_type": "stream",
     "text": [
      "0\n",
      "1\n",
      "2\n",
      "3\n",
      "4\n"
     ]
    }
   ],
   "source": [
    "for i in range(0,5):\n",
    "    print(i)"
   ]
  },
  {
   "cell_type": "markdown",
   "metadata": {},
   "source": [
    "Nesse caso, `range` define o intervalo de iterações que se deseja realizar o *loop*, e tem o seguinte formato: `range(inicio,fim,passo):`. Quando o passo é `1`, ele pode ser omitido da sintaxe.\n",
    "\n",
    "Dessa forma, a variável `i` vai iterar o número de vezes pre-determinado, no exemplo acima, 5 vezes."
   ]
  },
  {
   "cell_type": "code",
   "execution_count": 14,
   "metadata": {},
   "outputs": [
    {
     "name": "stdout",
     "output_type": "stream",
     "text": [
      "0\n",
      "1\n",
      "2\n",
      "3\n",
      "4\n"
     ]
    }
   ],
   "source": [
    "for i in range(5):\n",
    "    print(i)"
   ]
  },
  {
   "cell_type": "code",
   "execution_count": 15,
   "metadata": {},
   "outputs": [
    {
     "name": "stdout",
     "output_type": "stream",
     "text": [
      "1\n",
      "3\n",
      "5\n",
      "7\n",
      "9\n",
      "11\n",
      "13\n",
      "15\n",
      "17\n",
      "19\n"
     ]
    }
   ],
   "source": [
    "for i in range(1,20,2):\n",
    "    print(i)"
   ]
  },
  {
   "cell_type": "code",
   "execution_count": 17,
   "metadata": {},
   "outputs": [
    {
     "name": "stdout",
     "output_type": "stream",
     "text": [
      "10\n",
      "8\n",
      "6\n",
      "4\n",
      "2\n"
     ]
    }
   ],
   "source": [
    "for i in range(10,0,-2):\n",
    "    print(i)"
   ]
  },
  {
   "cell_type": "markdown",
   "metadata": {},
   "source": [
    "### Atenção:\n",
    "\n",
    "Todos os parâmetros especificados para o `range()` devem ser **inteiros**, mas qualquer um deles pode ser negativo. Naturalmente, se `<inicio>` for maior que `<fim>`, `<passo>` tem de ser negativo:\n"
   ]
  },
  {
   "cell_type": "code",
   "execution_count": 18,
   "metadata": {},
   "outputs": [
    {
     "name": "stdout",
     "output_type": "stream",
     "text": [
      "-5\n",
      "-4\n",
      "-3\n",
      "-2\n",
      "-1\n",
      "0\n",
      "1\n",
      "2\n",
      "3\n",
      "4\n"
     ]
    }
   ],
   "source": [
    "for i in range(-5, 5):\n",
    "    print(i)"
   ]
  },
  {
   "cell_type": "code",
   "execution_count": 19,
   "metadata": {},
   "outputs": [],
   "source": [
    "for i in range(5, -5):\n",
    "    print(i)"
   ]
  },
  {
   "cell_type": "code",
   "execution_count": 20,
   "metadata": {},
   "outputs": [
    {
     "name": "stdout",
     "output_type": "stream",
     "text": [
      "5\n",
      "4\n",
      "3\n",
      "2\n",
      "1\n",
      "0\n",
      "-1\n",
      "-2\n",
      "-3\n",
      "-4\n"
     ]
    }
   ],
   "source": [
    "for i in range(5, -5, -1):\n",
    "    print(i)"
   ]
  },
  {
   "cell_type": "code",
   "execution_count": 21,
   "metadata": {},
   "outputs": [
    {
     "name": "stdout",
     "output_type": "stream",
     "text": [
      "0 5\n",
      "1 4\n",
      "2 3\n",
      "3 2\n",
      "4 1\n"
     ]
    }
   ],
   "source": [
    "for i, j in zip(range(0,5), range(5,0,-1)):\n",
    "    print(i, j)"
   ]
  },
  {
   "cell_type": "markdown",
   "metadata": {},
   "source": [
    "# Exemplos"
   ]
  },
  {
   "cell_type": "markdown",
   "metadata": {},
   "source": [
    "## Exemplo 1 - números\n",
    "\n",
    "Programa que imprime os números de 0 a 100, incluindo-os."
   ]
  },
  {
   "cell_type": "raw",
   "metadata": {},
   "source": [
    "num = 0\n",
    "\n",
    "while num <= 100:\n",
    "    print(num)\n",
    "    num +=1   # num = num + 1"
   ]
  },
  {
   "cell_type": "code",
   "execution_count": 26,
   "metadata": {},
   "outputs": [
    {
     "name": "stdout",
     "output_type": "stream",
     "text": [
      "51\n"
     ]
    }
   ],
   "source": []
  },
  {
   "cell_type": "code",
   "execution_count": 27,
   "metadata": {},
   "outputs": [
    {
     "name": "stdout",
     "output_type": "stream",
     "text": [
      "51\n"
     ]
    }
   ],
   "source": [
    "# jeito alternativo\n",
    "\n",
    "cont_pares = 0\n",
    "\n",
    "for i in range(0,101,2):\n",
    "    cont_pares += 1\n",
    "    \n",
    "print (cont_pares)"
   ]
  },
  {
   "cell_type": "markdown",
   "metadata": {},
   "source": [
    "## Exemplo 2 - contador\n",
    "\n",
    "Programa que imprime a **quantidade** de números pares de 0 a 100, incluindo-os."
   ]
  },
  {
   "cell_type": "raw",
   "metadata": {},
   "source": [
    "### WHILE\n",
    "\n",
    "num = 0\n",
    "cont_pares = 0\n",
    "\n",
    "while num <= 100:\n",
    "    if num % 2 == 0:\n",
    "        cont_pares += 1 # cont_pares = cont_pares + 1\n",
    "    num += 1\n",
    "\n",
    "print(cont_pares)"
   ]
  },
  {
   "cell_type": "code",
   "execution_count": 23,
   "metadata": {},
   "outputs": [
    {
     "name": "stdout",
     "output_type": "stream",
     "text": [
      "51\n"
     ]
    }
   ],
   "source": [
    "cont_pares = 0\n",
    "\n",
    "for i in range(101):\n",
    "    if i % 2 == 0:\n",
    "        cont_pares += 1 # cont_pares = cont_pares + 1\n",
    "\n",
    "print(cont_pares)"
   ]
  },
  {
   "cell_type": "code",
   "execution_count": 24,
   "metadata": {},
   "outputs": [
    {
     "name": "stdout",
     "output_type": "stream",
     "text": [
      "0\n",
      "2\n",
      "4\n",
      "6\n",
      "8\n",
      "10\n",
      "12\n",
      "14\n",
      "16\n",
      "18\n",
      "20\n",
      "22\n",
      "24\n",
      "26\n",
      "28\n",
      "30\n",
      "32\n",
      "34\n",
      "36\n",
      "38\n",
      "40\n",
      "42\n",
      "44\n",
      "46\n",
      "48\n",
      "50\n",
      "52\n",
      "54\n",
      "56\n",
      "58\n",
      "60\n",
      "62\n",
      "64\n",
      "66\n",
      "68\n",
      "70\n",
      "72\n",
      "74\n",
      "76\n",
      "78\n",
      "80\n",
      "82\n",
      "84\n",
      "86\n",
      "88\n",
      "90\n",
      "92\n",
      "94\n",
      "96\n",
      "98\n",
      "100\n"
     ]
    }
   ],
   "source": [
    "# Jeito alternativo\n",
    "\n",
    "for i in range (0, 101, 2):\n",
    "    print (i)"
   ]
  },
  {
   "cell_type": "markdown",
   "metadata": {},
   "source": [
    "Entre dois números quaisquer:"
   ]
  },
  {
   "cell_type": "raw",
   "metadata": {},
   "source": [
    "### WHILE\n",
    "\n",
    "num1 = int(input('Digite o número inicial: '))\n",
    "num2 = int(input('Digite o número final: '))\n",
    "cont_pares = 0\n",
    "\n",
    "while num1 <= num2:\n",
    "    if num1 % 2 == 0:\n",
    "        cont_pares += 1 # cont_pares = cont_pares + 1\n",
    "    num1 += 1\n",
    "\n",
    "print(cont_pares)"
   ]
  },
  {
   "cell_type": "code",
   "execution_count": null,
   "metadata": {},
   "outputs": [],
   "source": [
    "num1 = int(input('Digite o número inicial: '))\n",
    "num2 = int(input('Digite o número final: '))\n",
    "cont_pares = 0\n",
    "\n",
    "for i in range(num1,num2+1):\n",
    "    if i % 2 == 0:\n",
    "        cont_pares += 1 # cont_pares = cont_pares + 1\n",
    "\n",
    "print(cont_pares)"
   ]
  },
  {
   "cell_type": "markdown",
   "metadata": {},
   "source": [
    "## Exemplo 3 - acumulador\n",
    "\n",
    "Programa que imprime a soma de todos os números pares entre dois números quaisquer, incluindo-os."
   ]
  },
  {
   "cell_type": "raw",
   "metadata": {},
   "source": [
    "### WHILE\n",
    "\n",
    "num1 = 0\n",
    "num2 = 6\n",
    "soma = 0\n",
    "\n",
    "while num1 <= num2:\n",
    "    if num1 % 2 == 0:\n",
    "        soma += num1  # soma = soma + num1\n",
    "    num1 += 1\n",
    "print('A soma é', soma)"
   ]
  },
  {
   "cell_type": "code",
   "execution_count": null,
   "metadata": {},
   "outputs": [],
   "source": [
    "num1 = 0\n",
    "num2 = 6\n",
    "soma = 0\n",
    "\n",
    "for i in range(num1,num2+1):\n",
    "    if i % 2 == 0:\n",
    "        soma += i  # soma = soma + num1\n",
    "\n",
    "print('A soma é', soma)"
   ]
  },
  {
   "cell_type": "markdown",
   "metadata": {},
   "source": [
    "## Exemplo 4 - fatorial"
   ]
  },
  {
   "cell_type": "raw",
   "metadata": {},
   "source": [
    "### WHILE\n",
    "\n",
    "num = 6\n",
    "numero = num\n",
    "fatorial = 1\n",
    "\n",
    "while num > 0:\n",
    "    print(num)\n",
    "    fatorial *= num # fatorial = fatorial * num\n",
    "    num -= 1\n",
    "print('O fatorial de', numero, 'é', fatorial)"
   ]
  },
  {
   "cell_type": "code",
   "execution_count": null,
   "metadata": {},
   "outputs": [],
   "source": [
    "num = 6\n",
    "numero = num\n",
    "fatorial = 1\n",
    "\n",
    "for i in range(num,0,-1):\n",
    "    fatorial *= i # fatorial = fatorial * i\n",
    "\n",
    "print('O fatorial de', numero, 'é', fatorial)"
   ]
  },
  {
   "cell_type": "markdown",
   "metadata": {},
   "source": [
    "## Exemplo 5 - Soma entre números aleatórios"
   ]
  },
  {
   "cell_type": "raw",
   "metadata": {},
   "source": [
    "import random\n",
    "\n",
    "num = int(input('Digite um número inteiro entre 1 e 10: '))\n",
    "soma = 0\n",
    "\n",
    "contador = 0\n",
    "\n",
    "while contador < num:\n",
    "    numero_sorteado = random.randint(1,10)\n",
    "    print(numero_sorteado)\n",
    "    soma = soma + numero_sorteado\n",
    "    contador = contador + 1\n",
    "\n",
    "print('A soma é', soma)"
   ]
  },
  {
   "cell_type": "code",
   "execution_count": null,
   "metadata": {},
   "outputs": [],
   "source": [
    "import random\n",
    "\n",
    "num = int(input('Digite um número inteiro entre 1 e 10: '))\n",
    "soma = 0\n",
    "\n",
    "for i in range(num):\n",
    "    numero_sorteado = random.randint(1,10)\n",
    "    print(numero_sorteado)\n",
    "    soma = soma + numero_sorteado\n",
    "\n",
    "print('A soma é', soma)"
   ]
  },
  {
   "cell_type": "code",
   "execution_count": null,
   "metadata": {},
   "outputs": [],
   "source": []
  }
 ],
 "metadata": {
  "kernelspec": {
   "display_name": "Python 3",
   "language": "python",
   "name": "python3"
  },
  "language_info": {
   "codemirror_mode": {
    "name": "ipython",
    "version": 3
   },
   "file_extension": ".py",
   "mimetype": "text/x-python",
   "name": "python",
   "nbconvert_exporter": "python",
   "pygments_lexer": "ipython3",
   "version": "3.7.3"
  }
 },
 "nbformat": 4,
 "nbformat_minor": 4
}
