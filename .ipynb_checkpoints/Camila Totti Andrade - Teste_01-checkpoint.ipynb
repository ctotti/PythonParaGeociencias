{
 "cells": [
  {
   "cell_type": "markdown",
   "metadata": {},
   "source": [
    "# Disciplina: Introdução a programação para geocientistas"
   ]
  },
  {
   "cell_type": "markdown",
   "metadata": {},
   "source": [
    "# Teste 01"
   ]
  },
  {
   "cell_type": "markdown",
   "metadata": {},
   "source": [
    "### Questão 1 (1 ponto)\n",
    "\n",
    "Escreva um programa usando `if/else` que peça o nome e a idade do usuário através da função input(). Se o usuário for maior de idade (> 18 anos), imprima `\"NOME é maior de idade\"`. Caso contrário imprima `\"NOME é menor de idade\"`. (Substitua `NOME` pelo nome do usuário)."
   ]
  },
  {
   "cell_type": "code",
   "execution_count": 2,
   "metadata": {},
   "outputs": [
    {
     "name": "stdout",
     "output_type": "stream",
     "text": [
      "digite seu nome Lucas\n",
      "digite sua idade 5\n",
      "Lucas é menor de idade\n"
     ]
    }
   ],
   "source": [
    "nome = input('digite seu nome ')\n",
    "idade = int (input('digite sua idade '))\n",
    "\n",
    "if idade > 18:\n",
    "    print (nome, 'é maior de idade')\n",
    "    \n",
    "else:\n",
    "    print (nome, 'é menor de idade')"
   ]
  },
  {
   "cell_type": "markdown",
   "metadata": {},
   "source": [
    "\n",
    "### Questão  2 (1 ponto)\n",
    "\n",
    "Sejam as variáveis:\n",
    "\n",
    "`a = 100`\n",
    "`b = 50`\n",
    "\n",
    "escreva um programa usando a sintaxe `if/else` para atribuir o maior valor entre `a` e `b` à variável `m`. (**NÃO** use a função `max()`)"
   ]
  },
  {
   "cell_type": "code",
   "execution_count": 4,
   "metadata": {},
   "outputs": [
    {
     "name": "stdout",
     "output_type": "stream",
     "text": [
      "a variável m vale 100\n"
     ]
    }
   ],
   "source": [
    "a = 100\n",
    "b = 50\n",
    "\n",
    "if b>a:\n",
    "    print ('a variável m vale', b)\n",
    "    \n",
    "else:\n",
    "    print ('a variável m vale', a)"
   ]
  },
  {
   "cell_type": "markdown",
   "metadata": {},
   "source": [
    "### Questão 3 (1 ponto)\n",
    "\n",
    "Escreva um programa que leia três números e imprima o maior valor."
   ]
  },
  {
   "cell_type": "code",
   "execution_count": 3,
   "metadata": {},
   "outputs": [
    {
     "name": "stdout",
     "output_type": "stream",
     "text": [
      "insira um número para a: 1\n",
      "insira um número para b: 105\n",
      "insira um número para c: 150\n",
      "150 é o maior valor\n"
     ]
    }
   ],
   "source": [
    "a = int (input ('insira um número para a: '))\n",
    "b = int (input ('insira um número para b: '))\n",
    "c = int (input ('insira um número para c: '))\n",
    "\n",
    "if a > b and a > c:\n",
    "    print (a, 'é o maior valor')\n",
    "elif b > a and b > c:\n",
    "    print (b, 'é o maior valor')\n",
    "elif c > a and c > b:\n",
    "    print (c, 'é o maior valor')"
   ]
  },
  {
   "cell_type": "markdown",
   "metadata": {},
   "source": [
    "### Questão 4 (1 ponto)"
   ]
  },
  {
   "cell_type": "markdown",
   "metadata": {},
   "source": [
    "Escreva um programa que informe se um número fornecido pelo usuário é positivo, negativo ou zero e imprima a resposta."
   ]
  },
  {
   "cell_type": "code",
   "execution_count": 13,
   "metadata": {},
   "outputs": [
    {
     "name": "stdout",
     "output_type": "stream",
     "text": [
      "Digite um número 15\n",
      "15 é positivo\n"
     ]
    }
   ],
   "source": [
    "x = int(input ('Digite um número '))\n",
    "\n",
    "if x > 0:\n",
    "    print (x, 'é positivo')\n",
    "elif x < 0:\n",
    "    print (x, 'é negativo')\n",
    "elif x == 0:\n",
    "    print (x, 'é zero')"
   ]
  },
  {
   "cell_type": "markdown",
   "metadata": {},
   "source": [
    "### Questão 5 (1 ponto)\n",
    "\n",
    "Escreva um programa para converter temperaturas de celsius para fahrenheit e vice-versa. O usuário deve informar a temperatura com um número e a letra correspondente a Celcius ou Fahrenheit. Por exemplo: 35C para graus celcius e 35F para graus Fahrenheit. As fórmulas para conversão estão abaixo:\n",
    "\n",
    "$$ C = (5 \\times (F - 32))/9 $$\n",
    "\n",
    "$$ F = (9\\times C + (32 *5))/5 $$\n",
    "\n",
    "Em que $C$ é a temperatura em graus Celcius e $F$ é a temperatura em graus Fahrenheit. Para identificar qual conversão deve fazer, use o índice para acessar o último caracter da string digitada pelo usuário, por exemplo, suponha que o usuário digitou 35C. \n",
    "\n",
    "`temperatura = 35C`\n",
    "\n",
    "`grau = float(temperatura[0:-1]`\n",
    "\n",
    "`cod = temperatura[-1]`\n",
    "\n",
    "A conversão a ser feita deve ser de Celcius para Fahrenheit. A variável `temperatura` recebe a string digitada pelo usuário. A variável `grau` recebe apenas o número e a variável `cod` recebe apenas a string correspondente à convenção da temperatura (C ou F)."
   ]
  },
  {
   "cell_type": "code",
   "execution_count": 15,
   "metadata": {},
   "outputs": [
    {
     "name": "stdout",
     "output_type": "stream",
     "text": [
      "Insira a temperatura para conversão: 35C\n",
      "A temperatura é 95.0 °F\n"
     ]
    }
   ],
   "source": [
    "temperatura = input ('Insira a temperatura para conversão: ')\n",
    "grau = float (temperatura [0:-1])\n",
    "cod = temperatura [-1]\n",
    "\n",
    "if cod == 'C':\n",
    "    F = (9*grau+(32*5))/5\n",
    "    print ('A temperatura é', F, '°F')\n",
    "\n",
    "elif cod == 'F':\n",
    "    C = (5*(F-32))/9\n",
    "    print ('A temperatura é', C, '°C')"
   ]
  },
  {
   "cell_type": "markdown",
   "metadata": {},
   "source": [
    "### Questão 6 (1 ponto)\n",
    "\n",
    "Escreva um programa em que o usuário decida se deseja calcular a média aritmética ou a média ponderada entre 5 números. Os números também devem ser fornecidos pelo usuário. Caso o usuário decida calcular a média ponderada, ele também deve fornecer os pesos. (**NÃO** use as funções de média do Python)\n",
    "\n",
    "**Fórmula da média aritmética**\n",
    "\n",
    "$$ M_A = \\frac{x_1 + x_2 + \\dots + x_N}{N} $$\n",
    "\n",
    "**Fórmula da média ponderada**\n",
    "\n",
    "$$ M_P = \\frac{p_1 x_1 + p_2 x_2 + \\dots + p_N x_N}{p_1+p_2+\\dots+p_N} $$"
   ]
  },
  {
   "cell_type": "code",
   "execution_count": 33,
   "metadata": {},
   "outputs": [
    {
     "name": "stdout",
     "output_type": "stream",
     "text": [
      "Insira o tipo de fórmula que você quer \"ma\"(Media aritimetica) ou \"mp\"ma\n",
      "Insira um valor para x(1,2,3...), ou digite \"sair\" para sair.7\n",
      "Insira um valor para x(1,2,3...), ou digite \"sair\" para sair.8\n",
      "Insira um valor para x(1,2,3...), ou digite \"sair\" para sair.sair\n",
      "Sua lista de x é [7.0, 8.0]\n",
      "o valor da soma de x é 15.0\n",
      "O resultado da média aritmética é 7.5\n"
     ]
    }
   ],
   "source": [
    "tipo = input('Insira o tipo de fórmula que você quer \"ma\"(Media aritimetica) ou \"mp\"')\n",
    "if tipo == 'ma':\n",
    "    lista = []\n",
    "    loop = True\n",
    "    while loop :\n",
    "        x = input('Insira um valor para x(1,2,3...), ou digite \"sair\" para sair.')\n",
    "        if x == 'sair':\n",
    "            loop = False\n",
    "        else:\n",
    "            lista.append(float(x))\n",
    "    print('Sua lista de x é', lista)\n",
    "    print ('o valor da soma de x é', sum (lista))\n",
    "\n",
    "    ma = sum (lista)/len(lista)\n",
    "    print ('O resultado da média aritmética é', ma)\n",
    "elif tipo == 'mp':\n",
    "    lista_val = []\n",
    "    lista_peso = []\n",
    "    \n",
    "    loop = True\n",
    "    while loop :\n",
    "        \n",
    "        x = input('Insira um valor para x(1,2,3...). E digite \"sair\" para sair: ')\n",
    "        if x != 'sair':\n",
    "            p = input('Insira um peso para p(1,2,3...).')\n",
    "        if x == 'sair':\n",
    "            loop = False\n",
    "        else:\n",
    "            lista_val.append(float(x)*float(p))\n",
    "            lista_peso.append(float(p))\n",
    "    \n",
    "    print('Sua lista de x é', lista_val)\n",
    "    print('Sua lista de p é', lista_peso)\n",
    "\n",
    "    mp = sum(lista_val)/sum(lista_peso)\n",
    "    print ('O resultado da média ponderada é', mp)\n",
    "else:\n",
    "    print('Fórmula inserida invalida, ecolha \"mp\" ou \"ma\"')"
   ]
  },
  {
   "cell_type": "markdown",
   "metadata": {},
   "source": [
    "### Questão 7 (1 ponto)\n",
    "\n",
    "A radiação eletromagnética pode ser classificada em uma das 7 categorias de acordo com a sua frequência, como se mostra no quadro abaixo:\n",
    "\n",
    "|   Nome               |  Frequencia (Hz)                              | \n",
    "|----------------------|-----------------------------------------------|\n",
    "|  Ondas de rádio      |    Menor que $3 \\times 10^9$                  |\n",
    "|  Micro ondas         | Entre $3 \\times 10^9$ e $3 \\times 10^{12}$    |\n",
    "|  Infravermelho       | Entre $3 \\times 10^12$ e $4.3 \\times 10^{14}$ |\n",
    "|  Luz visível         |Entre $4.3 \\times 10^14$ e $7.5 \\times 10^{14}$|\n",
    "|  Raios ultravioleta  | Entre $7.5 \\times 10^14$ e $3 \\times 10^{17}$ |\n",
    "|  Raio - X            | Entre $3 \\times 10^{17}$ e $3 \\times 10^{19}$ |\n",
    "| Raio Gama            |    Maior que $3 \\times 10^{19}$               |\n",
    "\n",
    "\n",
    "Escreva um programa que leia a frequência da radiação fornecida pelo usuário e mostre o nome apropriado."
   ]
  },
  {
   "cell_type": "code",
   "execution_count": 1,
   "metadata": {},
   "outputs": [
    {
     "name": "stdout",
     "output_type": "stream",
     "text": [
      "insira o valor de X da radiação no seguinte formato \"X * 10^Y\": 8\n",
      "insira o valor de Y da radiação no seguinte formato \"8.0 * 10^Y\": 15\n",
      "sua equação é 8.0*10^15.0\n",
      "raios ultravioleta\n"
     ]
    }
   ],
   "source": [
    "x =  float(input ('insira o valor de X da radiação no seguinte formato \"X * 10^Y\": '))\n",
    "y =  float(input (f'insira o valor de Y da radiação no seguinte formato \"{x} * 10^Y\": '))\n",
    "\n",
    "print(f'sua equação é {x}*10^{y}')\n",
    "\n",
    "frequencia = x*(10**y)\n",
    "\n",
    "if frequencia <  3*(10**9):\n",
    "    frequencia = 'onda de radio'\n",
    "elif frequencia >= 3*10**9 and frequencia < 3*10**12:\n",
    "    frequencia = 'micro ondas'\n",
    "elif frequencia >= 3*10**12   and frequencia < 4.3*10**14:\n",
    "    frequencia = 'infravermelho'\n",
    "elif frequencia >= 4.3*10**14 and frequencia < 7.5*10**14:\n",
    "    frequencia = 'luz visível'\n",
    "elif frequencia >= 7.5*10**14 and frequencia< 3*10**17:\n",
    "    frequencia = 'raios ultravioleta'\n",
    "elif frequencia >= 3*10**17   and frequencia <= 3*10**19:\n",
    "    frequencia = 'raio-X'\n",
    "elif frequencia > 3*10**19:\n",
    "    frequencia = 'raio gama'\n",
    "\n",
    "print (frequencia)"
   ]
  },
  {
   "cell_type": "markdown",
   "metadata": {},
   "source": [
    "### Questão 8 (1 ponto)\n",
    "\n",
    "A inclinação magnética é o ângulo feito com a horizontal pelas linhas do campo magnético da Terra. Este ângulo varia em diferentes pontos da superfície da Terra e pode assumir valores entre -90° e 90°. Os valores positivos de inclinação indicam que o campo magnético da Terra aponta para baixo, para a Terra, no ponto de medição; e os valores negativos indicam que aponta para cima. \n",
    "\n",
    "No hemisfério norte, o campo aponta para baixo, isto está logo abaixo do Polo Norte Magnético e gira para cima à medida que a latitude diminui até ficar na horizontal (0°) no equador magnético. Ele continua a girar para cima até chegar ao Polo Magnético Sul. Portanto, a inclinação da agulha varia entre -90º no polo magnético Sul e 90º no polo magnético Norte, passando por 0º no Equador. (Fonte: wikipedia)\n",
    " \n",
    "Escreva um programa que, dado uma medida de Inclinação, informe se a medição foi realizada no hemisfério norte, sul ou no equador. A medida deve variar entre -90º a 90º. Se o usuário digitar uma medida menor que -90º ou maior que 90º, o programa deve informar que a medida é inválida."
   ]
  },
  {
   "cell_type": "code",
   "execution_count": 2,
   "metadata": {},
   "outputs": [
    {
     "name": "stdout",
     "output_type": "stream",
     "text": [
      "Insira o valor da inclinação: -45\n",
      "a medição foi realizada no Hemisfério sul\n"
     ]
    }
   ],
   "source": [
    "inclinacao = float (input ('Insira o valor da inclinação: '))\n",
    "\n",
    "if inclinacao > 0 and inclinacao <= 90:\n",
    "    inclinacao = 'Hemisfério norte'\n",
    "elif inclinacao == 0:\n",
    "    inclinacao = 'Equador'\n",
    "elif inclinacao < 0 and inclinacao >= -90:\n",
    "    inclinacao = 'Hemisfério sul'\n",
    "else:\n",
    "    print ('o valor inserido é inválido')\n",
    "\n",
    "print ('a medição foi realizada no', inclinacao)"
   ]
  },
  {
   "cell_type": "markdown",
   "metadata": {},
   "source": [
    "### Questão 9 (1 ponto)\n",
    "\n",
    "Muitas vezes os sedimentos são agrupados de acordo com a sua granulometria. Dada as frações de tamanho de grão da:\n",
    "\n",
    "- Areia, partículas com tamanhos superiores a 1/16 µm e inferiores a 2 µm;\n",
    "- Silte, partículas com tamanhos superiores a 1/256 µm e inferiores a 1/16 µm;\n",
    "- Argila, partículas com tamanhos inferiores a 1/256 µm;\n",
    "\n",
    "escreva um programa que informe a qual categoria o sedimento pertence, dado o tamanho dos grãos da sua composição. Peça para o usuário informar o tamanho do grão. Repare que os valores são muito baixos e devem ser menores ou iguais a 0.0625 µm."
   ]
  },
  {
   "cell_type": "code",
   "execution_count": 5,
   "metadata": {},
   "outputs": [
    {
     "name": "stdout",
     "output_type": "stream",
     "text": [
      "insira o numerador da fração do tamanho do grão (em µm) para saber sua classificação granulométrica: 1\n",
      "insira o denominador: 260\n",
      "a classificação granulométrica é argila\n"
     ]
    }
   ],
   "source": [
    "num = float (input ('insira o numerador da fração do tamanho do grão (em µm) para saber sua classificação granulométrica: '))\n",
    "denom = float (input ('insira o denominador: '))\n",
    "\n",
    "fracao = num / denom\n",
    "\n",
    "if fracao > 1/16 and fracao <= 2:\n",
    "    fracao = 'areia'\n",
    "elif fracao > 1/256 and fracao <= 1/16:\n",
    "    fracao = 'silte'\n",
    "elif fracao <= 1/256:\n",
    "    fracao = 'argila'\n",
    "\n",
    "print ('a classificação granulométrica é', fracao)"
   ]
  },
  {
   "cell_type": "markdown",
   "metadata": {},
   "source": [
    "### Questão 10 (1 ponto)"
   ]
  },
  {
   "cell_type": "markdown",
   "metadata": {},
   "source": [
    "A tabela a seguir contém intervalos de magnitudes de terremoto na escala Richter e suas categorias.\n",
    "\n",
    "|   Magnitude         |  Categoria    | \n",
    "|---------------------|---------------|\n",
    "|  Menor que 2.0      |    Micro      |\n",
    "|  Entre 2.0 e 2.9    | Muito pequeno |\n",
    "|  Entre 3.0 e 3.9    |  Pequeno      |\n",
    "|  Entre 4.0 e 4.9    |  Ligeiro      |\n",
    "|  Entre 5.0 e 5.9    |  Moderado     |\n",
    "|  Entre 6.0 e 6.9    |     Forte     |\n",
    "|  Entre 7.0 e 7.9    |    Grande     |\n",
    "|  Entre 8.0 e 8.9    | Importante    |\n",
    "|  Entre 9.0 e 9.9    |  Excepcional  |\n",
    "|  Maior que 10.0     |    Extremo    |\n",
    "\n",
    "Escreva um programa que leia uma magnitude fornecida pelo usuário e exiba a categoria apropriada como parte de uma mensagem significativa. \n",
    "Por exemplo, se o usuário digitar 5.5 então o programa deve indicar que um sismo de magnitude 5.5 é considerado como um terremoto moderado."
   ]
  },
  {
   "cell_type": "code",
   "execution_count": 2,
   "metadata": {},
   "outputs": [
    {
     "name": "stdout",
     "output_type": "stream",
     "text": [
      "insira a magnitude do terremoto para saber sua categoria na escala Richter: 5.5\n",
      "moderado\n"
     ]
    }
   ],
   "source": [
    "x =  float(input ('insira a magnitude do terremoto para saber sua categoria na escala Richter: '))\n",
    "\n",
    "\n",
    "if x < 2.0:\n",
    "    x = 'micro'\n",
    "elif x >= 2.0 and x <= 2.9:\n",
    "    x = 'muito pequeno'\n",
    "elif x >= 3.0   and x <= 3.9:\n",
    "    x = 'pequeno'\n",
    "elif x >= 4.0 and x <= 4.9:\n",
    "    x = 'ligeiro'\n",
    "elif x >= 5.0 and x <= 5.9:\n",
    "    x = 'moderado'\n",
    "elif x >= 6.0   and x <= 6.9:\n",
    "    x = 'forte'\n",
    "elif x >= 7.0 and x <= 7.9:\n",
    "    x = 'grande'\n",
    "elif x >= 8.0 and x <= 8.9:\n",
    "    x = 'importante'\n",
    "elif x >= 9.0 and x <= 9.9:\n",
    "    x = 'excepcional'\n",
    "elif x > 10.0:\n",
    "    x = 'extremo'\n",
    "\n",
    "print (x)"
   ]
  }
 ],
 "metadata": {
  "kernelspec": {
   "display_name": "Python 3",
   "language": "python",
   "name": "python3"
  },
  "language_info": {
   "codemirror_mode": {
    "name": "ipython",
    "version": 3
   },
   "file_extension": ".py",
   "mimetype": "text/x-python",
   "name": "python",
   "nbconvert_exporter": "python",
   "pygments_lexer": "ipython3",
   "version": "3.7.3"
  }
 },
 "nbformat": 4,
 "nbformat_minor": 4
}
