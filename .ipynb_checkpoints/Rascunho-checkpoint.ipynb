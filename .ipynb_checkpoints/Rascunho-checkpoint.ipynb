{
 "cells": [
  {
   "cell_type": "code",
   "execution_count": 46,
   "metadata": {},
   "outputs": [
    {
     "name": "stdout",
     "output_type": "stream",
     "text": [
      "20 56 48 7 5 96 25\n",
      "20 56 48 7 5 96 25\n",
      "['20', '56', '48', '7', '5', '96', '25']\n"
     ]
    },
    {
     "data": {
      "text/plain": [
       "list"
      ]
     },
     "execution_count": 46,
     "metadata": {},
     "output_type": "execute_result"
    }
   ],
   "source": [
    "lista_x = input ()\n",
    "print (lista_x)\n",
    "\n",
    "lista_nova = lista_x.split()\n",
    "print (lista_nova)\n",
    "\n",
    "type (lista_nova)"
   ]
  },
  {
   "cell_type": "code",
   "execution_count": 47,
   "metadata": {},
   "outputs": [
    {
     "data": {
      "text/plain": [
       "7"
      ]
     },
     "execution_count": 47,
     "metadata": {},
     "output_type": "execute_result"
    }
   ],
   "source": [
    "len (lista_nova)"
   ]
  },
  {
   "cell_type": "code",
   "execution_count": 49,
   "metadata": {},
   "outputs": [
    {
     "name": "stdout",
     "output_type": "stream",
     "text": [
      "Insira um valor, ou digite \"sair\" para sair.4\n",
      "Insira um valor, ou digite \"sair\" para sair.3\n",
      "Insira um valor, ou digite \"sair\" para sair.2\n",
      "Insira um valor, ou digite \"sair\" para sair.1\n",
      "Insira um valor, ou digite \"sair\" para sair.0\n",
      "Insira um valor, ou digite \"sair\" para sair.4\n",
      "Insira um valor, ou digite \"sair\" para sair.5\n",
      "Insira um valor, ou digite \"sair\" para sair.3\n",
      "Insira um valor, ou digite \"sair\" para sair.sair\n"
     ]
    }
   ],
   "source": [
    "lista = []\n",
    "loop = True\n",
    "while loop :\n",
    "    print('Sua lista é', lista)\n",
    "    x = input('Insira um valor, ou digite \"sair\" para sair.')\n",
    "    if x == 'sair':\n",
    "        loop = False\n",
    "    else:\n",
    "        lista.append(x)"
   ]
  },
  {
   "cell_type": "code",
   "execution_count": null,
   "metadata": {},
   "outputs": [],
   "source": []
  }
 ],
 "metadata": {
  "kernelspec": {
   "display_name": "Python 3",
   "language": "python",
   "name": "python3"
  },
  "language_info": {
   "codemirror_mode": {
    "name": "ipython",
    "version": 3
   },
   "file_extension": ".py",
   "mimetype": "text/x-python",
   "name": "python",
   "nbconvert_exporter": "python",
   "pygments_lexer": "ipython3",
   "version": "3.7.3"
  }
 },
 "nbformat": 4,
 "nbformat_minor": 2
}
