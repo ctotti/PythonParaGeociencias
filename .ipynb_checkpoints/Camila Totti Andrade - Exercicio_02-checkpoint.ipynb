{
 "cells": [
  {
   "cell_type": "markdown",
   "metadata": {},
   "source": [
    "# Disciplina: Introdução a programação para geocientistas"
   ]
  },
  {
   "cell_type": "markdown",
   "metadata": {},
   "source": [
    "# Exercícios referentes à aula 6 - Listas"
   ]
  },
  {
   "cell_type": "markdown",
   "metadata": {},
   "source": [
    "## Exercício 01"
   ]
  },
  {
   "cell_type": "markdown",
   "metadata": {},
   "source": [
    "* Crie uma lista chamada `numeros` que contenha números entre 0 e 20 e imprima;\n",
    "* A partir da lista `numeros`, crie uma lista chamada `impares` que contenha somente os números ímpares. Use as sintaxes de índices e/ou slices. Imprima.\n",
    "*  A partir da lista `numeros`, crie uma lista chamada `pares` que contenha somente os números pares mas agora use as funções do python de remover elementos. Imprima.\n",
    "* A partir da lista `impares`, adicione os números pares nas posições corretas (use a função `insert()`) de forma que obtenha novamente a lista original `numeros`, de 0 a 20 Também pode ser feita usando a função `append()` e `numpy.sort()` para colocar na ordem. Imprima. \n",
    "* Agora adicione à lista `numeros`, uma nova lista de números entre 21 e 25. Imprima.\n",
    "* Inverta a lista e imprima."
   ]
  },
  {
   "cell_type": "code",
   "execution_count": 9,
   "metadata": {},
   "outputs": [
    {
     "data": {
      "text/plain": [
       "[0, 1, 2, 3, 4, 5, 6, 7, 8, 9, 10, 11, 12, 13, 14, 15, 16, 17, 18, 19, 20]"
      ]
     },
     "execution_count": 9,
     "metadata": {},
     "output_type": "execute_result"
    }
   ],
   "source": [
    "numeros = [0, 1,2,3,4,5,6,7,8,9,10,11,12,13,14,15,16,17,18,19,20]\n",
    "numeros"
   ]
  },
  {
   "cell_type": "code",
   "execution_count": 21,
   "metadata": {},
   "outputs": [
    {
     "name": "stdout",
     "output_type": "stream",
     "text": [
      "impares:  [1, 3, 5, 7, 9, 11, 13, 15, 17, 19]\n"
     ]
    }
   ],
   "source": [
    "impares = numeros [1::2]\n",
    "print ('impares: ', impares)"
   ]
  },
  {
   "cell_type": "code",
   "execution_count": 24,
   "metadata": {},
   "outputs": [
    {
     "name": "stdout",
     "output_type": "stream",
     "text": [
      "pares: [0, 2, 4, 6, 8, 10, 12, 14, 16, 18, 20]\n"
     ]
    }
   ],
   "source": [
    "pares = numeros[::2]\n",
    "print ('pares:', pares)"
   ]
  },
  {
   "cell_type": "code",
   "execution_count": 29,
   "metadata": {},
   "outputs": [
    {
     "data": {
      "text/plain": [
       "array([ 0,  1,  2,  3,  4,  5,  6,  7,  8,  9, 10, 11, 12, 13, 14, 15, 16,\n",
       "       17, 18, 19, 20])"
      ]
     },
     "execution_count": 29,
     "metadata": {},
     "output_type": "execute_result"
    }
   ],
   "source": [
    "numerosx = impares + pares\n",
    "import numpy as np\n",
    "np.sort (numerosx)"
   ]
  },
  {
   "cell_type": "code",
   "execution_count": 71,
   "metadata": {},
   "outputs": [
    {
     "name": "stdout",
     "output_type": "stream",
     "text": [
      "[1, 2, 3, 4, 5, 6, 7, 8, 9, 10, 11, 12, 13, 14, 15, 16, 17, 18, 19, 20, 21, 22, 23, 24, 25]\n"
     ]
    }
   ],
   "source": [
    "# poderia ser feito também com append, para isso o argumento deve ser outra\n",
    "# lista. Por ex. seria definida uma nova lista com os numeros [21, 22, 23, 24\n",
    "# , 25] e chamaria ela dentro do append()\n",
    "\n",
    "numeros.extend (range (21, 26))\n",
    "print (numeros)"
   ]
  },
  {
   "cell_type": "code",
   "execution_count": 74,
   "metadata": {},
   "outputs": [
    {
     "name": "stdout",
     "output_type": "stream",
     "text": [
      "[25, 24, 23, 22, 21, 20, 19, 18, 17, 16, 15, 14, 13, 12, 11, 10, 9, 8, 7, 6, 5, 4, 3, 2, 1]\n"
     ]
    }
   ],
   "source": [
    "numeros.reverse ()\n",
    "print (numeros)"
   ]
  },
  {
   "cell_type": "markdown",
   "metadata": {},
   "source": [
    "## Exercício 02"
   ]
  },
  {
   "cell_type": "markdown",
   "metadata": {},
   "source": [
    "* Crie e imprima uma lista de _strings_ à sua escolha. Essa lista deve ter `len() = 7` e não pode haver _strings_ repetidas.\n",
    "* Imprima o primeiro elemento da lista (Deve retornar a frase completa \"O primeiro elemento de ...\")\n",
    "* Imprima (retornando a frase completa) o último elemento da lista usando duas sintaxes diferentes.\n",
    "* Imprima (retornando a frase completa) o quarto elemento da lista\n",
    "* Imprima (retornando a frase completa) os números entre o segundo e sexto elemento.\n",
    "* Imprima (retornando a frase completa) os números entre o primeiro e quarto elemento.\n",
    "* Imprima (retornando a frase completa) os números entre o terceiro e último elemento.\n",
    "* Substitua o terceiro e o último elementos por novas *strings* e imprima a lista final."
   ]
  },
  {
   "cell_type": "code",
   "execution_count": 30,
   "metadata": {},
   "outputs": [
    {
     "data": {
      "text/plain": [
       "7"
      ]
     },
     "execution_count": 30,
     "metadata": {},
     "output_type": "execute_result"
    }
   ],
   "source": [
    "idades = ['20', '21', '50', '58', '90', '2', '5']\n",
    "len (idades)"
   ]
  },
  {
   "cell_type": "code",
   "execution_count": 31,
   "metadata": {},
   "outputs": [
    {
     "name": "stdout",
     "output_type": "stream",
     "text": [
      "o primeiro elemento de idades é: 20\n"
     ]
    }
   ],
   "source": [
    "print ('o primeiro elemento de idades é:', idades [0])"
   ]
  },
  {
   "cell_type": "code",
   "execution_count": 32,
   "metadata": {},
   "outputs": [
    {
     "name": "stdout",
     "output_type": "stream",
     "text": [
      "o último elemento de idades é: 5\n"
     ]
    }
   ],
   "source": [
    "print ('o último elemento de idades é:', idades [-1])"
   ]
  },
  {
   "cell_type": "code",
   "execution_count": 33,
   "metadata": {},
   "outputs": [
    {
     "name": "stdout",
     "output_type": "stream",
     "text": [
      "o quarto elemento da lista é: 58\n"
     ]
    }
   ],
   "source": [
    "print ('o quarto elemento da lista é:', idades [3])"
   ]
  },
  {
   "cell_type": "code",
   "execution_count": 38,
   "metadata": {},
   "outputs": [
    {
     "name": "stdout",
     "output_type": "stream",
     "text": [
      "os números entre o segundo e o sexto elemento são: ['21', '50', '58', '90', '2']\n"
     ]
    }
   ],
   "source": [
    "print ('os números entre o segundo e o sexto elemento são:', idades [1:6])"
   ]
  },
  {
   "cell_type": "code",
   "execution_count": 35,
   "metadata": {},
   "outputs": [
    {
     "name": "stdout",
     "output_type": "stream",
     "text": [
      "os números entre o primeiro e quarto elemento são: ['20', '21', '50']\n"
     ]
    }
   ],
   "source": [
    "print ('os números entre o primeiro e quarto elemento são:', idades [0:3])"
   ]
  },
  {
   "cell_type": "code",
   "execution_count": 72,
   "metadata": {},
   "outputs": [
    {
     "name": "stdout",
     "output_type": "stream",
     "text": [
      "os números entre o terceiro e o último elemento são: ['cinquenta', '58', '90', '2', 'cinco']\n"
     ]
    }
   ],
   "source": [
    "print ('os números entre o terceiro e o último elemento são:', idades [2:])"
   ]
  },
  {
   "cell_type": "code",
   "execution_count": 71,
   "metadata": {},
   "outputs": [
    {
     "name": "stdout",
     "output_type": "stream",
     "text": [
      "['20', '21', 'cinquenta', '58', '90', '2', 'cinco']\n"
     ]
    }
   ],
   "source": [
    "idades [2] = 'cinquenta'\n",
    "idades [-1] = 'cinco'\n",
    "print (idades)"
   ]
  },
  {
   "cell_type": "markdown",
   "metadata": {},
   "source": [
    "## Exercício 03"
   ]
  },
  {
   "cell_type": "code",
   "execution_count": 3,
   "metadata": {},
   "outputs": [],
   "source": [
    "# Importe a biblioteca gráfica\n",
    "\n",
    "import matplotlib.pyplot as plt"
   ]
  },
  {
   "cell_type": "markdown",
   "metadata": {},
   "source": [
    "Considere as listas e o gráfico abaixo:"
   ]
  },
  {
   "cell_type": "code",
   "execution_count": 2,
   "metadata": {},
   "outputs": [
    {
     "name": "stdout",
     "output_type": "stream",
     "text": [
      "[[-35, -30, -25, -20, -15, -10, -5, 0, 5, 10, 15, 20, 25, 30, 35], [0.4, 0.5, 1.0, 0.6, 1.2, 3.1, 5.5, 6.3, 5.2, 4.1, 2.4, 1.3, 0.5, 0.3, 0.7]]\n"
     ]
    }
   ],
   "source": [
    "posicao = [-35, -30, -25, -20, -15, -10, -5, 0, 5, 10, 15, 20, 25, 30, 35]\n",
    "anomalia = [0.4, 0.5, 1., 0.6, 1.2, 3.1, 5.5,6.3, 5.2, 4.1, 2.4, 1.3, 0.5, 0.3, 0.7]\n",
    "dados = [posicao,anomalia]\n",
    "print(dados)"
   ]
  },
  {
   "cell_type": "code",
   "execution_count": 39,
   "metadata": {},
   "outputs": [
    {
     "data": {
      "image/png": "[encoded data removed]",
      "text/plain": [
       "<Figure size 432x288 with 1 Axes>"
      ]
     },
     "metadata": {
      "needs_background": "light"
     },
     "output_type": "display_data"
    }
   ],
   "source": [
    "# Comandos para plotar o gráfico \n",
    "\n",
    "# plot(x, y, 'ro') - plot x e y usando circulos vermelhos como marcadores ('ro' = red o)  \n",
    "plt.plot(dados[0],dados[1], 'ro') \n",
    "\n",
    "# Define a legenda do eixo x\n",
    "plt.xlabel('Posição')\n",
    "\n",
    "# Define a legenda do eixo y\n",
    "plt.ylabel('Anomalia')\n",
    "\n",
    "# Mostra o gráfico\n",
    "plt.show()"
   ]
  },
  {
   "cell_type": "raw",
   "metadata": {},
   "source": [
    "Esse gráfico foi gerado a partir da lista `dados` e representa uma anomalia geofísica qualquer. Repare que `dados` é uma *nested list* ou lista \"aninhada\". Ela contém duas listas como elementos: a primeira, `posicao`, que contem as posições das medidas (como um perfil geofísico); e a segunda, `anomalia`, que contém os valores da anomalia. \n",
    "\n",
    "* A partir da lista `dados`, imprima somente a sub-lista das posições.\n",
    "* A partir da lista `dados`, imprima somente a sub-lista da anomalia.\n",
    "* Descubra o índice onde se encontra o maior valor da anomalia.\n",
    "* Usando o índice acima, imprima, a partir da lista `dados`, o maior valor da anomalia. \n",
    "* A partir da lista `dados`, imprima a posição onde se encontra o maior valor da anomalia.\n",
    "* Faça o mesmo para o menor valor da anomalia.\n",
    "* **Desafio:** Usando as linhas de comando de plotagem, tente plotar somente os pontos entre -10 a 10 (copie a terceira célula do exercício 03, cole em uma nova célula e edite de acordo com o que foi pedido)."
   ]
  },
  {
   "cell_type": "code",
   "execution_count": 6,
   "metadata": {},
   "outputs": [
    {
     "name": "stdout",
     "output_type": "stream",
     "text": [
      "[-35, -30, -25, -20, -15, -10, -5, 0, 5, 10, 15, 20, 25, 30, 35]\n"
     ]
    }
   ],
   "source": [
    "print (dados [0])"
   ]
  },
  {
   "cell_type": "code",
   "execution_count": 7,
   "metadata": {},
   "outputs": [
    {
     "name": "stdout",
     "output_type": "stream",
     "text": [
      "[0.4, 0.5, 1.0, 0.6, 1.2, 3.1, 5.5, 6.3, 5.2, 4.1, 2.4, 1.3, 0.5, 0.3, 0.7]\n"
     ]
    }
   ],
   "source": [
    "print (dados [-1])"
   ]
  },
  {
   "cell_type": "code",
   "execution_count": 61,
   "metadata": {},
   "outputs": [
    {
     "data": {
      "text/plain": [
       "6.3"
      ]
     },
     "execution_count": 61,
     "metadata": {},
     "output_type": "execute_result"
    }
   ],
   "source": [
    "# * Descubra o índice onde se encontra o maior valor da anomalia.\n",
    "\n",
    "# para descobrir o índice, a dica é usar o .index com a lista anomalia. -------- !!! não entendi essa parte\n",
    "# Ou pode usar dados[1]. Assim ele vai te retornar o índice correto. Uma vez\n",
    "# que você encontrar esse índice (digamos que é n), use ele para achar a\n",
    "# posição usando dados[0][n] para achar  e imprimir a posição e dados[1][n]\n",
    "# para imprimir o valor.  E depois fazer tudo isso  para o menor valor.\n",
    "\n",
    "# pergunta: de qualquer forma eu tenho que usar as funções mín e máx para o programa devolver quais são os valores, para aí eu\n",
    "# poder verificar a posição deles com index ou do outro jeito - dados [1][7] -, certo?\n",
    "\n",
    "max (anomalia)"
   ]
  },
  {
   "cell_type": "code",
   "execution_count": 62,
   "metadata": {},
   "outputs": [
    {
     "data": {
      "text/plain": [
       "7"
      ]
     },
     "execution_count": 62,
     "metadata": {},
     "output_type": "execute_result"
    }
   ],
   "source": [
    "# * A partir da lista `dados`, imprima a posição onde se encontra o maior valor da anomalia.\n",
    "\n",
    "anomalia.index (6.3)"
   ]
  },
  {
   "cell_type": "code",
   "execution_count": 3,
   "metadata": {},
   "outputs": [
    {
     "data": {
      "text/plain": [
       "7"
      ]
     },
     "execution_count": 3,
     "metadata": {},
     "output_type": "execute_result"
    }
   ],
   "source": [
    "# OU para fazer a mesma coisa usando index é só fazer:\n",
    "\n",
    "anomalia.index (max (anomalia))"
   ]
  },
  {
   "cell_type": "code",
   "execution_count": 63,
   "metadata": {},
   "outputs": [
    {
     "data": {
      "text/plain": [
       "0.3"
      ]
     },
     "execution_count": 63,
     "metadata": {},
     "output_type": "execute_result"
    }
   ],
   "source": [
    "min (anomalia)"
   ]
  },
  {
   "cell_type": "code",
   "execution_count": 65,
   "metadata": {},
   "outputs": [
    {
     "data": {
      "text/plain": [
       "13"
      ]
     },
     "execution_count": 65,
     "metadata": {},
     "output_type": "execute_result"
    }
   ],
   "source": [
    "anomalia.index (0.3)"
   ]
  },
  {
   "cell_type": "code",
   "execution_count": 43,
   "metadata": {},
   "outputs": [
    {
     "data": {
      "image/png": "[encoded data removed]",
      "text/plain": [
       "<Figure size 432x288 with 1 Axes>"
      ]
     },
     "metadata": {
      "needs_background": "light"
     },
     "output_type": "display_data"
    }
   ],
   "source": [
    "## **Desafio:** Usando as linhas de comando de plotagem, tente plotar somente os pontos entre -10 a 10 \n",
    "## (copie a terceira célula do exercício 03, cole em uma nova célula e edite de acordo com o que foi pedido).\n",
    "\n",
    "# plot(x, y, 'ro') - plot x e y usando circulos vermelhos como marcadores ('ro' = red o)  \n",
    "plt.plot(dados[0][5:10],dados[1][5:10], 'ro') \n",
    "\n",
    "# Define a legenda do eixo x\n",
    "plt.xlabel('Posição')\n",
    "\n",
    "# Define a legenda do eixo y\n",
    "plt.ylabel('Anomalia')\n",
    "\n",
    "# Mostra o gráfico\n",
    "plt.show()\n",
    "\n",
    "# duvida: deu certo, mas não entendi por que o intervalo \"5:10\" foi o mesmo para y (anomalia) já que ele possui uma quantidade\n",
    "# diferente de dados"
   ]
  }
 ],
 "metadata": {
  "kernelspec": {
   "display_name": "Python 3",
   "language": "python",
   "name": "python3"
  },
  "language_info": {
   "codemirror_mode": {
    "name": "ipython",
    "version": 3
   },
   "file_extension": ".py",
   "mimetype": "text/x-python",
   "name": "python",
   "nbconvert_exporter": "python",
   "pygments_lexer": "ipython3",
   "version": "3.7.3"
  }
 },
 "nbformat": 4,
 "nbformat_minor": 4
}
