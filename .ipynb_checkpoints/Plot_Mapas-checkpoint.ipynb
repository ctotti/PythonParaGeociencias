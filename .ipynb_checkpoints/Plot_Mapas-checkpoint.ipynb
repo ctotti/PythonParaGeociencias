{
 "cells": [
  {
   "cell_type": "markdown",
   "metadata": {},
   "source": [
    "# Disciplina: Introdução a programação para geocientistas"
   ]
  },
  {
   "cell_type": "markdown",
   "metadata": {},
   "source": [
    "# Aula 13 - Plotando dados em mapas"
   ]
  },
  {
   "cell_type": "markdown",
   "metadata": {},
   "source": [
    "## Motivação\n",
    "\n",
    "Um tipo comum de visualização de dados científicos é a visualização de dados em mapas. Mapas de topografia, por exemplo, são muito comuns quando estamos falando de dados geogŕaficos. Nessa aula vamos trabalhar com esse tipo de dados."
   ]
  },
  {
   "cell_type": "code",
   "execution_count": null,
   "metadata": {},
   "outputs": [],
   "source": [
    "import numpy as np\n",
    "import matplotlib.pyplot as plt"
   ]
  },
  {
   "cell_type": "markdown",
   "metadata": {},
   "source": [
    "### Import data"
   ]
  },
  {
   "cell_type": "code",
   "execution_count": null,
   "metadata": {},
   "outputs": [],
   "source": [
    "# Ao importar os dados do ICGEM, alterar o nome do arquivo de acordo com o que vocês nomearam. \n",
    "# Abaixo é um exemplo de nome de arquivo. Prestar atenção em quantas linhas devem ser puladas (skiprows=). \n",
    "# \n",
    "\n",
    "# Topografia\n",
    "\n",
    "longitude, latitude, topography = np.loadtxt(fname='topo.gdf', \n",
    "                                             skiprows=29, unpack=True)\n",
    "\n",
    "# Geoide\n",
    "\n",
    "longitude, latitude, geoid = np.loadtxt(fname='geoid_eigen6c4.gdf', \n",
    "                                        skiprows=36, unpack=True)\n",
    "\n",
    "# Gravidade na Superfície da Terra\n",
    "\n",
    "longitude, latitude, h_over_geoid, gravity = np.loadtxt(fname='gravity_earth_eigen6c4.gdf', \n",
    "                                                        skiprows=34, unpack=True)\n",
    "\n",
    "# Disturbio de Gravidade\n",
    "\n",
    "longitude, latitude, h_over_geoid, gravity_disturbance = np.loadtxt(fname='gravity_disturbance_eigen6c4.gdf', \n",
    "                                                                    skiprows=35, unpack=True)\n",
    "\n",
    "#     Olhar no header as \"latitude_parallels\" e \"\"longitude_parallels e \n",
    "#     mudar a variável shape de acordo com o arquivo, como no exemplo abaixo\n",
    "#     \n",
    "#      latitude_parallels           364\n",
    "#      longitude_parallels           264\n",
    "#"
   ]
  },
  {
   "cell_type": "code",
   "execution_count": null,
   "metadata": {},
   "outputs": [],
   "source": [
    "shape=(364,264)\n",
    "\n",
    "longitude = np.reshape(longitude, shape)\n",
    "latitude = np.reshape(latitude, shape)\n",
    "topography = np.reshape(topography, shape)\n",
    "geoid_rs = np.reshape(geoid, shape)\n",
    "gravity = np.reshape(gravity, shape)\n",
    "gravity_disturbance = np.reshape(gravity_disturbance, shape)"
   ]
  },
  {
   "cell_type": "markdown",
   "metadata": {},
   "source": [
    "### Plot Topography"
   ]
  },
  {
   "cell_type": "code",
   "execution_count": null,
   "metadata": {},
   "outputs": [],
   "source": [
    "plt.figure(figsize=(30,30))\n",
    "\n",
    "plt.axis('scaled')\n",
    "plt.title(\"Topography\",fontsize=24)\n",
    "plt.pcolormesh(longitude, latitude, topography, cmap='terrain',shading='auto')\n",
    "plt.colorbar(shrink=0.8,orientation=\"horizontal\",label='metros')\n",
    "plt.xlim(np.min(longitude), np.max(longitude))\n",
    "plt.ylim(np.min(latitude), np.max(latitude))\n",
    "plt.xlabel('longitude ($^{\\circ}$)', fontsize=20)\n",
    "plt.ylabel('latitude ($^{\\circ}$)', fontsize=20)\n",
    "plt.grid()"
   ]
  },
  {
   "cell_type": "markdown",
   "metadata": {},
   "source": [
    "### Plot Topography and Geoid"
   ]
  },
  {
   "cell_type": "code",
   "execution_count": null,
   "metadata": {},
   "outputs": [],
   "source": [
    "plt.figure(figsize=(30,30))\n",
    "\n",
    "plt.subplot(1,2,1)\n",
    "plt.axis('scaled')\n",
    "plt.title(\"Topography\",fontsize=24)\n",
    "plt.pcolormesh(longitude, latitude, topography, cmap='terrain',shading='auto')\n",
    "plt.colorbar(shrink=0.8,orientation=\"horizontal\",label='metros')\n",
    "plt.xlim(np.min(longitude), np.max(longitude))\n",
    "plt.ylim(np.min(latitude), np.max(latitude))\n",
    "plt.xlabel('longitude ($^{\\circ}$)', fontsize=20)\n",
    "plt.ylabel('latitude ($^{\\circ}$)', fontsize=20)\n",
    "plt.grid()\n",
    "\n",
    "plt.subplot(1,2,2)\n",
    "plt.axis('scaled')\n",
    "plt.pcolormesh(longitude, latitude, geoid_rs, cmap='rainbow',shading='auto')\n",
    "plt.title(\"Geoid\",fontsize=24)\n",
    "plt.colorbar(shrink=0.8,orientation=\"horizontal\",label='metros')\n",
    "plt.xlim(np.min(longitude), np.max(longitude))\n",
    "plt.ylim(np.min(latitude), np.max(latitude))\n",
    "plt.xlabel('longitude ($^{\\circ}$)', fontsize=20)\n",
    "plt.ylabel('latitude ($^{\\circ}$)', fontsize=20)\n",
    "\n",
    "plt.grid()\n",
    "plt.show()"
   ]
  },
  {
   "cell_type": "markdown",
   "metadata": {},
   "source": [
    "### Plot Gravity "
   ]
  },
  {
   "cell_type": "code",
   "execution_count": null,
   "metadata": {
    "scrolled": false
   },
   "outputs": [],
   "source": [
    "plt.figure(figsize=(20,20))\n",
    "\n",
    "plt.subplot(1,2,1)\n",
    "plt.title(\"Gravity on the Earth's surface\",fontsize=24)\n",
    "plt.pcolormesh(longitude, latitude, gravity, cmap='rainbow',shading='auto')\n",
    "plt.colorbar(shrink=0.8,orientation=\"horizontal\",label='mgal')\n",
    "plt.xlim(np.min(longitude), np.max(longitude))\n",
    "plt.ylim(np.min(latitude), np.max(latitude))\n",
    "plt.xlabel('longitude ($^{\\circ}$)', fontsize=24)\n",
    "plt.ylabel('latitude ($^{\\circ}$)', fontsize=24)\n",
    "plt.grid()\n",
    "\n",
    "\n",
    "plt.subplot(1,2,2)\n",
    "plt.title(\"Gravity Disturbance on the Earth's surface\",fontsize=24)\n",
    "plt.pcolormesh(longitude, latitude, gravity_disturbance, cmap='seismic',vmin=-200,vmax=200,shading='auto')\n",
    "plt.colorbar(shrink=0.8,orientation=\"horizontal\",label='mgal')\n",
    "plt.xlim(np.min(longitude), np.max(longitude))\n",
    "plt.ylim(np.min(latitude), np.max(latitude))\n",
    "plt.xlabel('longitude ($^{\\circ}$)', fontsize=24)\n",
    "plt.ylabel('latitude ($^{\\circ}$)', fontsize=24)\n",
    "plt.grid()\n",
    "\n",
    "plt.tight_layout()\n",
    "plt.show()"
   ]
  },
  {
   "cell_type": "markdown",
   "metadata": {},
   "source": [
    "## Usando a máscara"
   ]
  },
  {
   "cell_type": "markdown",
   "metadata": {},
   "source": [
    "Podemos usar a máscara para selecionar uma área que desejamos plotar. Por exemplo, se quiséssemos plotar somente a topografia acima do nível do mar:"
   ]
  },
  {
   "cell_type": "code",
   "execution_count": null,
   "metadata": {},
   "outputs": [],
   "source": [
    "# Topografia\n",
    "\n",
    "longitude, latitude, topography = np.loadtxt(fname='topo.gdf', \n",
    "                                             skiprows=29, unpack=True)\n"
   ]
  },
  {
   "cell_type": "code",
   "execution_count": null,
   "metadata": {},
   "outputs": [],
   "source": [
    "# mascara para continente\n",
    "\n",
    "continente = (topography >= 0)\n",
    "\n",
    "# mascara para oceano\n",
    "\n",
    "oceano = (topography < 0)"
   ]
  },
  {
   "cell_type": "code",
   "execution_count": null,
   "metadata": {},
   "outputs": [],
   "source": [
    "topo_superficie = np.zeros_like(topography)\n",
    "topo_superficie[continente] = topography[continente]\n",
    "topo_superficie"
   ]
  },
  {
   "cell_type": "code",
   "execution_count": null,
   "metadata": {},
   "outputs": [],
   "source": [
    "longitude = np.reshape(longitude, shape)\n",
    "latitude = np.reshape(latitude, shape)\n",
    "topo_superficie = np.reshape(topo_superficie, shape)"
   ]
  },
  {
   "cell_type": "code",
   "execution_count": null,
   "metadata": {},
   "outputs": [],
   "source": [
    "plt.figure(figsize=(30,30))\n",
    "\n",
    "plt.axis('scaled')\n",
    "plt.title(\"Topography\",fontsize=24)\n",
    "plt.pcolormesh(longitude, latitude, topo_superficie, cmap='terrain',shading='auto')\n",
    "plt.colorbar(shrink=0.8,orientation=\"horizontal\",label='metros')\n",
    "plt.xlim(np.min(longitude), np.max(longitude))\n",
    "plt.ylim(np.min(latitude), np.max(latitude))\n",
    "plt.xlabel('longitude ($^{\\circ}$)', fontsize=20)\n",
    "plt.ylabel('latitude ($^{\\circ}$)', fontsize=20)\n",
    "plt.grid()"
   ]
  },
  {
   "cell_type": "code",
   "execution_count": null,
   "metadata": {},
   "outputs": [],
   "source": []
  }
 ],
 "metadata": {
  "kernelspec": {
   "display_name": "Python 3",
   "language": "python",
   "name": "python3"
  },
  "language_info": {
   "codemirror_mode": {
    "name": "ipython",
    "version": 3
   },
   "file_extension": ".py",
   "mimetype": "text/x-python",
   "name": "python",
   "nbconvert_exporter": "python",
   "pygments_lexer": "ipython3",
   "version": "3.7.3"
  }
 },
 "nbformat": 4,
 "nbformat_minor": 4
}
