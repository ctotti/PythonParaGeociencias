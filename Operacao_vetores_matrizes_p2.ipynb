{
 "cells": [
  {
   "cell_type": "markdown",
   "metadata": {},
   "source": [
    "# Disciplina: Introdução a programação para geocientistas"
   ]
  },
  {
   "cell_type": "markdown",
   "metadata": {},
   "source": [
    "# Aula 11 - Operações com vetores e matrizes - parte 2"
   ]
  },
  {
   "cell_type": "markdown",
   "metadata": {},
   "source": [
    "## Matrizes\n",
    "\n",
    "- Variável composta multidimensional\n",
    "- É equivalente a um vetor, contudo permite a utilização de diversas dimensões acessadas via diferentes índices\n",
    "- Pode ser pensada como um vetor onde cada célula é outro vetor\n",
    "- Em diversas situações matrizes são necessárias para correlacionar informações"
   ]
  },
  {
   "cell_type": "markdown",
   "metadata": {},
   "source": [
    "## Exemplo motivacional"
   ]
  },
  {
   "cell_type": "markdown",
   "metadata": {},
   "source": [
    "Assumindo que em uma determinada área temos medidas diferentes. Por exemplo, temos medidas localização (latitude, longitute) e altitude. Seria necessário um vetor de 3 posições para guardar os dados dessa determinada localização."
   ]
  },
  {
   "attachments": {
    "image-3.png": {
     "image/png": "[encoded data removed]"
    }
   },
   "cell_type": "markdown",
   "metadata": {},
   "source": [
    "![image-3.png](attachment:image-3.png)"
   ]
  },
  {
   "cell_type": "markdown",
   "metadata": {},
   "source": [
    "Contudo, assumindo que estamos avaliando dados de um perfil, seria necessária uma matriz bidimensional para guardar os dados de todas as estações..."
   ]
  },
  {
   "attachments": {
    "image-3.png": {
     "image/png": "[encoded data removed]"
    }
   },
   "cell_type": "markdown",
   "metadata": {},
   "source": [
    "![image-3.png](attachment:image-3.png)"
   ]
  },
  {
   "cell_type": "code",
   "execution_count": 1,
   "metadata": {},
   "outputs": [],
   "source": [
    "import numpy as np"
   ]
  },
  {
   "cell_type": "code",
   "execution_count": 2,
   "metadata": {},
   "outputs": [
    {
     "data": {
      "text/plain": [
       "array([[22.8808, 43.1041, 14.    ],\n",
       "       [22.9301, 43.124 , 23.    ],\n",
       "       [22.9402, 43.1151, 18.    ]])"
      ]
     },
     "execution_count": 2,
     "metadata": {},
     "output_type": "execute_result"
    }
   ],
   "source": [
    "coordenadas = np.array([[22.8808, 43.1041, 14],[22.9301, 43.1240, 23], [22.9402, 43.1151, 18]])\n",
    "coordenadas"
   ]
  },
  {
   "cell_type": "markdown",
   "metadata": {},
   "source": [
    "### Acessando os valores"
   ]
  },
  {
   "cell_type": "raw",
   "metadata": {},
   "source": [
    "coordenadas[linha][coluna]"
   ]
  },
  {
   "cell_type": "code",
   "execution_count": 3,
   "metadata": {},
   "outputs": [
    {
     "data": {
      "text/plain": [
       "array([22.8808, 43.1041, 14.    ])"
      ]
     },
     "execution_count": 3,
     "metadata": {},
     "output_type": "execute_result"
    }
   ],
   "source": [
    "# Primeira estação\n",
    "\n",
    "coordenadas[0]"
   ]
  },
  {
   "cell_type": "code",
   "execution_count": 4,
   "metadata": {},
   "outputs": [
    {
     "data": {
      "text/plain": [
       "22.8808"
      ]
     },
     "execution_count": 4,
     "metadata": {},
     "output_type": "execute_result"
    }
   ],
   "source": [
    "# Latitude da primeira estação\n",
    "\n",
    "coordenadas[0][0] #outra forma de pedir a mesma coisa é digitar [0,0]"
   ]
  },
  {
   "cell_type": "code",
   "execution_count": 5,
   "metadata": {},
   "outputs": [
    {
     "data": {
      "text/plain": [
       "18.0"
      ]
     },
     "execution_count": 5,
     "metadata": {},
     "output_type": "execute_result"
    }
   ],
   "source": [
    "# Altitude da terceira estação\n",
    "\n",
    "coordenadas[2][2]"
   ]
  },
  {
   "cell_type": "code",
   "execution_count": 6,
   "metadata": {},
   "outputs": [
    {
     "data": {
      "text/plain": [
       "43.124"
      ]
     },
     "execution_count": 6,
     "metadata": {},
     "output_type": "execute_result"
    }
   ],
   "source": [
    "# Longitude da segunda estação\n",
    "\n",
    "coordenadas[1][1]"
   ]
  },
  {
   "cell_type": "code",
   "execution_count": 7,
   "metadata": {},
   "outputs": [
    {
     "data": {
      "text/plain": [
       "22.8808"
      ]
     },
     "execution_count": 7,
     "metadata": {},
     "output_type": "execute_result"
    }
   ],
   "source": [
    "coordenadas[0,0]"
   ]
  },
  {
   "cell_type": "markdown",
   "metadata": {},
   "source": [
    "### Calcular a altitude média"
   ]
  },
  {
   "cell_type": "code",
   "execution_count": 8,
   "metadata": {},
   "outputs": [
    {
     "data": {
      "text/plain": [
       "18.333333333333332"
      ]
     },
     "execution_count": 8,
     "metadata": {},
     "output_type": "execute_result"
    }
   ],
   "source": [
    "(14+23+18)/3"
   ]
  },
  {
   "cell_type": "markdown",
   "metadata": {},
   "source": [
    "#### Usando o `for`"
   ]
  },
  {
   "cell_type": "code",
   "execution_count": 9,
   "metadata": {},
   "outputs": [
    {
     "name": "stdout",
     "output_type": "stream",
     "text": [
      "3 3\n"
     ]
    }
   ],
   "source": [
    "cont = soma = 0\n",
    "linhas,colunas = coordenadas.shape\n",
    "\n",
    "print(linhas,colunas)"
   ]
  },
  {
   "cell_type": "code",
   "execution_count": 10,
   "metadata": {},
   "outputs": [
    {
     "name": "stdout",
     "output_type": "stream",
     "text": [
      "14.0\n",
      "23.0\n",
      "18.0\n"
     ]
    },
    {
     "data": {
      "text/plain": [
       "18.333333333333332"
      ]
     },
     "execution_count": 10,
     "metadata": {},
     "output_type": "execute_result"
    }
   ],
   "source": [
    "for i in range(linhas):\n",
    "    print(coordenadas[i][2])\n",
    "    soma = soma + coordenadas[i][2]\n",
    "    cont = cont + 1\n",
    "\n",
    "media1 = soma/cont\n",
    "\n",
    "media1"
   ]
  },
  {
   "cell_type": "markdown",
   "metadata": {},
   "source": [
    "#### Usando os índices"
   ]
  },
  {
   "cell_type": "code",
   "execution_count": 11,
   "metadata": {},
   "outputs": [
    {
     "data": {
      "text/plain": [
       "array([14., 23., 18.])"
      ]
     },
     "execution_count": 11,
     "metadata": {},
     "output_type": "execute_result"
    }
   ],
   "source": [
    "altitudes = coordenadas[:,2]\n",
    "altitudes"
   ]
  },
  {
   "cell_type": "code",
   "execution_count": 12,
   "metadata": {},
   "outputs": [
    {
     "data": {
      "text/plain": [
       "18.333333333333332"
      ]
     },
     "execution_count": 12,
     "metadata": {},
     "output_type": "execute_result"
    }
   ],
   "source": [
    "media2 = np.sum(altitudes)/len(altitudes)\n",
    "\n",
    "media2"
   ]
  },
  {
   "cell_type": "markdown",
   "metadata": {},
   "source": [
    "#### Usando uma função do Python"
   ]
  },
  {
   "cell_type": "code",
   "execution_count": 13,
   "metadata": {},
   "outputs": [
    {
     "data": {
      "text/plain": [
       "18.333333333333332"
      ]
     },
     "execution_count": 13,
     "metadata": {},
     "output_type": "execute_result"
    }
   ],
   "source": [
    "media3 = np.mean(altitudes)\n",
    "\n",
    "media3"
   ]
  },
  {
   "cell_type": "code",
   "execution_count": 14,
   "metadata": {},
   "outputs": [
    {
     "data": {
      "text/plain": [
       "18.0"
      ]
     },
     "execution_count": 14,
     "metadata": {},
     "output_type": "execute_result"
    }
   ],
   "source": [
    "np.median(altitudes)"
   ]
  },
  {
   "cell_type": "markdown",
   "metadata": {},
   "source": [
    "### Preencher uma matriz por leitura"
   ]
  },
  {
   "cell_type": "code",
   "execution_count": 15,
   "metadata": {},
   "outputs": [
    {
     "data": {
      "text/plain": [
       "array([[0., 0., 0.],\n",
       "       [0., 0., 0.],\n",
       "       [0., 0., 0.]])"
      ]
     },
     "execution_count": 15,
     "metadata": {},
     "output_type": "execute_result"
    }
   ],
   "source": [
    "# Criar matriz de zeros\n",
    "\n",
    "coordenadas = np.zeros((3,3))\n",
    "linhas,colunas = coordenadas.shape\n",
    "\n",
    "coordenadas"
   ]
  },
  {
   "cell_type": "code",
   "execution_count": 16,
   "metadata": {},
   "outputs": [
    {
     "name": "stdout",
     "output_type": "stream",
     "text": [
      "Quantas estações 2\n",
      "Entre com a Latitude/Longitude/Altitude da estação 1? 21.4\n",
      "Entre com a Latitude/Longitude/Altitude da estação 1? 43.2\n",
      "Entre com a Latitude/Longitude/Altitude da estação 1? 14\n",
      "Entre com a Latitude/Longitude/Altitude da estação 2? 22.7\n",
      "Entre com a Latitude/Longitude/Altitude da estação 2? 44.2\n",
      "Entre com a Latitude/Longitude/Altitude da estação 2? 18\n"
     ]
    }
   ],
   "source": [
    "# Preencher cada linha\n",
    "\n",
    "linhas = int(input('Quantas estações '))\n",
    "coordenadas = np.zeros((linhas,3))\n",
    "\n",
    "for i in range(linhas):\n",
    "    \n",
    "    # Preencher cada coluna\n",
    "    \n",
    "    for j in range(colunas):\n",
    "        msg = float(input(f'Entre com a Latitude/Longitude/Altitude da estação {i+1}? '))\n",
    "        coordenadas[i][j] = msg"
   ]
  },
  {
   "cell_type": "markdown",
   "metadata": {},
   "source": [
    "#### coordenadas"
   ]
  },
  {
   "cell_type": "code",
   "execution_count": 17,
   "metadata": {},
   "outputs": [
    {
     "name": "stdout",
     "output_type": "stream",
     "text": [
      "[21.4 43.2 14. ]\n",
      "[22.7 44.2 18. ]\n"
     ]
    }
   ],
   "source": [
    "#imprimir em formato de matriz - por linhas\n",
    "\n",
    "for i in range(linhas):\n",
    "    print(coordenadas[i])"
   ]
  },
  {
   "cell_type": "code",
   "execution_count": 18,
   "metadata": {},
   "outputs": [
    {
     "name": "stdout",
     "output_type": "stream",
     "text": [
      "21.4\n",
      "43.2\n",
      "14.0\n",
      "22.7\n",
      "44.2\n",
      "18.0\n"
     ]
    }
   ],
   "source": [
    "#imprimir um por um\n",
    "\n",
    "for i in range(linhas):\n",
    "    for j in range(colunas):\n",
    "        print(coordenadas[i][j])"
   ]
  },
  {
   "cell_type": "code",
   "execution_count": 27,
   "metadata": {},
   "outputs": [
    {
     "name": "stdout",
     "output_type": "stream",
     "text": [
      "Quantas estações 1\n",
      "Entre com a Lat, Lon, Alt da estação 1 separados por vírgula 22.3, 44.8, 14\n"
     ]
    }
   ],
   "source": [
    "# Criar matriz de zeros\n",
    "\n",
    "linhas = int(input('Quantas estações '))\n",
    "coordenadas = np.zeros((linhas,3))\n",
    "\n",
    "# Preencher cada linha\n",
    "\n",
    "for i in range(linhas):\n",
    "    lat,lon,alt = [float(j) for j in input(f'Entre com a Lat, Lon, Alt da estação {i+1} separados por vírgula ').split(',')]  \n",
    "    coordenadas[i] = lat,lon,alt\n",
    "    "
   ]
  },
  {
   "cell_type": "code",
   "execution_count": 28,
   "metadata": {},
   "outputs": [
    {
     "name": "stdout",
     "output_type": "stream",
     "text": [
      "[22.3 44.8 14. ]\n"
     ]
    }
   ],
   "source": [
    "#imprimir em formato de matriz - por linhas\n",
    "\n",
    "for i in range(linhas):\n",
    "    print(coordenadas[i])"
   ]
  },
  {
   "cell_type": "code",
   "execution_count": 29,
   "metadata": {},
   "outputs": [
    {
     "data": {
      "text/plain": [
       "array([[22.3, 44.8, 14. ]])"
      ]
     },
     "execution_count": 29,
     "metadata": {},
     "output_type": "execute_result"
    }
   ],
   "source": [
    "coordenadas"
   ]
  },
  {
   "cell_type": "markdown",
   "metadata": {},
   "source": [
    "## Contando elementos dentro das matrizes"
   ]
  },
  {
   "cell_type": "code",
   "execution_count": 30,
   "metadata": {},
   "outputs": [
    {
     "data": {
      "text/plain": [
       "array([ 0,  1,  2,  3,  4,  5,  6,  7,  8,  9, 10, 11])"
      ]
     },
     "execution_count": 30,
     "metadata": {},
     "output_type": "execute_result"
    }
   ],
   "source": [
    "# Criar uma matriz 3x4, automaticamente, usando o arange()\n",
    "\n",
    "sequencia = np.arange(12)\n",
    "sequencia"
   ]
  },
  {
   "cell_type": "code",
   "execution_count": 31,
   "metadata": {},
   "outputs": [
    {
     "data": {
      "text/plain": [
       "array([[ 0,  1,  2,  3],\n",
       "       [ 4,  5,  6,  7],\n",
       "       [ 8,  9, 10, 11]])"
      ]
     },
     "execution_count": 31,
     "metadata": {},
     "output_type": "execute_result"
    }
   ],
   "source": [
    "matriz = sequencia.reshape((3,4))\n",
    "matriz"
   ]
  },
  {
   "cell_type": "code",
   "execution_count": 32,
   "metadata": {},
   "outputs": [
    {
     "name": "stdout",
     "output_type": "stream",
     "text": [
      "3 4\n"
     ]
    }
   ],
   "source": [
    "# Contar os números pares\n",
    "\n",
    "count = 0\n",
    "linhas, colunas = matriz.shape\n",
    "print(linhas, colunas)"
   ]
  },
  {
   "cell_type": "code",
   "execution_count": 33,
   "metadata": {},
   "outputs": [
    {
     "data": {
      "text/plain": [
       "6"
      ]
     },
     "execution_count": 33,
     "metadata": {},
     "output_type": "execute_result"
    }
   ],
   "source": [
    "# Linhas\n",
    "for i in range(linhas):\n",
    "    for j in range(colunas):\n",
    "        if matriz[i][j] % 2 == 0:\n",
    "            count += 1\n",
    "count"
   ]
  },
  {
   "cell_type": "code",
   "execution_count": 34,
   "metadata": {},
   "outputs": [
    {
     "data": {
      "text/plain": [
       "array([79, 74, 40, 64,  8, 72, 47,  5, 29, 22, 78, 35])"
      ]
     },
     "execution_count": 34,
     "metadata": {},
     "output_type": "execute_result"
    }
   ],
   "source": [
    "# A partir de uma matriz de números aleatorios\n",
    "\n",
    "sequencia = np.random.randint(0,100,12)\n",
    "sequencia"
   ]
  },
  {
   "cell_type": "code",
   "execution_count": 35,
   "metadata": {},
   "outputs": [
    {
     "data": {
      "text/plain": [
       "array([[79, 74, 40, 64],\n",
       "       [ 8, 72, 47,  5],\n",
       "       [29, 22, 78, 35]])"
      ]
     },
     "execution_count": 35,
     "metadata": {},
     "output_type": "execute_result"
    }
   ],
   "source": [
    "matriz = sequencia.reshape(3,4)\n",
    "matriz"
   ]
  },
  {
   "cell_type": "code",
   "execution_count": 36,
   "metadata": {},
   "outputs": [
    {
     "name": "stdout",
     "output_type": "stream",
     "text": [
      "74\n",
      "40\n",
      "64\n",
      "8\n",
      "72\n",
      "22\n",
      "78\n"
     ]
    }
   ],
   "source": [
    "# Linhas\n",
    "for i in range(linhas):\n",
    "    for j in range(colunas):\n",
    "        if matriz[i][j] % 2 == 0:\n",
    "            count += 1\n",
    "            print(matriz[i][j])\n"
   ]
  },
  {
   "cell_type": "code",
   "execution_count": 37,
   "metadata": {},
   "outputs": [
    {
     "data": {
      "text/plain": [
       "13"
      ]
     },
     "execution_count": 37,
     "metadata": {},
     "output_type": "execute_result"
    }
   ],
   "source": [
    "count"
   ]
  },
  {
   "cell_type": "markdown",
   "metadata": {},
   "source": [
    "## Matrizes de N dimensões"
   ]
  },
  {
   "cell_type": "markdown",
   "metadata": {},
   "source": [
    "Uma matriz pode ter um número qualquer de dimensões! Basta usar um índice para cada dimensão.\n",
    "\n",
    "Voltando ao exemplo das estações, vamos assumir que uma área tenha dois perfis. Seria necessário uma matriz tridimensional para guardar os dados de todos os perfis."
   ]
  },
  {
   "attachments": {
    "image.png": {
     "image/png": "[encoded data removed]"
    }
   },
   "cell_type": "markdown",
   "metadata": {},
   "source": [
    "![image.png](attachment:image.png)"
   ]
  },
  {
   "cell_type": "code",
   "execution_count": 38,
   "metadata": {},
   "outputs": [],
   "source": [
    "coordenadas = np.array([[[22.8808, 43.1041, 14], [22.9301, 43.1240, 23], [22.9402, 43.1151, 18]],\n",
    "                       [[23.7943, 42.1542, 21], [23.5321, 42.7639, 25], [24.9762, 44.1891, 32]]])"
   ]
  },
  {
   "cell_type": "code",
   "execution_count": 39,
   "metadata": {},
   "outputs": [
    {
     "data": {
      "text/plain": [
       "array([[[22.8808, 43.1041, 14.    ],\n",
       "        [22.9301, 43.124 , 23.    ],\n",
       "        [22.9402, 43.1151, 18.    ]],\n",
       "\n",
       "       [[23.7943, 42.1542, 21.    ],\n",
       "        [23.5321, 42.7639, 25.    ],\n",
       "        [24.9762, 44.1891, 32.    ]]])"
      ]
     },
     "execution_count": 39,
     "metadata": {},
     "output_type": "execute_result"
    }
   ],
   "source": [
    "coordenadas"
   ]
  },
  {
   "cell_type": "code",
   "execution_count": 40,
   "metadata": {},
   "outputs": [
    {
     "data": {
      "text/plain": [
       "(2, 3, 3)"
      ]
     },
     "execution_count": 40,
     "metadata": {},
     "output_type": "execute_result"
    }
   ],
   "source": [
    "coordenadas.shape"
   ]
  },
  {
   "cell_type": "markdown",
   "metadata": {},
   "source": [
    "### Atribuição"
   ]
  },
  {
   "cell_type": "code",
   "execution_count": 42,
   "metadata": {},
   "outputs": [
    {
     "data": {
      "text/plain": [
       "array([[23.7943, 42.1542, 21.    ],\n",
       "       [23.5321, 42.7639, 25.    ],\n",
       "       [24.9762, 44.1891, 32.    ]])"
      ]
     },
     "execution_count": 42,
     "metadata": {},
     "output_type": "execute_result"
    }
   ],
   "source": [
    "# Perfil 1\n",
    "coordenadas[1]"
   ]
  },
  {
   "cell_type": "code",
   "execution_count": 44,
   "metadata": {},
   "outputs": [
    {
     "data": {
      "text/plain": [
       "array([23.5321, 42.7639, 25.    ])"
      ]
     },
     "execution_count": 44,
     "metadata": {},
     "output_type": "execute_result"
    }
   ],
   "source": [
    "# Estação 2 do perfil 2\n",
    "\n",
    "coordenadas[1][1]"
   ]
  },
  {
   "cell_type": "code",
   "execution_count": 45,
   "metadata": {},
   "outputs": [
    {
     "data": {
      "text/plain": [
       "array([24.9762, 44.1891, 32.    ])"
      ]
     },
     "execution_count": 45,
     "metadata": {},
     "output_type": "execute_result"
    }
   ],
   "source": [
    "# Estação 3 do perfil 2\n",
    "\n",
    "coordenadas[1][2]"
   ]
  },
  {
   "cell_type": "code",
   "execution_count": 46,
   "metadata": {},
   "outputs": [
    {
     "data": {
      "text/plain": [
       "array([22.8808, 22.9301, 22.9402])"
      ]
     },
     "execution_count": 46,
     "metadata": {},
     "output_type": "execute_result"
    }
   ],
   "source": [
    "# Todas as latitudes do primeiro perfil\n",
    "\n",
    "coordenadas[0,:,0]"
   ]
  },
  {
   "cell_type": "code",
   "execution_count": 50,
   "metadata": {},
   "outputs": [
    {
     "data": {
      "text/plain": [
       "array([[43.1041, 43.124 , 43.1151],\n",
       "       [42.1542, 42.7639, 44.1891]])"
      ]
     },
     "execution_count": 50,
     "metadata": {},
     "output_type": "execute_result"
    }
   ],
   "source": [
    "# Todas as longitudes\n",
    "\n",
    "coordenadas[:,:,1]"
   ]
  },
  {
   "cell_type": "markdown",
   "metadata": {},
   "source": [
    "### Operações úteis"
   ]
  },
  {
   "cell_type": "markdown",
   "metadata": {},
   "source": [
    "#### `max(), min(), sum(), mean()`"
   ]
  },
  {
   "cell_type": "code",
   "execution_count": 51,
   "metadata": {},
   "outputs": [
    {
     "data": {
      "text/plain": [
       "array([[[22.8808, 43.1041, 14.    ],\n",
       "        [22.9301, 43.124 , 23.    ],\n",
       "        [22.9402, 43.1151, 18.    ]],\n",
       "\n",
       "       [[23.7943, 42.1542, 21.    ],\n",
       "        [23.5321, 42.7639, 25.    ],\n",
       "        [24.9762, 44.1891, 32.    ]]])"
      ]
     },
     "execution_count": 51,
     "metadata": {},
     "output_type": "execute_result"
    }
   ],
   "source": [
    "coordenadas"
   ]
  },
  {
   "cell_type": "code",
   "execution_count": 52,
   "metadata": {},
   "outputs": [
    {
     "data": {
      "text/plain": [
       "22.9402"
      ]
     },
     "execution_count": 52,
     "metadata": {},
     "output_type": "execute_result"
    }
   ],
   "source": [
    "coordenadas[0,:,0].max()"
   ]
  },
  {
   "cell_type": "code",
   "execution_count": 53,
   "metadata": {},
   "outputs": [
    {
     "data": {
      "text/plain": [
       "22.8808"
      ]
     },
     "execution_count": 53,
     "metadata": {},
     "output_type": "execute_result"
    }
   ],
   "source": [
    "coordenadas[0,:,0].min()"
   ]
  },
  {
   "cell_type": "code",
   "execution_count": 54,
   "metadata": {},
   "outputs": [
    {
     "data": {
      "text/plain": [
       "133.0"
      ]
     },
     "execution_count": 54,
     "metadata": {},
     "output_type": "execute_result"
    }
   ],
   "source": [
    "coordenadas[:,:,2].sum()"
   ]
  },
  {
   "cell_type": "code",
   "execution_count": 55,
   "metadata": {},
   "outputs": [
    {
     "data": {
      "text/plain": [
       "22.166666666666668"
      ]
     },
     "execution_count": 55,
     "metadata": {},
     "output_type": "execute_result"
    }
   ],
   "source": [
    "coordenadas[:,:,2].mean()"
   ]
  },
  {
   "cell_type": "markdown",
   "metadata": {},
   "source": [
    "### Operações e plotagem com vetores e matrizes"
   ]
  },
  {
   "cell_type": "markdown",
   "metadata": {},
   "source": [
    "Vimos que ao utilizar os arrays do numpy, podemos realizar operações em um conjunto de valores organizados em um array sem a necessidade de utilizar um `for`. As operações matemáticas são realizadas elemento a elemento. Podemos usar os arrays também para calcular fórmulas e plotar gráficos.\n",
    "\n",
    "A biblioteca mais usual para plotagem é a `matplotlib.pyplot`\n",
    "\n",
    "https://matplotlib.org/stable/api/_as_gen/matplotlib.pyplot.html"
   ]
  },
  {
   "cell_type": "code",
   "execution_count": 56,
   "metadata": {},
   "outputs": [],
   "source": [
    "import matplotlib.pyplot as plt"
   ]
  },
  {
   "cell_type": "code",
   "execution_count": 79,
   "metadata": {},
   "outputs": [
    {
     "name": "stdout",
     "output_type": "stream",
     "text": [
      "150\n"
     ]
    }
   ],
   "source": [
    "x = np.arange(0, 15, 0.1)\n",
    "y1 = np.sin(x)\n",
    "y2 = np.cos(x)\n",
    "\n",
    "print(len(x))"
   ]
  },
  {
   "cell_type": "code",
   "execution_count": 80,
   "metadata": {},
   "outputs": [],
   "source": [
    "#print(y)"
   ]
  },
  {
   "cell_type": "code",
   "execution_count": 159,
   "metadata": {},
   "outputs": [
    {
     "data": {
      "image/png": "[encoded data removed]",
      "text/plain": [
       "<Figure size 864x432 with 1 Axes>"
      ]
     },
     "metadata": {
      "needs_background": "light"
     },
     "output_type": "display_data"
    }
   ],
   "source": [
    "plt.figure(figsize=(12,6))\n",
    "plt.plot(x, y1,'r--', label='sen(x)')\n",
    "plt.plot(x, y2,'b--', label='cos(x)')\n",
    "plt.xlabel('X', fontsize='18')\n",
    "plt.ylabel('Y', fontsize='18')\n",
    "plt.title('Gráfico de Y',fontsize='18')\n",
    "plt.legend(loc='lower right')\n",
    "\n",
    "plt.show()"
   ]
  },
  {
   "cell_type": "markdown",
   "metadata": {},
   "source": [
    "## Exemplos"
   ]
  },
  {
   "cell_type": "markdown",
   "metadata": {},
   "source": [
    "### 1.\n",
    "A matriz `dados` abaixo é uma matriz 15x3. A primeira coluna representa o ID das estações, a segunda coluna, a localização em $x$ que contem as posições das medidas (como um perfil geofísico); e a terceira coluna representa a anomalia que contém os valores da anomalia. Plote o gráfico da anomalia."
   ]
  },
  {
   "cell_type": "code",
   "execution_count": 104,
   "metadata": {},
   "outputs": [],
   "source": [
    "estacoes = np.arange(1,16)\n",
    "posicao = np.linspace(-35,35,15)\n",
    "anomalia = np.array([0.4, 0.5, 1., 0.6, 1.2, 3.1, 5.5,6.3, 5.2, 4.1, 2.4, 1.3, 0.5, 0.3, 0.7])"
   ]
  },
  {
   "cell_type": "code",
   "execution_count": 105,
   "metadata": {},
   "outputs": [
    {
     "name": "stdout",
     "output_type": "stream",
     "text": [
      "[[  1.  -35.    0.4]\n",
      " [  2.  -30.    0.5]\n",
      " [  3.  -25.    1. ]\n",
      " [  4.  -20.    0.6]\n",
      " [  5.  -15.    1.2]\n",
      " [  6.  -10.    3.1]\n",
      " [  7.   -5.    5.5]\n",
      " [  8.    0.    6.3]\n",
      " [  9.    5.    5.2]\n",
      " [ 10.   10.    4.1]\n",
      " [ 11.   15.    2.4]\n",
      " [ 12.   20.    1.3]\n",
      " [ 13.   25.    0.5]\n",
      " [ 14.   30.    0.3]\n",
      " [ 15.   35.    0.7]]\n"
     ]
    }
   ],
   "source": [
    "dados = np.array([estacoes,posicao,anomalia]).T\n",
    "print(dados)"
   ]
  },
  {
   "cell_type": "code",
   "execution_count": 100,
   "metadata": {},
   "outputs": [
    {
     "data": {
      "text/plain": [
       "[<matplotlib.lines.Line2D at 0x7f662e873ee0>]"
      ]
     },
     "execution_count": 100,
     "metadata": {},
     "output_type": "execute_result"
    },
    {
     "data": {
      "image/png": "[encoded data removed]",
      "text/plain": [
       "<Figure size 432x288 with 1 Axes>"
      ]
     },
     "metadata": {
      "needs_background": "light"
     },
     "output_type": "display_data"
    }
   ],
   "source": [
    "plt.plot(posicao,anomalia,'ko')"
   ]
  },
  {
   "cell_type": "code",
   "execution_count": 117,
   "metadata": {},
   "outputs": [
    {
     "data": {
      "text/plain": [
       "array([-35., -30., -25., -20., -15., -10.,  -5.,   0.,   5.,  10.,  15.,\n",
       "        20.,  25.,  30.,  35.])"
      ]
     },
     "execution_count": 117,
     "metadata": {},
     "output_type": "execute_result"
    }
   ],
   "source": [
    "dados[:,1]"
   ]
  },
  {
   "cell_type": "code",
   "execution_count": 120,
   "metadata": {},
   "outputs": [
    {
     "data": {
      "text/plain": [
       "Text(0, 0.5, 'Anomalia')"
      ]
     },
     "execution_count": 120,
     "metadata": {},
     "output_type": "execute_result"
    },
    {
     "data": {
      "image/png": "[encoded data removed]",
      "text/plain": [
       "<Figure size 432x288 with 1 Axes>"
      ]
     },
     "metadata": {
      "needs_background": "light"
     },
     "output_type": "display_data"
    }
   ],
   "source": [
    "plt.plot(dados[:,1],dados[:,2],'ro')\n",
    "plt.xlabel('Posição')\n",
    "plt.ylabel('Anomalia')"
   ]
  },
  {
   "cell_type": "markdown",
   "metadata": {},
   "source": [
    "### 2. \n",
    "Escreva um programa para converter temperaturas de celsius para fahrenheit usando a fórmula abaixo:\n",
    "\n",
    "$$ F = (9\\times C + (32 *5))/5 $$\n",
    "\n",
    "Em que $C$ é a temperatura em graus Celcius e $F$ é a temperatura em graus Fahrenheit. Plote o resultado em Celcius e Fahrenheit. Plote também a temperatura média."
   ]
  },
  {
   "cell_type": "code",
   "execution_count": 121,
   "metadata": {},
   "outputs": [],
   "source": [
    "temperaturas_julho = np.array([18.6, 19.5, 20.7, 20.6, 19.5, 19.9, 19.4, 20.2, 20.6, 21.3, \n",
    "                               21, 21.1, 21.1, 22.6, 25.8, 23.7, 21.1, 21.3, 19.6, 18.8, 18.8, \n",
    "                               19.9, 20.7, 20.8, 21.6, 22.8, 27.1, 19.7])\n",
    "\n",
    "dias = np.arange(1,len(temperaturas_julho)+1)"
   ]
  },
  {
   "cell_type": "code",
   "execution_count": 122,
   "metadata": {},
   "outputs": [
    {
     "data": {
      "text/plain": [
       "array([ 1,  2,  3,  4,  5,  6,  7,  8,  9, 10, 11, 12, 13, 14, 15, 16, 17,\n",
       "       18, 19, 20, 21, 22, 23, 24, 25, 26, 27, 28])"
      ]
     },
     "execution_count": 122,
     "metadata": {},
     "output_type": "execute_result"
    }
   ],
   "source": [
    "dias"
   ]
  },
  {
   "cell_type": "code",
   "execution_count": 123,
   "metadata": {},
   "outputs": [],
   "source": [
    "C = temperaturas_julho\n",
    "F = (9*C+(32*5))/5"
   ]
  },
  {
   "cell_type": "code",
   "execution_count": 138,
   "metadata": {},
   "outputs": [
    {
     "data": {
      "image/png": "[encoded data removed]",
      "text/plain": [
       "<Figure size 864x432 with 2 Axes>"
      ]
     },
     "metadata": {
      "needs_background": "light"
     },
     "output_type": "display_data"
    }
   ],
   "source": [
    "plt.figure(figsize=(12,6))\n",
    "\n",
    "plt.subplot(2,1,1)\n",
    "plt.plot(dias,C,'ro')\n",
    "plt.xlabel('Dias')\n",
    "plt.ylabel('°C')\n",
    "plt.title('Temperaturas de julho °C')\n",
    "\n",
    "plt.subplot(2,1,2)\n",
    "plt.plot(dias,F,'bo')\n",
    "plt.xlabel('Dias')\n",
    "plt.ylabel('°F')\n",
    "plt.title('Temperaturas de julho °F')\n",
    "\n",
    "plt.savefig('temperatura.jpeg')\n",
    "plt.tight_layout()\n",
    "plt.show()"
   ]
  },
  {
   "cell_type": "markdown",
   "metadata": {},
   "source": [
    "### 3.\n",
    "Seja a função abaixo abaixo:\n",
    "\n",
    "$$\n",
    "y(x) = \\frac{1}{\\sqrt{2\\pi}}\\exp(-0.5x^2)\n",
    "$$\n",
    "\n",
    "* Preencher o array `x` com valores para coordenadas x uniformemente espaçadas em [-4, 4]. \n",
    "* Preencher o array `y` com valores y(x), respectivamente, onde y(x) é definido pela fórmula acima. \n",
    "* Plotar o gráfico de `y`."
   ]
  },
  {
   "cell_type": "code",
   "execution_count": null,
   "metadata": {},
   "outputs": [],
   "source": []
  },
  {
   "cell_type": "markdown",
   "metadata": {},
   "source": [
    "### 4.\n",
    "Dado um vetor $v = (2, 3, -1)$ e uma função $f(x) = x^3 + xe^x + 1$, aplicar $f$ a cada elemento em $v$. Depois calcular $f(v)$ como $v^3 + ve^v + 1$, utilizando regras de computação vetorial. Mostrar que os dois resultados são iguais. Plote o gráfico de $f(v)$."
   ]
  },
  {
   "cell_type": "code",
   "execution_count": null,
   "metadata": {},
   "outputs": [],
   "source": []
  },
  {
   "cell_type": "markdown",
   "metadata": {},
   "source": [
    "### 5. \n",
    "Faça um programa que leia duas matrizes A e B 2x2 e imprima a matriz C que é a soma das matrizes A e B."
   ]
  },
  {
   "cell_type": "code",
   "execution_count": null,
   "metadata": {},
   "outputs": [],
   "source": []
  },
  {
   "cell_type": "markdown",
   "metadata": {},
   "source": [
    "### 6. \n",
    "Faça um programa que leia uma matriz 3x3 de inteiros e retorne a linha de maior soma. Imprima na tela a matriz, a\n",
    "linha de maior soma e a soma."
   ]
  },
  {
   "cell_type": "code",
   "execution_count": null,
   "metadata": {},
   "outputs": [],
   "source": []
  },
  {
   "cell_type": "markdown",
   "metadata": {},
   "source": [
    "### 7. \n",
    "\n",
    "Faça um programa que leia uma matriz 6x3 com números reais, calcule e mostre: \n",
    "* (a) o maior elemento da matriz e sua respectiva posição (linha e coluna); \n",
    "* (b) o menor elemento da matriz e sua respectiva posição. "
   ]
  },
  {
   "cell_type": "code",
   "execution_count": null,
   "metadata": {},
   "outputs": [],
   "source": []
  },
  {
   "cell_type": "markdown",
   "metadata": {},
   "source": [
    "### 8.\n",
    "\n",
    "Faça um programa que leia as dimensões de duas matrizes A e B, e depois leia as duas matrizes. Se as matrizes forem de tamanhos compatíveis para multiplicação, multiplique as matrizes. Imprima as matrizes A, B e a matriz resultante da multiplicação. Depois compare com a função `dot()`"
   ]
  },
  {
   "cell_type": "code",
   "execution_count": null,
   "metadata": {},
   "outputs": [],
   "source": []
  },
  {
   "cell_type": "markdown",
   "metadata": {},
   "source": [
    "### 9.\n",
    "\n",
    "Faça um programa que leia duas matrizes A e B e verifica se B é a inversa de A (ou seja, se a multiplicação de A por B é a matriz identidade). \n",
    "\n",
    "Exemplo de matriz identidade 3x3\n",
    "\n",
    "$$\\begin{split}\n",
    "\\mathbf{I} \n",
    "    & = \\left[\n",
    "    \\begin{array}{cccc}\n",
    "        1  &\n",
    "        0  &\n",
    "        0  \\\\\n",
    "        0  &\n",
    "        1  &\n",
    "        0  \\\\\n",
    "        0  &\n",
    "        0  &\n",
    "        1  \\\\\n",
    "    \\end{array}\n",
    "    \\right] \\: .    \n",
    "\\end{split}\n",
    "$$\n"
   ]
  },
  {
   "cell_type": "code",
   "execution_count": null,
   "metadata": {},
   "outputs": [],
   "source": []
  }
 ],
 "metadata": {
  "kernelspec": {
   "display_name": "Python 3",
   "language": "python",
   "name": "python3"
  },
  "language_info": {
   "codemirror_mode": {
    "name": "ipython",
    "version": 3
   },
   "file_extension": ".py",
   "mimetype": "text/x-python",
   "name": "python",
   "nbconvert_exporter": "python",
   "pygments_lexer": "ipython3",
   "version": "3.7.3"
  }
 },
 "nbformat": 4,
 "nbformat_minor": 5
}
