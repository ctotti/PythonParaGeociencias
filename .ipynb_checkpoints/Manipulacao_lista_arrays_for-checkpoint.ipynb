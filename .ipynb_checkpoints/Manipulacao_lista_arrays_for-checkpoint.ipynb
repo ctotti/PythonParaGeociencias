{
 "cells": [
  {
   "cell_type": "markdown",
   "metadata": {},
   "source": [
    "# Disciplina: Introdução a programação para geocientistas"
   ]
  },
  {
   "cell_type": "markdown",
   "metadata": {},
   "source": [
    "# Aula 9 - `for` para manipulação de listas e arrays"
   ]
  },
  {
   "cell_type": "markdown",
   "metadata": {},
   "source": [
    "Suponhamos que temos um conjunto de 3 medidas de topografia (https://pt.wikipedia.org/wiki/Topografia) de uma determinada área e queremos obter uma média da altitude do relevo e identificar quais medidas estão acima de uma determinada altitude, por exemplo, acima de 2000m. "
   ]
  },
  {
   "cell_type": "markdown",
   "metadata": {},
   "source": [
    "Primeiro vamos entrar com os valores da altitude das 3 estações. Rode a célula abaixo e digite valores aleatórios de altitude, variando entre 1500 a 2500, por exemplo."
   ]
  },
  {
   "cell_type": "code",
   "execution_count": 1,
   "metadata": {},
   "outputs": [
    {
     "name": "stdout",
     "output_type": "stream",
     "text": [
      "Informe a altitude medida na estação 1: 1500\n",
      "Informe a altitude medida na estação 2: 2000\n",
      "Informe a altitude medida na estação 3: 2500\n"
     ]
    }
   ],
   "source": [
    "estacao1 = float(input('Informe a altitude medida na estação 1: '))\n",
    "estacao2 = float(input('Informe a altitude medida na estação 2: '))\n",
    "estacao3 = float(input('Informe a altitude medida na estação 3: '))"
   ]
  },
  {
   "cell_type": "markdown",
   "metadata": {},
   "source": [
    "Agora, vamos calcular a altitude média:"
   ]
  },
  {
   "cell_type": "code",
   "execution_count": 2,
   "metadata": {},
   "outputs": [
    {
     "name": "stdout",
     "output_type": "stream",
     "text": [
      "A altitude média do relevo é 2000.00.\n"
     ]
    }
   ],
   "source": [
    "media = (estacao1 + estacao2 + estacao3)/3\n",
    "\n",
    "print(f'A altitude média do relevo é {media:.2f}.')"
   ]
  },
  {
   "cell_type": "markdown",
   "metadata": {},
   "source": [
    "Agora vamos verificar quais estações estão acima do nível de referência (2000m):"
   ]
  },
  {
   "cell_type": "code",
   "execution_count": 3,
   "metadata": {},
   "outputs": [
    {
     "name": "stdout",
     "output_type": "stream",
     "text": [
      "A medida da estação 3 está acima do nível de referência.\n"
     ]
    }
   ],
   "source": [
    "if estacao1 > 2000:\n",
    "    print('A medida da estação 1 está acima do nível de referência.')\n",
    "                 \n",
    "if estacao2 > 2000:\n",
    "    print('A medida da estação 2 está acima do nível de referência.')\n",
    "\n",
    "if estacao3 > 2000:\n",
    "    print('A medida da estação 3 está acima do nível de referência.')"
   ]
  },
  {
   "cell_type": "markdown",
   "metadata": {},
   "source": [
    "Fazer este programa é simples quando temos poucas medidas. Mas se tivéssemos mais medidas? Por exemplo, se tivéssemos 30 medidas de altitude de um perfil geofísico.\n",
    "\n",
    "É possível definir variáveis que guardam mais de um valor. Essas variáveis são conhecidas por diferentes\n",
    "nomes:\n",
    "\n",
    "* Arrays (arranjos),\n",
    "* Variáveis compostas,\n",
    "* Variáveis subscritas,\n",
    "* Variáveis indexáveis.\n",
    " \n",
    "Elas podem ser unidimensionais (vetores) ou multidimensionais (matrizes)."
   ]
  },
  {
   "cell_type": "markdown",
   "metadata": {},
   "source": [
    "# Vetores"
   ]
  },
  {
   "cell_type": "markdown",
   "metadata": {},
   "source": [
    "Vetores são variáveis compostas unidimensionais.\n",
    "\n",
    "* Contém espaço para armazenar diversos valores\n",
    "* É acessada via um índice\n",
    "\n",
    "A ideia de vetor é comum na matemática em que cada valor é descrito como uma variável subscrita, por exemplo\n",
    "\n",
    "$$\n",
    "\\mathbf{a} = \\begin{bmatrix}\n",
    "a_{1} \\\\\n",
    "a_{2} \\\\\n",
    "\\vdots \\\\\n",
    "a_{N}\n",
    "\\end{bmatrix}_{\\, N \\times 1} \\quad .\n",
    "$$\n",
    "\n",
    "Nesse exemplo, $\\mathbf{a}$ é um vetor de $N$ elementos: $a_1, a_2, ..., a_N$"
   ]
  },
  {
   "cell_type": "markdown",
   "metadata": {},
   "source": [
    "A ideia de vetor é análoga a uma lista.  Uma única variável (no expemplo acima, $\\mathbf a$) guarda ao mesmo tempo múltiplos valores, por exemplo $a_1 = 123, a_2 = 456, ...$\n",
    "\n",
    "$$\n",
    "\\mathbf{a} = \\begin{bmatrix}\n",
    "123 \\\\\n",
    "456 \\\\\n",
    "\\vdots \\\\\n",
    "N\n",
    "\\end{bmatrix}_{\\, N \\times 1} \\quad .\n",
    "$$"
   ]
  },
  {
   "cell_type": "markdown",
   "metadata": {},
   "source": [
    "Em Python, vetores são implementados por meio de **listas** ou **arrays**:\n",
    "\n",
    "* Colchetes delimitam o início e o fim da lista\n",
    "* Vírgula delimitam os elementos\n",
    "\n",
    "Os elementos de uma lista podem ser de qualquer tipo\n",
    "\n",
    "Exemplos:\n",
    "\n",
    "- `lista = ['A', 1, 2, 'Casa', 2.3]`\n",
    "- `valores = [10, 5, 6.7, 2, 7.5]`\n"
   ]
  },
  {
   "cell_type": "markdown",
   "metadata": {},
   "source": [
    "Já vimos anteriormente que para acessar (ler ou escrever) uma posição da lista, basta informar a posição entre colchetes. Vamos então criar uma lista qualquer e manipulá-la."
   ]
  },
  {
   "cell_type": "code",
   "execution_count": 4,
   "metadata": {},
   "outputs": [
    {
     "name": "stdout",
     "output_type": "stream",
     "text": [
      "5.333333333333333\n"
     ]
    }
   ],
   "source": [
    "a = [3, 5, 8]\n",
    "media = (a[0] + a[1] + a[2]) / 3\n",
    "\n",
    "print(media)"
   ]
  },
  {
   "cell_type": "markdown",
   "metadata": {},
   "source": [
    "Mas podemos iterar por todos os seus valores usando o comando `for`. O comando `len()` informa o tamanho da lista e quantas iterações terá o *loop*."
   ]
  },
  {
   "cell_type": "markdown",
   "metadata": {},
   "source": [
    "## Usando o `for` para percorrer uma lista"
   ]
  },
  {
   "cell_type": "code",
   "execution_count": 5,
   "metadata": {},
   "outputs": [
    {
     "name": "stdout",
     "output_type": "stream",
     "text": [
      "11\n",
      "24\n",
      "36\n"
     ]
    }
   ],
   "source": [
    "a = [11, 24, 36]\n",
    "\n",
    "for i in range(len(a)):\n",
    "    print(a[i])"
   ]
  },
  {
   "cell_type": "markdown",
   "metadata": {},
   "source": [
    "No exemplo acima, o loop possue 3 iterações e a cada iteração, o elemento `a[i]` é impresso."
   ]
  },
  {
   "cell_type": "markdown",
   "metadata": {},
   "source": [
    "## Usando o `for` para contar elementos em uma lista\n",
    "\n",
    "Podemos usar uma variável contadora para contar quantas vezes um elemento aparece em uma lista."
   ]
  },
  {
   "cell_type": "code",
   "execution_count": 6,
   "metadata": {},
   "outputs": [
    {
     "name": "stdout",
     "output_type": "stream",
     "text": [
      "O número 10 aparece 2 vezes na lista `a`\n"
     ]
    }
   ],
   "source": [
    "a = [10, 21, 14, 7, 10]\n",
    "cont = 0\n",
    "\n",
    "for i in a:\n",
    "    if i == 10:\n",
    "        cont += 1\n",
    "\n",
    "print('O número 10 aparece',cont,'vezes na lista `a`')"
   ]
  },
  {
   "cell_type": "markdown",
   "metadata": {},
   "source": [
    "A função `count()` do Python faz a mesma coisa: "
   ]
  },
  {
   "cell_type": "code",
   "execution_count": 7,
   "metadata": {},
   "outputs": [
    {
     "data": {
      "text/plain": [
       "2"
      ]
     },
     "execution_count": 7,
     "metadata": {},
     "output_type": "execute_result"
    }
   ],
   "source": [
    "cont = a.count(10)\n",
    "cont"
   ]
  },
  {
   "cell_type": "markdown",
   "metadata": {},
   "source": [
    "## Usando o `for` para realizar operações com os elementos em uma lista"
   ]
  },
  {
   "cell_type": "markdown",
   "metadata": {},
   "source": [
    "Podemos também usar o `for` para iterar em uma lista e realizar operações matemáticas com cada elemento e \"salvar\" o resultado em uma nova lista. Para isso, é necessário usar o comando `append()` para adicionar novos elementos a uma nova lista pré-definida. \n",
    "\n",
    "Nos exemplos a seguir temos a lista `a` com 5 números e desejamos realizar algumas operações com cada elemento e guardar o resultado na lista `b`. A lista `b`deve ser criada anteriormente como uma lista \"vazia\"."
   ]
  },
  {
   "cell_type": "markdown",
   "metadata": {},
   "source": [
    "#### Soma"
   ]
  },
  {
   "cell_type": "code",
   "execution_count": 8,
   "metadata": {},
   "outputs": [
    {
     "data": {
      "text/plain": [
       "[1010, 1021, 1014, 1007, 1010]"
      ]
     },
     "execution_count": 8,
     "metadata": {},
     "output_type": "execute_result"
    }
   ],
   "source": [
    "a = [10, 21, 14, 7, 10]\n",
    "b = []\n",
    "\n",
    "for i in range(len(a)):\n",
    "    b.append(1000 + a[i]) \n",
    "\n",
    "b"
   ]
  },
  {
   "cell_type": "markdown",
   "metadata": {},
   "source": [
    "#### Multiplicação"
   ]
  },
  {
   "cell_type": "code",
   "execution_count": 9,
   "metadata": {},
   "outputs": [
    {
     "data": {
      "text/plain": [
       "[10000, 21000, 14000, 7000, 10000]"
      ]
     },
     "execution_count": 9,
     "metadata": {},
     "output_type": "execute_result"
    }
   ],
   "source": [
    "a = [10, 21, 14, 7, 10]\n",
    "b = []\n",
    "\n",
    "for i in range(len(a)):\n",
    "    b.append(1000 * a[i]) \n",
    "\n",
    "b"
   ]
  },
  {
   "cell_type": "markdown",
   "metadata": {},
   "source": [
    "#### Média"
   ]
  },
  {
   "cell_type": "code",
   "execution_count": 10,
   "metadata": {},
   "outputs": [
    {
     "data": {
      "text/plain": [
       "12.4"
      ]
     },
     "execution_count": 10,
     "metadata": {},
     "output_type": "execute_result"
    }
   ],
   "source": [
    "a = [10, 21, 14, 7, 10]\n",
    "media = 0\n",
    "\n",
    "for i in range(len(a)):\n",
    "    media = media + a[i]\n",
    "    \n",
    "media = media / len(a)\n",
    "\n",
    "media"
   ]
  },
  {
   "cell_type": "markdown",
   "metadata": {},
   "source": [
    "Podemos também realizar operações entre duas listas. Por exemplo, se quisermos somar os elementos da lista `a` com os elementos da lista `b` e guardar na lista `c`:"
   ]
  },
  {
   "cell_type": "code",
   "execution_count": 11,
   "metadata": {},
   "outputs": [
    {
     "data": {
      "text/plain": [
       "[12, 26, 18, 17, 10]"
      ]
     },
     "execution_count": 11,
     "metadata": {},
     "output_type": "execute_result"
    }
   ],
   "source": [
    "a = [10, 21, 14, 7, 10]\n",
    "b = [2, 5, 4, 10, 0]\n",
    "c = []\n",
    "\n",
    "for i in range(len(a)):\n",
    "    ci = a[i] + b[i]\n",
    "    c.append(ci)\n",
    "\n",
    "c"
   ]
  },
  {
   "cell_type": "markdown",
   "metadata": {},
   "source": [
    "Esse programa poderia ser feito uzando a função `zip`:"
   ]
  },
  {
   "cell_type": "code",
   "execution_count": 12,
   "metadata": {},
   "outputs": [
    {
     "data": {
      "text/plain": [
       "[12, 26, 18, 17, 10]"
      ]
     },
     "execution_count": 12,
     "metadata": {},
     "output_type": "execute_result"
    }
   ],
   "source": [
    "a = [10, 21, 14, 7, 10]\n",
    "b = [2, 5, 4, 10, 0]\n",
    "c = []\n",
    "\n",
    "for i, j in zip(a,b):\n",
    "    c.append(i+j)\n",
    "    \n",
    "c"
   ]
  },
  {
   "cell_type": "markdown",
   "metadata": {},
   "source": [
    "## Criar uma lista a partir de valores lidos do teclado\n",
    "\n",
    "Podemos também criar uma lista a partir de valores digitados no teclado:"
   ]
  },
  {
   "cell_type": "code",
   "execution_count": 13,
   "metadata": {},
   "outputs": [
    {
     "name": "stdout",
     "output_type": "stream",
     "text": [
      "Digite um número: 5\n",
      "Digite um número: 6\n",
      "Digite um número: 7\n",
      "Digite um número: 52\n",
      "Digite um número: 80\n"
     ]
    }
   ],
   "source": [
    "a = []\n",
    "\n",
    "for i in range(5):\n",
    "    a.append(float(input('Digite um número: ')))\n"
   ]
  },
  {
   "cell_type": "code",
   "execution_count": 14,
   "metadata": {},
   "outputs": [
    {
     "data": {
      "text/plain": [
       "[5.0, 6.0, 7.0, 52.0, 80.0]"
      ]
     },
     "execution_count": 14,
     "metadata": {},
     "output_type": "execute_result"
    }
   ],
   "source": [
    "a"
   ]
  },
  {
   "cell_type": "markdown",
   "metadata": {},
   "source": [
    "## Voltando ao exemplo das altitudes...\n",
    "\n",
    "Vamos agora retornar no nosso exemplo das medidas de topografia. Se quisermos criar uma lista a partir de valores de altitudes lidos do teclado poderiamos fazer assim:"
   ]
  },
  {
   "cell_type": "code",
   "execution_count": 15,
   "metadata": {},
   "outputs": [
    {
     "name": "stdout",
     "output_type": "stream",
     "text": [
      "Informe a altitude medida na estação 1: 1550\n",
      "Informe a altitude medida na estação 2: 2050\n",
      "Informe a altitude medida na estação 3: 2500\n",
      "As altitudes da área são: 1550.0 , 2050.0 e 2500.0\n"
     ]
    }
   ],
   "source": [
    "altitudes = []\n",
    "\n",
    "altitudes.append(float(input('Informe a altitude medida na estação 1: ')))\n",
    "altitudes.append(float(input('Informe a altitude medida na estação 2: ')))\n",
    "altitudes.append(float(input('Informe a altitude medida na estação 3: ')))\n",
    "\n",
    "print('As altitudes da área são:', altitudes[0],',',altitudes[1],'e',altitudes[2])"
   ]
  },
  {
   "cell_type": "markdown",
   "metadata": {},
   "source": [
    "Repare que a variável `altitudes` é uma lista."
   ]
  },
  {
   "cell_type": "code",
   "execution_count": 16,
   "metadata": {},
   "outputs": [
    {
     "data": {
      "text/plain": [
       "list"
      ]
     },
     "execution_count": 16,
     "metadata": {},
     "output_type": "execute_result"
    }
   ],
   "source": [
    "type(altitudes)"
   ]
  },
  {
   "cell_type": "markdown",
   "metadata": {},
   "source": [
    "## E se fossem 10 medidas?\n",
    "\n",
    "E se ao invés de 3 medidas, tivéssemos 10 medidas e quiséssemos calcular a altitude média: "
   ]
  },
  {
   "cell_type": "code",
   "execution_count": 17,
   "metadata": {},
   "outputs": [
    {
     "name": "stdout",
     "output_type": "stream",
     "text": [
      "Informe a altitude medida na estação 1: 1550\n",
      "Informe a altitude medida na estação 2: 2050\n",
      "Informe a altitude medida na estação 3: 2500\n",
      "Informe a altitude medida na estação 4: 1500\n",
      "Informe a altitude medida na estação 5: 2000\n",
      "Informe a altitude medida na estação 6: 1505\n",
      "Informe a altitude medida na estação 7: 2005\n",
      "Informe a altitude medida na estação 8: 1055\n",
      "Informe a altitude medida na estação 9: 2055\n",
      "Informe a altitude medida na estação 10: 1555\n",
      "A altitude média da área é 1777.50.\n"
     ]
    }
   ],
   "source": [
    "num_medidas = 10\n",
    "altitudes = []\n",
    "media = 0\n",
    "\n",
    "for i in range(num_medidas):\n",
    "    altitudes.append(float(input(f'Informe a altitude medida na estação {i+1}: ')))\n",
    "    media = media + altitudes[i]\n",
    "media = media / num_medidas\n",
    "\n",
    "print(f'A altitude média da área é {media:.2f}.')"
   ]
  },
  {
   "cell_type": "markdown",
   "metadata": {},
   "source": [
    "Podemos também, através do comando `for`, descobrir quais estações estão acima do nível de referência."
   ]
  },
  {
   "cell_type": "code",
   "execution_count": 18,
   "metadata": {},
   "outputs": [
    {
     "name": "stdout",
     "output_type": "stream",
     "text": [
      "A estação 2 está acima do nível de referência.\n",
      "A estação 3 está acima do nível de referência.\n",
      "A estação 7 está acima do nível de referência.\n",
      "A estação 9 está acima do nível de referência.\n"
     ]
    }
   ],
   "source": [
    "for i in range(num_medidas):\n",
    "    if altitudes[i] > 2000:\n",
    "        print('A estação', i+1, 'está acima do nível de referência.')"
   ]
  },
  {
   "cell_type": "markdown",
   "metadata": {},
   "source": [
    "E se tirvermos 100 ou mais medidas? Ninguém merece digitar na mão os 100 valores de altitude... Normalmente obtemos este tipo de dado em um arquivo externo e importamos. Por enquanto, vamos gerar uma lista aleatória de valores de altitude através da função `random.sample()` (https://docs.python.org/3/library/random.html#)."
   ]
  },
  {
   "cell_type": "code",
   "execution_count": 19,
   "metadata": {},
   "outputs": [],
   "source": [
    "import random"
   ]
  },
  {
   "cell_type": "code",
   "execution_count": 20,
   "metadata": {},
   "outputs": [
    {
     "name": "stdout",
     "output_type": "stream",
     "text": [
      "[2281, 1680, 1579, 1765, 1916, 2278, 1864, 1611, 1744, 2160, 2188, 2338, 2033, 2249, 1974, 1617, 2131, 2480, 1980, 1564, 1508, 2406, 1887, 1556, 2105, 1561, 2219, 1919, 1853, 2034, 2204, 2357, 1513, 1775, 2082, 2159, 1792, 1627, 2183, 1549, 1663, 1606, 2471, 2039, 1809, 2128, 1500, 1552, 1796, 2298, 2310, 1883, 2078, 1676, 1572, 1736, 1867, 2302, 1687, 2086, 1981, 2311, 2352, 2340, 1807, 1698, 2215, 2453, 1749, 1770, 2003, 2455, 2032, 1873, 2099, 1866, 1537, 2074, 1522, 2377, 2238, 1571, 2360, 2415, 2020, 1732, 1879, 1738, 2042, 2018, 1788, 1717, 2142, 2089, 1885, 2151, 2056, 2476, 1893, 1629]\n"
     ]
    }
   ],
   "source": [
    "# Gerar uma lista de 100 números aleatórios entre 1500 e 2500.\n",
    "\n",
    "altitudes = random.sample(range(1500,2500),100) \n",
    "\n",
    "print(altitudes)"
   ]
  },
  {
   "cell_type": "code",
   "execution_count": 21,
   "metadata": {},
   "outputs": [
    {
     "data": {
      "text/plain": [
       "list"
      ]
     },
     "execution_count": 21,
     "metadata": {},
     "output_type": "execute_result"
    }
   ],
   "source": [
    "type(altitudes)"
   ]
  },
  {
   "cell_type": "markdown",
   "metadata": {},
   "source": [
    "## Vamos calcular a altitude média usando o `for`"
   ]
  },
  {
   "cell_type": "code",
   "execution_count": 22,
   "metadata": {},
   "outputs": [
    {
     "name": "stdout",
     "output_type": "stream",
     "text": [
      "A altitude média da área é 1961.33.\n"
     ]
    }
   ],
   "source": [
    "num_medidas = len(altitudes)\n",
    "media = 0\n",
    "\n",
    "for i in range(num_medidas):\n",
    "    media += altitudes[i]  # media = media + altitudes[i]\n",
    "    \n",
    "media = media / num_medidas\n",
    "\n",
    "print(f'A altitude média da área é {media:.2f}.')"
   ]
  },
  {
   "cell_type": "markdown",
   "metadata": {},
   "source": [
    "Podemos também contar quantas medidas estão acima de um nível de referência pré-estabelecido e informar quais são elas criando uma lista dentro do corpo do *loop*."
   ]
  },
  {
   "cell_type": "code",
   "execution_count": 23,
   "metadata": {},
   "outputs": [
    {
     "name": "stdout",
     "output_type": "stream",
     "text": [
      "48 estações estão acima do nível de referência. São elas: [1, 6, 10, 11, 12, 13, 14, 17, 18, 22, 25, 27, 30, 31, 32, 35, 36, 39, 43, 44, 46, 50, 51, 53, 58, 60, 62, 63, 64, 67, 68, 71, 72, 73, 75, 78, 80, 81, 83, 84, 85, 89, 90, 93, 94, 96, 97, 98]\n"
     ]
    }
   ],
   "source": [
    "estacoes = []\n",
    "cont = 0  # variável contadora para contar quantas estações estão acima do nível de referÊncia\n",
    "\n",
    "for i in range(num_medidas):\n",
    "    if altitudes[i] > 2000:\n",
    "        cont += 1               # cont = cont + 1\n",
    "        estacoes.append(i+1)   \n",
    "        \n",
    "print(cont, 'estações estão acima do nível de referência. São elas:', estacoes)"
   ]
  },
  {
   "cell_type": "markdown",
   "metadata": {},
   "source": [
    "Pronto! No exemplo acima pudemos, de forma rápida, fazer alguns cálculos com os elementos de uma lista grande o suficiente para ser impraticável realizar um por um. Esses são alguns exemplos de uso do comando `for` para manipular uma lista de valores. "
   ]
  },
  {
   "cell_type": "markdown",
   "metadata": {},
   "source": [
    "## Exercícios para praticar"
   ]
  },
  {
   "cell_type": "markdown",
   "metadata": {},
   "source": [
    "### 1. \n",
    "Escreva um programa que crie uma lista de números com os 5 primeiros números primos. Peça para o usuário digitar os números, um por um."
   ]
  },
  {
   "cell_type": "code",
   "execution_count": 26,
   "metadata": {},
   "outputs": [
    {
     "name": "stdout",
     "output_type": "stream",
     "text": [
      "Digite em ordem crescente os números primos: 2\n",
      "Digite em ordem crescente os números primos: 3\n",
      "Digite em ordem crescente os números primos: 5\n",
      "Digite em ordem crescente os números primos: 7\n",
      "Digite em ordem crescente os números primos: 11\n"
     ]
    },
    {
     "data": {
      "text/plain": [
       "[2.0, 3.0, 5.0, 7.0, 11.0]"
      ]
     },
     "execution_count": 26,
     "metadata": {},
     "output_type": "execute_result"
    }
   ],
   "source": [
    "a = []\n",
    "\n",
    "for i in range(5):\n",
    "    a.append(float(input('Digite em ordem crescente os números primos: ')))\n",
    "\n",
    "a"
   ]
  },
  {
   "cell_type": "markdown",
   "metadata": {},
   "source": [
    "### 2. \n",
    "Escreva um programa que calcule a soma dos números inteiros de 1 até $n$, inclusive $n$. Depois compare o resultado com a fórmula $n(n + 1)/2$. Observação: você define a quantidade de números, ou seja, o valor de $n$."
   ]
  },
  {
   "cell_type": "code",
   "execution_count": 32,
   "metadata": {},
   "outputs": [
    {
     "name": "stdout",
     "output_type": "stream",
     "text": [
      "Informe um valor para n: 4\n",
      "Informe um valor para n: 4\n",
      "Informe um valor para n: 4\n",
      "Informe um valor para n: 4\n",
      "Informe um valor para n: 4\n",
      "20.0\n"
     ]
    }
   ],
   "source": [
    "# Não entendi essa questão -  o que é para fazer depois de somar os valores de n?\n",
    "\n",
    "num_medidas = 5\n",
    "n = []\n",
    "cont = 0\n",
    "\n",
    "for i in range(num_medidas):\n",
    "    n.append(float(input('Informe um valor para n: ')))\n",
    "    cont = cont + n[i]\n",
    "print (cont)"
   ]
  },
  {
   "cell_type": "markdown",
   "metadata": {},
   "source": [
    "### 3.\n",
    "Escreva um programa para converter temperaturas de celsius para fahrenheit usando a fórmula abaixo:\n",
    "\n",
    "$$ F = (9\\times C + (32 *5))/5 $$\n",
    "\n",
    "Em que $C$ é a temperatura em graus Celcius e $F$ é a temperatura em graus Fahrenheit. Gere uma lista de temperaturas em graus celcius usando a função `random.sample()`. A lista pode conter 30 números aleatórios que variem entre 15 e 40."
   ]
  },
  {
   "cell_type": "code",
   "execution_count": 60,
   "metadata": {},
   "outputs": [
    {
     "ename": "SyntaxError",
     "evalue": "invalid syntax (<ipython-input-60-a56009c14ad9>, line 2)",
     "output_type": "error",
     "traceback": [
      "\u001b[1;36m  File \u001b[1;32m\"<ipython-input-60-a56009c14ad9>\"\u001b[1;36m, line \u001b[1;32m2\u001b[0m\n\u001b[1;33m    F = int []\u001b[0m\n\u001b[1;37m             ^\u001b[0m\n\u001b[1;31mSyntaxError\u001b[0m\u001b[1;31m:\u001b[0m invalid syntax\n"
     ]
    }
   ],
   "source": [
    "# não consigooooooo\n",
    "\n",
    "C = random.sample(range(15,40),25) \n",
    "F = int []\n",
    "print('Os valores aleatórios em graus Celsius são: ', C)\n",
    "\n",
    "for i in range (len(C)):\n",
    "    F = (9*C[i]+(32*5))/5\n",
    "    F.append(i+1) \n",
    "\n",
    "print (F)"
   ]
  },
  {
   "cell_type": "markdown",
   "metadata": {},
   "source": [
    "### 4.\n",
    "Seja $a = 3$, $b = 5$ e $\\mathbf x = [1, 2, 3, 4, 5, 6, 7, 8, 9, 10]$, obtenha $\\mathbf y$ a partir da fórmula abaixo:\n",
    "\n",
    "$$\n",
    "\\mathbf y =  a +  b \\mathbf x.\n",
    "$$\n",
    " "
   ]
  },
  {
   "cell_type": "code",
   "execution_count": 65,
   "metadata": {},
   "outputs": [
    {
     "ename": "TypeError",
     "evalue": "unsupported operand type(s) for +: 'int' and 'list'",
     "output_type": "error",
     "traceback": [
      "\u001b[1;31m---------------------------------------------------------------------------\u001b[0m",
      "\u001b[1;31mTypeError\u001b[0m                                 Traceback (most recent call last)",
      "\u001b[1;32m<ipython-input-65-83949bbfb656>\u001b[0m in \u001b[0;36m<module>\u001b[1;34m\u001b[0m\n\u001b[0;32m      4\u001b[0m \u001b[1;33m\u001b[0m\u001b[0m\n\u001b[0;32m      5\u001b[0m \u001b[1;32mfor\u001b[0m \u001b[0mi\u001b[0m \u001b[1;32min\u001b[0m \u001b[0mrange\u001b[0m \u001b[1;33m(\u001b[0m\u001b[0mlen\u001b[0m \u001b[1;33m(\u001b[0m\u001b[0mx\u001b[0m\u001b[1;33m)\u001b[0m\u001b[1;33m)\u001b[0m\u001b[1;33m:\u001b[0m\u001b[1;33m\u001b[0m\u001b[1;33m\u001b[0m\u001b[0m\n\u001b[1;32m----> 6\u001b[1;33m     \u001b[0my\u001b[0m \u001b[1;33m=\u001b[0m \u001b[0ma\u001b[0m \u001b[1;33m+\u001b[0m \u001b[1;33m(\u001b[0m\u001b[0mb\u001b[0m\u001b[1;33m*\u001b[0m\u001b[0mx\u001b[0m\u001b[1;33m)\u001b[0m\u001b[1;33m\u001b[0m\u001b[1;33m\u001b[0m\u001b[0m\n\u001b[0m\u001b[0;32m      7\u001b[0m     \u001b[0mprint\u001b[0m \u001b[1;33m(\u001b[0m\u001b[0my\u001b[0m\u001b[1;33m)\u001b[0m\u001b[1;33m\u001b[0m\u001b[1;33m\u001b[0m\u001b[0m\n",
      "\u001b[1;31mTypeError\u001b[0m: unsupported operand type(s) for +: 'int' and 'list'"
     ]
    }
   ],
   "source": [
    "a = 3\n",
    "b = 5\n",
    "x = [1,2,3,4,5,6,7,8,9,10]\n",
    "\n",
    "for i in range (len (x)):\n",
    "    y = a + (b*x)\n",
    "    print (y)"
   ]
  },
  {
   "cell_type": "markdown",
   "metadata": {},
   "source": [
    "### 5.\n",
    "Seja $\\mathbf a = [2, 6, 3, 1, 5, 6, 7, 8, 2, 3]$, $\\mathbf b = [2, 2, 5, 1, 3, 6, 2, 0, 7, 4]$ e $\\mathbf x = [1, 2, 3, 4, 5, 6, 7, 8, 9, 10]$, obtenha $\\mathbf y$ a partir da fórmula abaixo:\n",
    "\n",
    "$$\n",
    "\\mathbf y =  \\mathbf a +  \\mathbf b \\mathbf x.\n",
    "$$\n",
    "\n",
    "*Dica: use a função `zip()`.*"
   ]
  },
  {
   "cell_type": "code",
   "execution_count": null,
   "metadata": {},
   "outputs": [],
   "source": []
  }
 ],
 "metadata": {
  "kernelspec": {
   "display_name": "Python 3",
   "language": "python",
   "name": "python3"
  },
  "language_info": {
   "codemirror_mode": {
    "name": "ipython",
    "version": 3
   },
   "file_extension": ".py",
   "mimetype": "text/x-python",
   "name": "python",
   "nbconvert_exporter": "python",
   "pygments_lexer": "ipython3",
   "version": "3.7.3"
  }
 },
 "nbformat": 4,
 "nbformat_minor": 4
}
