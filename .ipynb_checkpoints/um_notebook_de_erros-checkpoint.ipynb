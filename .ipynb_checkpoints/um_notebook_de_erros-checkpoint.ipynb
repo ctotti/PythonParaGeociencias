{
 "cells": [
  {
   "cell_type": "markdown",
   "metadata": {},
   "source": [
    "# Disciplina: Introdução a programação para geocientistas"
   ]
  },
  {
   "cell_type": "markdown",
   "metadata": {},
   "source": [
    "# Aula 15 - Erros"
   ]
  },
  {
   "cell_type": "markdown",
   "metadata": {},
   "source": [
    "Erros em programas são comuns. Todo programador encontra erros, tanto os que estão começando, como os que programam há anos. Encontrar erros e exceções pode ser muito frustrante, e pode fazer com que a codificação se torne um esforço desesperador. No entanto, compreender quais são os diferentes tipos de erros e quando é provável que os encontre pode ajudar muito. Uma vez que sabemos como são gerados os erros, estes tornam-se muito mais fáceis de corrigir.\n",
    "\n",
    "\n",
    "Os erros em Python têm uma forma muito específica, chamada *traceback*, que é a sequência de chamadas de funções que levaram a um erro. Vamos ver alguns deles:\n"
   ]
  },
  {
   "cell_type": "code",
   "execution_count": null,
   "metadata": {},
   "outputs": [],
   "source": [
    "# Esse código contem erro. \n",
    "\n",
    "def sorvete_favorito(n):\n",
    "    sorvetes = [\n",
    "        'chocolate',\n",
    "        'baunilha',\n",
    "        'morango'\n",
    "    ]\n",
    "    \n",
    "    return sorvetes[n]\n",
    "    \n",
    "sorvete_favorito(3)\n"
   ]
  },
  {
   "cell_type": "markdown",
   "metadata": {},
   "source": [
    "Este *traceback* particular tem dois níveis. É possível determinar o número de níveis procurando o número de setas do lado esquerdo. Neste caso:\n",
    "\n",
    "O primeiro mostra o código da célula acima, com uma seta apontando para a Linha 12 (que é `sorvete_favorito(3)`).\n",
    "\n",
    "O segundo mostra algum código na função `sorvete_favorito()`, com uma seta apontando para a Linha 10 (que é `return sorvetes[n]`).\n",
    "\n",
    "O último nível é o local real onde o erro ocorreu. O(s) outro(s) nível(is) mostra(m) qual a função que o programa executou para chegar ao próximo nível abaixo. Assim, neste caso, o programa executou primeiro uma chamada de função para a função `sorvete_favorito()`. Dentro desta função, o programa encontrou um erro na Linha 7, quando tentou executar o retorno da função (`sorvetes[3]`).\n",
    "\n",
    "E no fim, a mensagem contida em `IndexError: list index out of range` explica qual é o erro.\n",
    "\n",
    "\n",
    "Se encontrar um erro e não souber o que significa, ainda assim é importante ler o *traceback* com calma. Dessa forma, se corrigir o erro, mas encontrar um novo, pode verificar que o erro mudou. Além disso, às vezes, saber onde o erro ocorreu é suficiente para o corrigir, mesmo que não se compreenda inteiramente a mensagem.\n",
    "\n",
    "Se encontrar um erro que não reconhece, tente olhar para a documentação oficial sobre erros (nesse [link](https://docs.python.org/3/library/exceptions.html)). Contudo, note que nem sempre será possível encontrar o erro aí, uma vez que é possível criar erros personalizados. Nesse caso, esperemos que a mensagem de erro personalizada seja suficientemente informativa para o ajudar a descobrir o problema. \n"
   ]
  },
  {
   "cell_type": "markdown",
   "metadata": {},
   "source": [
    "## Erros de sintaxe"
   ]
  },
  {
   "cell_type": "markdown",
   "metadata": {},
   "source": [
    "Quando esquecemos os dois pontos no final de uma linha, ou acidentalmente adicionamos um espaço a mais na identação do `if`, ou esquecemos um parêntese, temos um erro de **sintaxe**. Isto significa que o Python não consegui \"entender\" como ler o programa. Se o Python não souber ler o programa, ele vai desistir e informar que há um erro. Por exemplo:"
   ]
  },
  {
   "cell_type": "code",
   "execution_count": null,
   "metadata": {},
   "outputs": [],
   "source": [
    "# Essa célula contem um erro\n",
    "\n",
    "def qualquer_funcao()\n",
    "    msg = 'oi, mundo!'\n",
    "    print(msg)\n",
    "    \n",
    "     return msg"
   ]
  },
  {
   "cell_type": "markdown",
   "metadata": {},
   "source": [
    "Aqui, o Python diz que há um `SyntaxError` na linha 3, e até coloca uma pequena seta no local onde há um problema. Neste caso, o problema é que falta os dois pontos (`:`) no final de `qualquer_funcao()`.\n",
    "\n",
    "Na verdade, a função acima tem dois problemas com a sintaxe. Se resolvermos o problema com os dois pontos, veremos que existe também um `IndentationError`, o que significa que as linhas na definição da função não têm todas a mesma indentação:"
   ]
  },
  {
   "cell_type": "code",
   "execution_count": null,
   "metadata": {},
   "outputs": [],
   "source": [
    "# Essa célula contem um erro\n",
    "\n",
    "def qualquer_funcao():\n",
    "    msg = 'oi, mundo!'\n",
    "    print(msg)\n",
    "    \n",
    "     return msg"
   ]
  },
  {
   "cell_type": "markdown",
   "metadata": {},
   "source": [
    "Tanto `SyntaxError` como `IndentationError` indicam um problema com a sintaxe do seu programa, mas um `IndentationError` é mais específico: significa sempre que há um problema com a forma como o seu código é indentado."
   ]
  },
  {
   "cell_type": "markdown",
   "metadata": {},
   "source": [
    "Alguns erros de indentação são mais difíceis de detectar do que outros. Em particular, *tabs* e espaços podem ser difíceis de detectar porque ambos são espaços brancos. No exemplo abaixo, as duas primeiras linhas no corpo da função `qualquer_funcao()` são recuadas com *tabs*, enquanto que a quarta linha - com espaços. No Jupyter notebook não encontraremos esse problema pois ele substitui tudo por espaços."
   ]
  },
  {
   "cell_type": "code",
   "execution_count": null,
   "metadata": {},
   "outputs": [],
   "source": [
    "def qualquer_funcao():\n",
    "        msg = 'oi, mundo!'\n",
    "        print(msg)\n",
    "    \n",
    "        return msg"
   ]
  },
  {
   "cell_type": "markdown",
   "metadata": {},
   "source": [
    "## Erros de Nome de Variável"
   ]
  },
  {
   "cell_type": "markdown",
   "metadata": {},
   "source": [
    "Outro tipo de erro muito comum chama-se `NameError`, e ocorre quando tentamos usar uma variável que não existe. Por exemplo:"
   ]
  },
  {
   "cell_type": "code",
   "execution_count": null,
   "metadata": {},
   "outputs": [],
   "source": [
    "print(a)"
   ]
  },
  {
   "cell_type": "markdown",
   "metadata": {},
   "source": [
    "Os erros de nomes de variáveis vêm com algumas das mensagens de erro mais informativas, que são geralmente da forma (traduzido) \"o nome 'o_nome_variável' não está definido\", ou `NameError: name 'a' is not defined`. \n",
    "\n",
    "Porque é que esta mensagem de erro ocorre? É uma pergunta mais difícil de responder, porque depende do que o seu código deveria fazer. Contudo, há algumas razões muito comuns para que possa ter uma variável indefinida. A primeira é que pretendia usar uma *string*, mas esqueceu de colocar aspas em torno dela, por exemplo:\n",
    "\n"
   ]
  },
  {
   "cell_type": "code",
   "execution_count": null,
   "metadata": {},
   "outputs": [],
   "source": [
    "print(hello)"
   ]
  },
  {
   "cell_type": "markdown",
   "metadata": {},
   "source": [
    "A segunda razão é que pode estar tentando utilizar uma variável que ainda não existe, por exemplo:"
   ]
  },
  {
   "cell_type": "code",
   "execution_count": null,
   "metadata": {},
   "outputs": [],
   "source": [
    "for numero in range(10):\n",
    "    count = count + numero\n",
    "    \n",
    "print('A contagem é:', count)"
   ]
  },
  {
   "cell_type": "markdown",
   "metadata": {},
   "source": [
    "No exemplo anterior, a contagem deveria ter sido definida antes do loop (por exemplo, com `count = 0`):"
   ]
  },
  {
   "cell_type": "code",
   "execution_count": null,
   "metadata": {},
   "outputs": [],
   "source": [
    "count = 0\n",
    "\n",
    "for numero in range(10):\n",
    "    count = count + numero\n",
    "    \n",
    "print('A contagem é:', count)"
   ]
  },
  {
   "cell_type": "markdown",
   "metadata": {},
   "source": [
    "Outra possibilidade de erro é que tenhamos cometido um erro de digitação (*typo*). Suponhaos que tenhamos corrigido o erro acima adicionando a linha `Count = 0` antes do loop. \n",
    "\n",
    "Infelizmente, isso não corrigirá o erro. pois as variáveis são sensíveis a maiúsculas e minúsculas. "
   ]
  },
  {
   "cell_type": "code",
   "execution_count": null,
   "metadata": {},
   "outputs": [],
   "source": [
    "# Limpe o kernel\n",
    "\n",
    "Count = 0\n",
    "\n",
    "for numero in range(10):\n",
    "    count = count + numero\n",
    "    \n",
    "print('A contagem é:', count)"
   ]
  },
  {
   "cell_type": "markdown",
   "metadata": {},
   "source": [
    "## Erros de índice"
   ]
  },
  {
   "cell_type": "markdown",
   "metadata": {},
   "source": [
    "Os erros a seguir estao relacionados com os colchetes (das listas e strings) e os índices dentro deles. Se tentarmos acessar um elemento de uma lista ou uma *string* que não existe, teremos um erro. "
   ]
  },
  {
   "cell_type": "code",
   "execution_count": null,
   "metadata": {},
   "outputs": [],
   "source": [
    "letras = ['a', 'b', 'c']\n",
    "print('A letra #1 é', letras[0])\n",
    "print('A letra #2 é', letras[1])\n",
    "print('A letra #3 é', letras[2])\n",
    "print('A letra #4 é', letras[3])"
   ]
  },
  {
   "cell_type": "markdown",
   "metadata": {},
   "source": [
    "Nesse caso, o Python está dizendo que existe um `IndexError` no nosso código, o que significa que tentamos acessar um índice da lista que não existe."
   ]
  },
  {
   "cell_type": "markdown",
   "metadata": {},
   "source": [
    "## Erros nos arquivos"
   ]
  },
  {
   "cell_type": "markdown",
   "metadata": {},
   "source": [
    "O último tipo de erro que iremos ver são os associados à leitura e escrita de arquivos: `OSError`. Se tentar ler um arquivo que não existe, obterá um erro do tipo `FileNotFoundError`."
   ]
  },
  {
   "cell_type": "code",
   "execution_count": null,
   "metadata": {},
   "outputs": [],
   "source": []
  },
  {
   "cell_type": "code",
   "execution_count": null,
   "metadata": {},
   "outputs": [],
   "source": [
    "arquivo = np.loadtxt('meu_arquivo.txt')"
   ]
  },
  {
   "cell_type": "markdown",
   "metadata": {},
   "source": [
    "Isso pode ocorrer porque especificamos um diretório incorreto para o arquivo. "
   ]
  },
  {
   "cell_type": "markdown",
   "metadata": {},
   "source": [
    "Outro erro comum ao usar especificamente o `loadtxt()` é quando não levamos em consideração as linhas de header e temos um erro do tipo `ValueError`. Isso acontece porque essa função lê, automaticamente, os dados como floats. Se encontra uma palavra diferente de um número, há um problema de conversão `ValueError: could not convert string to float: 'Dias'`.\n"
   ]
  },
  {
   "cell_type": "code",
   "execution_count": null,
   "metadata": {},
   "outputs": [],
   "source": [
    "temperaturas = np.loadtxt('temperaturas_agosto.txt')"
   ]
  },
  {
   "cell_type": "code",
   "execution_count": null,
   "metadata": {},
   "outputs": [],
   "source": [
    "temperaturas = np.loadtxt('temperaturas_agosto.txt', skiprows=1)"
   ]
  },
  {
   "cell_type": "markdown",
   "metadata": {},
   "source": [
    "## Resumo: Leiam sempre as mensagens de erro!"
   ]
  },
  {
   "cell_type": "code",
   "execution_count": null,
   "metadata": {},
   "outputs": [],
   "source": []
  }
 ],
 "metadata": {
  "kernelspec": {
   "display_name": "Python 3",
   "language": "python",
   "name": "python3"
  },
  "language_info": {
   "codemirror_mode": {
    "name": "ipython",
    "version": 3
   },
   "file_extension": ".py",
   "mimetype": "text/x-python",
   "name": "python",
   "nbconvert_exporter": "python",
   "pygments_lexer": "ipython3",
   "version": "3.7.3"
  }
 },
 "nbformat": 4,
 "nbformat_minor": 5
}
