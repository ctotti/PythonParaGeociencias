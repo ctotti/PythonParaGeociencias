{
 "cells": [
  {
   "cell_type": "markdown",
   "metadata": {},
   "source": [
    "# Disciplina: Introdução a programação para geocientistas"
   ]
  },
  {
   "cell_type": "markdown",
   "metadata": {},
   "source": [
    "# Aula 15 - Erros"
   ]
  },
  {
   "cell_type": "markdown",
   "metadata": {},
   "source": [
    "# Exercício extra! \n",
    "\n",
    "Todos os códigos a seguir possuem erros. Tente identificá-los e corrigi-los em uma nova célula. O exercício vale 2 (dois) pontos extras na soma geral das notas."
   ]
  },
  {
   "cell_type": "markdown",
   "metadata": {},
   "source": [
    "## 1."
   ]
  },
  {
   "cell_type": "code",
   "execution_count": null,
   "metadata": {},
   "outputs": [],
   "source": [
    "def uma_funcao\n",
    "\n",
    "    print('Eu não estou interessado em nenhuma teoria')\n",
    "    print('Em nenhuma fantasia, nem no algo mais'\n",
    "    print('Nem em tinta pro meu rosto ou oba oba, ou melodia\n",
    "    print('Para acompanhar bocejos, sonhos matinais.')\n"
   ]
  },
  {
   "cell_type": "code",
   "execution_count": 23,
   "metadata": {},
   "outputs": [],
   "source": [
    "def uma_funcao():\n",
    "\n",
    "    print('Eu não estou interessado em nenhuma teoria')\n",
    "    print('Em nenhuma fantasia, nem no algo mais')\n",
    "    print('Nem em tinta pro meu rosto ou oba oba, ou melodia')\n",
    "    print('Para acompanhar bocejos, sonhos matinais.')"
   ]
  },
  {
   "cell_type": "markdown",
   "metadata": {},
   "source": [
    "## 2. "
   ]
  },
  {
   "cell_type": "code",
   "execution_count": null,
   "metadata": {},
   "outputs": [],
   "source": [
    "for numero in range(10):\n",
    "    \n",
    "    # use \"a\" se  \"numero\" for múltiplo de 3, caso contrário, use \"b\"\n",
    "    if (Numero % 3) == 0:\n",
    "        mensagem = mensagem + 'a'\n",
    "    else:\n",
    "        mensagem = mensagem + b\n",
    "\n",
    "print(mensagem)\n"
   ]
  },
  {
   "cell_type": "code",
   "execution_count": 22,
   "metadata": {},
   "outputs": [
    {
     "name": "stdout",
     "output_type": "stream",
     "text": [
      "a\n"
     ]
    }
   ],
   "source": [
    "for numero in range(10):\n",
    "    \n",
    "    # use \"a\" se  \"numero\" for múltiplo de 3, caso contrário, use \"b\"\n",
    "    if (numero % 3) == 0:\n",
    "        numero = 'a'\n",
    "        mensagem = numero\n",
    "    else:\n",
    "        numero = 'b'\n",
    "        mensagem = numero\n",
    "\n",
    "print(mensagem)"
   ]
  },
  {
   "cell_type": "markdown",
   "metadata": {},
   "source": [
    "## 3."
   ]
  },
  {
   "cell_type": "code",
   "execution_count": 1,
   "metadata": {},
   "outputs": [
    {
     "ename": "IndexError",
     "evalue": "list index out of range",
     "output_type": "error",
     "traceback": [
      "\u001b[1;31m---------------------------------------------------------------------------\u001b[0m",
      "\u001b[1;31mIndexError\u001b[0m                                Traceback (most recent call last)",
      "\u001b[1;32m<ipython-input-1-f09198d34dce>\u001b[0m in \u001b[0;36m<module>\u001b[1;34m\u001b[0m\n\u001b[0;32m      1\u001b[0m \u001b[0mestacoes\u001b[0m \u001b[1;33m=\u001b[0m \u001b[1;33m[\u001b[0m\u001b[1;34m'Primavera'\u001b[0m\u001b[1;33m,\u001b[0m \u001b[1;34m'Verao'\u001b[0m\u001b[1;33m,\u001b[0m \u001b[1;34m'Outono'\u001b[0m\u001b[1;33m,\u001b[0m \u001b[1;34m'Inverno'\u001b[0m\u001b[1;33m]\u001b[0m\u001b[1;33m\u001b[0m\u001b[1;33m\u001b[0m\u001b[0m\n\u001b[1;32m----> 2\u001b[1;33m \u001b[0mprint\u001b[0m\u001b[1;33m(\u001b[0m\u001b[1;34m'Minha estação favorita é'\u001b[0m\u001b[1;33m,\u001b[0m \u001b[0mestacoes\u001b[0m\u001b[1;33m[\u001b[0m\u001b[1;36m4\u001b[0m\u001b[1;33m]\u001b[0m\u001b[1;33m)\u001b[0m\u001b[1;33m\u001b[0m\u001b[1;33m\u001b[0m\u001b[0m\n\u001b[0m",
      "\u001b[1;31mIndexError\u001b[0m: list index out of range"
     ]
    }
   ],
   "source": [
    "estacoes = ['Primavera', 'Verao', 'Outono', 'Inverno']\n",
    "print('Minha estação favorita é', estacoes[4])"
   ]
  },
  {
   "cell_type": "code",
   "execution_count": 2,
   "metadata": {},
   "outputs": [
    {
     "name": "stdout",
     "output_type": "stream",
     "text": [
      "Minha estação favorita é Inverno\n"
     ]
    }
   ],
   "source": [
    "estacoes = ['Primavera', 'Verao', 'Outono', 'Inverno']\n",
    "print('Minha estação favorita é', estacoes[3])"
   ]
  },
  {
   "cell_type": "markdown",
   "metadata": {},
   "source": [
    "## 5."
   ]
  },
  {
   "cell_type": "code",
   "execution_count": 3,
   "metadata": {},
   "outputs": [
    {
     "ename": "SyntaxError",
     "evalue": "invalid syntax (<ipython-input-3-446c0802ea66>, line 3)",
     "output_type": "error",
     "traceback": [
      "\u001b[1;36m  File \u001b[1;32m\"<ipython-input-3-446c0802ea66>\"\u001b[1;36m, line \u001b[1;32m3\u001b[0m\n\u001b[1;33m    for i in range(len(a):\u001b[0m\n\u001b[1;37m                         ^\u001b[0m\n\u001b[1;31mSyntaxError\u001b[0m\u001b[1;31m:\u001b[0m invalid syntax\n"
     ]
    }
   ],
   "source": [
    "a = np.arange(10)\n",
    "\n",
    "for i in range(len(a):\n",
    "    print(a[i])"
   ]
  },
  {
   "cell_type": "code",
   "execution_count": 5,
   "metadata": {},
   "outputs": [
    {
     "name": "stdout",
     "output_type": "stream",
     "text": [
      "0\n",
      "1\n",
      "2\n",
      "3\n",
      "4\n",
      "5\n",
      "6\n",
      "7\n",
      "8\n",
      "9\n"
     ]
    }
   ],
   "source": [
    "import numpy as np\n",
    "\n",
    "a = np.arange(10)\n",
    "\n",
    "for i in range(len(a)):\n",
    "    print(a[i])"
   ]
  },
  {
   "cell_type": "markdown",
   "metadata": {},
   "source": [
    "## 6."
   ]
  },
  {
   "cell_type": "code",
   "execution_count": 6,
   "metadata": {},
   "outputs": [
    {
     "ename": "NameError",
     "evalue": "name 'c' is not defined",
     "output_type": "error",
     "traceback": [
      "\u001b[1;31m---------------------------------------------------------------------------\u001b[0m",
      "\u001b[1;31mNameError\u001b[0m                                 Traceback (most recent call last)",
      "\u001b[1;32m<ipython-input-6-9f5cc122d73a>\u001b[0m in \u001b[0;36m<module>\u001b[1;34m\u001b[0m\n\u001b[0;32m      2\u001b[0m \u001b[0mb\u001b[0m \u001b[1;33m=\u001b[0m \u001b[0mnp\u001b[0m\u001b[1;33m.\u001b[0m\u001b[0marange\u001b[0m\u001b[1;33m(\u001b[0m\u001b[1;36m11\u001b[0m\u001b[1;33m)\u001b[0m\u001b[1;33m\u001b[0m\u001b[1;33m\u001b[0m\u001b[0m\n\u001b[0;32m      3\u001b[0m \u001b[1;33m\u001b[0m\u001b[0m\n\u001b[1;32m----> 4\u001b[1;33m \u001b[0mprint\u001b[0m\u001b[1;33m(\u001b[0m\u001b[0ma\u001b[0m\u001b[1;33m+\u001b[0m\u001b[0mc\u001b[0m\u001b[1;33m)\u001b[0m\u001b[1;33m\u001b[0m\u001b[1;33m\u001b[0m\u001b[0m\n\u001b[0m",
      "\u001b[1;31mNameError\u001b[0m: name 'c' is not defined"
     ]
    }
   ],
   "source": [
    "a = np.arange(10)\n",
    "b = np.arange(11)\n",
    "\n",
    "print(a+c)"
   ]
  },
  {
   "cell_type": "code",
   "execution_count": 8,
   "metadata": {},
   "outputs": [
    {
     "name": "stdout",
     "output_type": "stream",
     "text": [
      "[0 1 2 3 4 5 6 7 8 9] [ 0  1  2  3  4  5  6  7  8  9 10]\n"
     ]
    }
   ],
   "source": [
    "a = np.arange(10)\n",
    "b = np.arange(11)\n",
    "\n",
    "print(a,b)"
   ]
  },
  {
   "cell_type": "markdown",
   "metadata": {},
   "source": [
    "## 7."
   ]
  },
  {
   "cell_type": "code",
   "execution_count": null,
   "metadata": {},
   "outputs": [],
   "source": [
    "numeros = [1, 2, 3, 4, 5, 6]\n",
    "\n",
    "for k in range(7):\n",
    "    \n",
    "    print(numeros[k)"
   ]
  },
  {
   "cell_type": "code",
   "execution_count": 11,
   "metadata": {},
   "outputs": [
    {
     "name": "stdout",
     "output_type": "stream",
     "text": [
      "1\n",
      "2\n",
      "3\n",
      "4\n",
      "5\n",
      "6\n"
     ]
    }
   ],
   "source": [
    "numeros = [1, 2, 3, 4, 5, 6]\n",
    "\n",
    "for k in range(6):\n",
    "    \n",
    "    print(numeros[k])"
   ]
  },
  {
   "cell_type": "markdown",
   "metadata": {},
   "source": [
    "## 8."
   ]
  },
  {
   "cell_type": "code",
   "execution_count": null,
   "metadata": {},
   "outputs": [],
   "source": [
    "palavra = input(Digite uma palavra: ')\n",
    "\n",
    "tamanho = len(palavra)\n",
    "print('A palavra', palavra 'tem ', Tamanho, 'letras.')"
   ]
  },
  {
   "cell_type": "code",
   "execution_count": 12,
   "metadata": {},
   "outputs": [
    {
     "name": "stdout",
     "output_type": "stream",
     "text": [
      "Digite uma palavra: programação\n",
      "A palavra programação tem  11 letras.\n"
     ]
    }
   ],
   "source": [
    "palavra = input('Digite uma palavra: ')\n",
    "\n",
    "tamanho = len(palavra)\n",
    "print('A palavra', palavra, 'tem ', tamanho, 'letras.')"
   ]
  },
  {
   "cell_type": "markdown",
   "metadata": {},
   "source": [
    "## 9."
   ]
  },
  {
   "cell_type": "code",
   "execution_count": null,
   "metadata": {},
   "outputs": [],
   "source": [
    "numero = input('Digite um número qualquer: ')\n",
    "\n",
    "if numero % 2 == 0:\n",
    "print(numero, 'é par)\n",
    "\n",
    "else:\n",
    "    print(numero, 'é ímpar')\n",
    "   \n",
    "    "
   ]
  },
  {
   "cell_type": "code",
   "execution_count": 15,
   "metadata": {},
   "outputs": [
    {
     "name": "stdout",
     "output_type": "stream",
     "text": [
      "Digite um número qualquer: 8\n",
      "8 é par\n"
     ]
    }
   ],
   "source": [
    "numero = int(input('Digite um número qualquer: '))\n",
    "\n",
    "if numero % 2 == 0:\n",
    "    print(numero, 'é par')\n",
    "\n",
    "else:\n",
    "    print(numero, 'é ímpar')"
   ]
  },
  {
   "cell_type": "markdown",
   "metadata": {},
   "source": [
    "## 10."
   ]
  },
  {
   "cell_type": "code",
   "execution_count": null,
   "metadata": {},
   "outputs": [],
   "source": [
    "0y = np.linspace(1,10,10)\n",
    "\n",
    "N = len(y\n",
    "\n",
    "for i in(range(N)):\n",
    "    Print(x+i)\n",
    "        "
   ]
  },
  {
   "cell_type": "code",
   "execution_count": 19,
   "metadata": {},
   "outputs": [
    {
     "name": "stdout",
     "output_type": "stream",
     "text": [
      "[ 1.  2.  3.  4.  5.  6.  7.  8.  9. 10.]\n",
      "[ 2.  3.  4.  5.  6.  7.  8.  9. 10. 11.]\n",
      "[ 3.  4.  5.  6.  7.  8.  9. 10. 11. 12.]\n",
      "[ 4.  5.  6.  7.  8.  9. 10. 11. 12. 13.]\n",
      "[ 5.  6.  7.  8.  9. 10. 11. 12. 13. 14.]\n",
      "[ 6.  7.  8.  9. 10. 11. 12. 13. 14. 15.]\n",
      "[ 7.  8.  9. 10. 11. 12. 13. 14. 15. 16.]\n",
      "[ 8.  9. 10. 11. 12. 13. 14. 15. 16. 17.]\n",
      "[ 9. 10. 11. 12. 13. 14. 15. 16. 17. 18.]\n",
      "[10. 11. 12. 13. 14. 15. 16. 17. 18. 19.]\n"
     ]
    }
   ],
   "source": [
    "y = np.linspace(1,10,10)\n",
    "\n",
    "N = len(y)\n",
    "\n",
    "for i in(range(N)):\n",
    "    print(y+i)"
   ]
  }
 ],
 "metadata": {
  "kernelspec": {
   "display_name": "Python 3",
   "language": "python",
   "name": "python3"
  },
  "language_info": {
   "codemirror_mode": {
    "name": "ipython",
    "version": 3
   },
   "file_extension": ".py",
   "mimetype": "text/x-python",
   "name": "python",
   "nbconvert_exporter": "python",
   "pygments_lexer": "ipython3",
   "version": "3.7.3"
  }
 },
 "nbformat": 4,
 "nbformat_minor": 5
}
