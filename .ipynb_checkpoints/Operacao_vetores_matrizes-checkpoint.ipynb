{
 "cells": [
  {
   "cell_type": "markdown",
   "metadata": {},
   "source": [
    "# Disciplina: Introdução a programação para geocientistas"
   ]
  },
  {
   "cell_type": "markdown",
   "metadata": {},
   "source": [
    "# Aula 10 - Operações com vetores e matrizes"
   ]
  },
  {
   "cell_type": "markdown",
   "metadata": {},
   "source": [
    "## Numpy arrays"
   ]
  },
  {
   "cell_type": "markdown",
   "metadata": {},
   "source": [
    "Arrays são estruturas de dados semelhantes às listas do Python, mas não tão flexíveis. Em um array todos os elementos devem ser de um **mesmo tipo**, tipicamente numérico, como int ou float. Além disso, o tamanho de um array não pode ser modificado, ao contrário de listas que podem crescer dinamicamente. Em contrapartida, o uso de arrays é muito mais eficiente e facilita a computação de grandes volumes de dados numéricos. Isso faz com que arrays sejam particularmente úteis em computação científica.\n",
    "\n",
    "Para trabalhar com arrays em Python vamos utilizar o módulo NumPy. O NumPy define a classe `ndarray` para encapsular arrays de `N` dimensões. Os arrays do NumPy tem tamanho fixo, assim, para se mudar o tamanho de um ndarray, cria-se um novo array e o original é removido.\n",
    "\n",
    "https://numpy.org/doc/stable/user/absolute_beginners.html\n",
    "\n",
    "https://numpy.org/doc/stable/reference/generated/numpy.array.html\n",
    "\n",
    "https://scipy-cookbook.readthedocs.io/items/BuildingArrays.html"
   ]
  },
  {
   "cell_type": "markdown",
   "metadata": {},
   "source": [
    "## Notação"
   ]
  },
  {
   "cell_type": "markdown",
   "metadata": {},
   "source": [
    "Seja $\\mathbf{x}$ um vetor $N \\times 1$ dado por:\n",
    "\n",
    "$$\n",
    "\\mathbf{x} = \\begin{bmatrix}\n",
    "x_{0} \\\\\n",
    "x_{1} \\\\\n",
    "\\vdots \\\\\n",
    "x_{N}\n",
    "\\end{bmatrix}_{\\, N \\times 1} \\quad .\n",
    "$$\n",
    "\n",
    "Vamos utilizar $x_{i}$ ou $x[i]$ para definir o $i$-ésimo elemento de $\\mathbf{x}$. \n",
    "\n",
    "O transposto de $\\mathbf{x}$ é um vetor $1 \\times N$ vector representado por:\n",
    "\n",
    "$$\n",
    "\\mathbf{x}^{\\top} = \\begin{bmatrix}\n",
    "x_{1} & x_{2} & \\cdots & x_{N}\n",
    "\\end{bmatrix}_{1 \\times N} \\quad .\n",
    "$$"
   ]
  },
  {
   "cell_type": "code",
   "execution_count": 1,
   "metadata": {},
   "outputs": [],
   "source": [
    "import numpy as np"
   ]
  },
  {
   "cell_type": "code",
   "execution_count": 8,
   "metadata": {},
   "outputs": [
    {
     "data": {
      "text/plain": [
       "array([1, 2, 3, 4, 5])"
      ]
     },
     "execution_count": 8,
     "metadata": {},
     "output_type": "execute_result"
    }
   ],
   "source": [
    "numeros = np.array([1, 2, 3, 4, 5])\n",
    "numeros"
   ]
  },
  {
   "cell_type": "markdown",
   "metadata": {},
   "source": [
    "Reparem na sintaxe para definir um array:\n",
    "* É necessário usar o `np.array()`\n",
    "* É uma lista dentro do `np.array([])`\n",
    "* Só pode conter números para fazer cálculos"
   ]
  },
  {
   "cell_type": "code",
   "execution_count": 3,
   "metadata": {},
   "outputs": [],
   "source": [
    "letras = np.array(['a', 4, 'r'])"
   ]
  },
  {
   "cell_type": "code",
   "execution_count": 4,
   "metadata": {},
   "outputs": [
    {
     "ename": "TypeError",
     "evalue": "ufunc 'add' did not contain a loop with signature matching types dtype('<U11') dtype('<U11') dtype('<U11')",
     "output_type": "error",
     "traceback": [
      "\u001b[1;31m---------------------------------------------------------------------------\u001b[0m",
      "\u001b[1;31mTypeError\u001b[0m                                 Traceback (most recent call last)",
      "\u001b[1;32m<ipython-input-4-33a4fb939f95>\u001b[0m in \u001b[0;36m<module>\u001b[1;34m\u001b[0m\n\u001b[0;32m      1\u001b[0m \u001b[0ma\u001b[0m \u001b[1;33m=\u001b[0m \u001b[0mnp\u001b[0m\u001b[1;33m.\u001b[0m\u001b[0marray\u001b[0m\u001b[1;33m(\u001b[0m\u001b[1;33m[\u001b[0m\u001b[1;36m1\u001b[0m\u001b[1;33m,\u001b[0m\u001b[1;36m2\u001b[0m\u001b[1;33m,\u001b[0m\u001b[1;36m3\u001b[0m\u001b[1;33m]\u001b[0m\u001b[1;33m)\u001b[0m\u001b[1;33m\u001b[0m\u001b[1;33m\u001b[0m\u001b[0m\n\u001b[1;32m----> 2\u001b[1;33m \u001b[0mletras\u001b[0m \u001b[1;33m+\u001b[0m \u001b[0ma\u001b[0m\u001b[1;33m\u001b[0m\u001b[1;33m\u001b[0m\u001b[0m\n\u001b[0m",
      "\u001b[1;31mTypeError\u001b[0m: ufunc 'add' did not contain a loop with signature matching types dtype('<U11') dtype('<U11') dtype('<U11')"
     ]
    }
   ],
   "source": [
    "a = np.array([1,2,3])\n",
    "letras + a"
   ]
  },
  {
   "cell_type": "code",
   "execution_count": 10,
   "metadata": {},
   "outputs": [
    {
     "data": {
      "text/plain": [
       "numpy.ndarray"
      ]
     },
     "execution_count": 10,
     "metadata": {},
     "output_type": "execute_result"
    }
   ],
   "source": [
    "type(numeros)"
   ]
  },
  {
   "cell_type": "code",
   "execution_count": 11,
   "metadata": {},
   "outputs": [
    {
     "data": {
      "text/plain": [
       "dtype('int32')"
      ]
     },
     "execution_count": 11,
     "metadata": {},
     "output_type": "execute_result"
    }
   ],
   "source": [
    "numeros.dtype"
   ]
  },
  {
   "cell_type": "code",
   "execution_count": 12,
   "metadata": {},
   "outputs": [
    {
     "data": {
      "text/plain": [
       "5"
      ]
     },
     "execution_count": 12,
     "metadata": {},
     "output_type": "execute_result"
    }
   ],
   "source": [
    "len(numeros)"
   ]
  },
  {
   "cell_type": "code",
   "execution_count": 13,
   "metadata": {},
   "outputs": [
    {
     "data": {
      "text/plain": [
       "1"
      ]
     },
     "execution_count": 13,
     "metadata": {},
     "output_type": "execute_result"
    }
   ],
   "source": [
    "numeros[0]"
   ]
  },
  {
   "cell_type": "code",
   "execution_count": 14,
   "metadata": {},
   "outputs": [
    {
     "data": {
      "text/plain": [
       "5"
      ]
     },
     "execution_count": 14,
     "metadata": {},
     "output_type": "execute_result"
    }
   ],
   "source": [
    "numeros[-1]"
   ]
  },
  {
   "cell_type": "code",
   "execution_count": 15,
   "metadata": {},
   "outputs": [
    {
     "data": {
      "text/plain": [
       "array([2, 3, 4])"
      ]
     },
     "execution_count": 15,
     "metadata": {},
     "output_type": "execute_result"
    }
   ],
   "source": [
    "numeros[1:4]"
   ]
  },
  {
   "cell_type": "code",
   "execution_count": 16,
   "metadata": {},
   "outputs": [
    {
     "data": {
      "text/plain": [
       "array([1, 2, 3])"
      ]
     },
     "execution_count": 16,
     "metadata": {},
     "output_type": "execute_result"
    }
   ],
   "source": [
    "numeros[:3]"
   ]
  },
  {
   "cell_type": "code",
   "execution_count": 17,
   "metadata": {},
   "outputs": [
    {
     "data": {
      "text/plain": [
       "array([3, 4, 5])"
      ]
     },
     "execution_count": 17,
     "metadata": {},
     "output_type": "execute_result"
    }
   ],
   "source": [
    "numeros[2:]"
   ]
  },
  {
   "cell_type": "markdown",
   "metadata": {},
   "source": [
    "## Funções numpy - criação automática de vetores"
   ]
  },
  {
   "cell_type": "code",
   "execution_count": 18,
   "metadata": {},
   "outputs": [],
   "source": [
    "n = 10\n",
    "x = np.arange(n )"
   ]
  },
  {
   "cell_type": "code",
   "execution_count": 19,
   "metadata": {},
   "outputs": [
    {
     "data": {
      "text/plain": [
       "array([0, 1, 2, 3, 4, 5, 6, 7, 8, 9])"
      ]
     },
     "execution_count": 19,
     "metadata": {},
     "output_type": "execute_result"
    }
   ],
   "source": [
    "x"
   ]
  },
  {
   "cell_type": "code",
   "execution_count": 20,
   "metadata": {},
   "outputs": [
    {
     "data": {
      "text/plain": [
       "array([0., 0., 0., 0., 0., 0., 0., 0., 0., 0.])"
      ]
     },
     "execution_count": 20,
     "metadata": {},
     "output_type": "execute_result"
    }
   ],
   "source": [
    "x = np.zeros(n)\n",
    "x"
   ]
  },
  {
   "cell_type": "code",
   "execution_count": 21,
   "metadata": {},
   "outputs": [
    {
     "data": {
      "text/plain": [
       "array([0., 0., 0., 0., 0., 0., 0., 0., 0., 0.])"
      ]
     },
     "execution_count": 21,
     "metadata": {},
     "output_type": "execute_result"
    }
   ],
   "source": [
    "a = np.empty_like(x)\n",
    "a"
   ]
  },
  {
   "cell_type": "code",
   "execution_count": 23,
   "metadata": {},
   "outputs": [
    {
     "data": {
      "text/plain": [
       "array([5., 5., 5., 5., 5., 5., 5., 5., 5., 5., 5., 5., 5., 5., 5., 5., 5.,\n",
       "       5., 5., 5.])"
      ]
     },
     "execution_count": 23,
     "metadata": {},
     "output_type": "execute_result"
    }
   ],
   "source": [
    "y = np.ones(20) * 5\n",
    "y"
   ]
  },
  {
   "cell_type": "markdown",
   "metadata": {},
   "source": [
    "## Matrizes"
   ]
  },
  {
   "cell_type": "markdown",
   "metadata": {},
   "source": [
    "### 2D"
   ]
  },
  {
   "cell_type": "code",
   "execution_count": 24,
   "metadata": {},
   "outputs": [
    {
     "name": "stdout",
     "output_type": "stream",
     "text": [
      "[[2 3]\n",
      " [4 5]]\n"
     ]
    }
   ],
   "source": [
    "A = np.array([[2,3],\n",
    "              [4,5]])\n",
    "\n",
    "print(A)"
   ]
  },
  {
   "cell_type": "code",
   "execution_count": 25,
   "metadata": {},
   "outputs": [
    {
     "data": {
      "text/plain": [
       "(2, 2)"
      ]
     },
     "execution_count": 25,
     "metadata": {},
     "output_type": "execute_result"
    }
   ],
   "source": [
    "np.shape(A)"
   ]
  },
  {
   "cell_type": "code",
   "execution_count": 26,
   "metadata": {},
   "outputs": [
    {
     "data": {
      "text/plain": [
       "array([[ 0,  1,  2,  3],\n",
       "       [ 4,  5,  6,  7],\n",
       "       [ 8,  9, 10, 11],\n",
       "       [12, 13, 14, 15]])"
      ]
     },
     "execution_count": 26,
     "metadata": {},
     "output_type": "execute_result"
    }
   ],
   "source": [
    "A = np.array([[0,   1,  2,  3],\n",
    "              [4,   5,  6,  7],\n",
    "              [8,   9, 10, 11],\n",
    "              [12, 13, 14, 15]])\n",
    "A"
   ]
  },
  {
   "cell_type": "code",
   "execution_count": 27,
   "metadata": {},
   "outputs": [
    {
     "data": {
      "text/plain": [
       "(4, 4)"
      ]
     },
     "execution_count": 27,
     "metadata": {},
     "output_type": "execute_result"
    }
   ],
   "source": [
    "np.shape(A)"
   ]
  },
  {
   "cell_type": "code",
   "execution_count": 28,
   "metadata": {},
   "outputs": [
    {
     "data": {
      "text/plain": [
       "array([[0, 1, 2, 3],\n",
       "       [4, 5, 6, 7]])"
      ]
     },
     "execution_count": 28,
     "metadata": {},
     "output_type": "execute_result"
    }
   ],
   "source": [
    "A = np.array([[0,   1,  2,  3],\n",
    "              [4,   5,  6,  7]])\n",
    "A"
   ]
  },
  {
   "cell_type": "code",
   "execution_count": 29,
   "metadata": {},
   "outputs": [
    {
     "data": {
      "text/plain": [
       "(2, 4)"
      ]
     },
     "execution_count": 29,
     "metadata": {},
     "output_type": "execute_result"
    }
   ],
   "source": [
    "np.shape(A)"
   ]
  },
  {
   "cell_type": "code",
   "execution_count": 30,
   "metadata": {},
   "outputs": [
    {
     "data": {
      "text/plain": [
       "array([[1., 1., 1., 1.],\n",
       "       [1., 1., 1., 1.],\n",
       "       [1., 1., 1., 1.],\n",
       "       [1., 1., 1., 1.]])"
      ]
     },
     "execution_count": 30,
     "metadata": {},
     "output_type": "execute_result"
    }
   ],
   "source": [
    "np.ones((4,4))"
   ]
  },
  {
   "cell_type": "code",
   "execution_count": 32,
   "metadata": {},
   "outputs": [
    {
     "data": {
      "text/plain": [
       "array([[0, 1, 2, 3],\n",
       "       [4, 5, 6, 7]])"
      ]
     },
     "execution_count": 32,
     "metadata": {},
     "output_type": "execute_result"
    }
   ],
   "source": [
    "A = np.array ([[0, 1, 2, 3],\n",
    "              [4, 5, 6, 7]])\n",
    "A"
   ]
  },
  {
   "cell_type": "code",
   "execution_count": 33,
   "metadata": {},
   "outputs": [
    {
     "data": {
      "text/plain": [
       "array([[0, 1],\n",
       "       [2, 3],\n",
       "       [4, 5],\n",
       "       [6, 7]])"
      ]
     },
     "execution_count": 33,
     "metadata": {},
     "output_type": "execute_result"
    }
   ],
   "source": [
    "B = np.reshape (A,(4,2))\n",
    "B"
   ]
  },
  {
   "cell_type": "code",
   "execution_count": 34,
   "metadata": {},
   "outputs": [
    {
     "data": {
      "text/plain": [
       "array([[0, 2, 4, 6],\n",
       "       [1, 3, 5, 7]])"
      ]
     },
     "execution_count": 34,
     "metadata": {},
     "output_type": "execute_result"
    }
   ],
   "source": [
    "C = np.transpose(B)\n",
    "C"
   ]
  },
  {
   "cell_type": "code",
   "execution_count": 35,
   "metadata": {},
   "outputs": [
    {
     "data": {
      "text/plain": [
       "array([[0, 2, 4, 6],\n",
       "       [1, 3, 5, 7]])"
      ]
     },
     "execution_count": 35,
     "metadata": {},
     "output_type": "execute_result"
    }
   ],
   "source": [
    "# Outra forma de tirar a matriz transposta\n",
    "\n",
    "B.T"
   ]
  },
  {
   "cell_type": "markdown",
   "metadata": {},
   "source": [
    "### 3D"
   ]
  },
  {
   "cell_type": "code",
   "execution_count": 36,
   "metadata": {},
   "outputs": [
    {
     "data": {
      "text/plain": [
       "array([[[ 2,  3,  4,  5],\n",
       "        [ 4,  5,  6,  7]],\n",
       "\n",
       "       [[ 6,  7,  8,  9],\n",
       "        [ 8,  9, 10, 11]],\n",
       "\n",
       "       [[10, 11, 12, 13],\n",
       "        [12, 13, 14, 15]]])"
      ]
     },
     "execution_count": 36,
     "metadata": {},
     "output_type": "execute_result"
    }
   ],
   "source": [
    "A = np.array([[[2,3,4,5],\n",
    "              [4,5,6,7]],\n",
    "            [[6,7,8,9],\n",
    "             [8,9,10,11]],\n",
    "            [[10,11,12,13],\n",
    "            [12,13,14,15]]])\n",
    "\n",
    "A"
   ]
  },
  {
   "cell_type": "code",
   "execution_count": 37,
   "metadata": {},
   "outputs": [
    {
     "data": {
      "text/plain": [
       "(3, 2, 4)"
      ]
     },
     "execution_count": 37,
     "metadata": {},
     "output_type": "execute_result"
    }
   ],
   "source": [
    "np.shape(A)"
   ]
  },
  {
   "cell_type": "code",
   "execution_count": 38,
   "metadata": {},
   "outputs": [
    {
     "data": {
      "text/plain": [
       "array([[[ 0,  1,  2],\n",
       "        [ 3,  4,  5],\n",
       "        [ 6,  7,  8],\n",
       "        [ 9, 10, 11]],\n",
       "\n",
       "       [[12, 13, 14],\n",
       "        [15, 16, 17],\n",
       "        [18, 19, 20],\n",
       "        [21, 22, 23]],\n",
       "\n",
       "       [[24, 25, 26],\n",
       "        [27, 28, 29],\n",
       "        [30, 31, 32],\n",
       "        [33, 34, 35]]])"
      ]
     },
     "execution_count": 38,
     "metadata": {},
     "output_type": "execute_result"
    }
   ],
   "source": [
    "arr = np.arange(36).reshape(3, 4, 3)\n",
    "\n",
    "arr"
   ]
  },
  {
   "cell_type": "code",
   "execution_count": 39,
   "metadata": {},
   "outputs": [
    {
     "data": {
      "text/plain": [
       "(3, 4, 3)"
      ]
     },
     "execution_count": 39,
     "metadata": {},
     "output_type": "execute_result"
    }
   ],
   "source": [
    "# eixo x = profundidade, y = vertical, z = horizontal\n",
    "\n",
    "\n",
    "np.shape(arr) "
   ]
  },
  {
   "attachments": {
    "image.png": {
     "image/png": "[encoded data removed]"
    }
   },
   "cell_type": "markdown",
   "metadata": {},
   "source": [
    "![image.png](attachment:image.png)"
   ]
  },
  {
   "cell_type": "code",
   "execution_count": 43,
   "metadata": {},
   "outputs": [
    {
     "data": {
      "text/plain": [
       "array([[ 0,  1,  2],\n",
       "       [ 3,  4,  5],\n",
       "       [ 6,  7,  8],\n",
       "       [ 9, 10, 11]])"
      ]
     },
     "execution_count": 43,
     "metadata": {},
     "output_type": "execute_result"
    }
   ],
   "source": [
    "arr[0]"
   ]
  },
  {
   "cell_type": "code",
   "execution_count": 44,
   "metadata": {},
   "outputs": [
    {
     "data": {
      "text/plain": [
       "array([0, 1, 2])"
      ]
     },
     "execution_count": 44,
     "metadata": {},
     "output_type": "execute_result"
    }
   ],
   "source": [
    "arr[0][0]"
   ]
  },
  {
   "cell_type": "code",
   "execution_count": 45,
   "metadata": {},
   "outputs": [
    {
     "data": {
      "text/plain": [
       "5"
      ]
     },
     "execution_count": 45,
     "metadata": {},
     "output_type": "execute_result"
    }
   ],
   "source": [
    "arr[0][1][2]"
   ]
  },
  {
   "cell_type": "markdown",
   "metadata": {},
   "source": [
    "## Operações básicas com vetores"
   ]
  },
  {
   "cell_type": "markdown",
   "metadata": {},
   "source": [
    "Uma grande diferença entre os arrays e as listas no python é a definição dos operadores matemáticos. Enquanto que a adição de duas listas **concatena** essas listas, a adição de dois arrays **adiciona elemento a elemento**. Por exemplo :"
   ]
  },
  {
   "cell_type": "markdown",
   "metadata": {},
   "source": [
    "### Adição escalar-vetor\n",
    "\n",
    "\n",
    "$$\n",
    "\\begin{split}\n",
    "\\mathbf{y} &= a + \\, \\mathbf{x} \\\\\n",
    "&= \\begin{bmatrix} \n",
    "    a +\\, x_{0} \\\\\n",
    "    a +\\, x_{1} \\\\\n",
    "    \\vdots \\\\\n",
    "    a +\\, x_{N}\n",
    " \\end{bmatrix}\n",
    "\\end{split}\n",
    "$$\n",
    "\n",
    "    for i = 0:N\n",
    "        y[i] = a+x[i]\n",
    "        \n",
    "ou, utilizando a *colon notation*,\n",
    "\n",
    "    y[:] = a+x[:]"
   ]
  },
  {
   "cell_type": "code",
   "execution_count": 46,
   "metadata": {},
   "outputs": [
    {
     "data": {
      "text/plain": [
       "array([ 1.  ,  3.25,  5.5 ,  7.75, 10.  ])"
      ]
     },
     "execution_count": 46,
     "metadata": {},
     "output_type": "execute_result"
    }
   ],
   "source": [
    "# a função linspace é parecida com o arrange, mas com ela eu defino onde a\n",
    "# lista começa, onde termina, e a quantidade de elementos.\n",
    "\n",
    "x = np.linspace (1,10,5)\n",
    "x"
   ]
  },
  {
   "cell_type": "code",
   "execution_count": 47,
   "metadata": {},
   "outputs": [
    {
     "data": {
      "text/plain": [
       "array([ 3.  ,  5.25,  7.5 ,  9.75, 12.  ])"
      ]
     },
     "execution_count": 47,
     "metadata": {},
     "output_type": "execute_result"
    }
   ],
   "source": [
    "# se eu fosse fazer a operação de adição escalar-vetor, eu posso usar o for\n",
    "\n",
    "y = np.zeros_like(x)\n",
    "a = 2\n",
    "\n",
    "for i in range(len(x)):\n",
    "    y[i] = a + x[i]\n",
    "    \n",
    "y"
   ]
  },
  {
   "cell_type": "code",
   "execution_count": 49,
   "metadata": {},
   "outputs": [
    {
     "data": {
      "text/plain": [
       "array([3., 4., 5., 6., 7.])"
      ]
     },
     "execution_count": 49,
     "metadata": {},
     "output_type": "execute_result"
    }
   ],
   "source": [
    "# a vantagem do np.array é que eu não preciso do 'for', o programa já entende\n",
    "# que é para realizar o calculo com cada elemento\n",
    "\n",
    "a = 2\n",
    "x = np.array([1., 2., 3., 4., 5.])\n",
    "\n",
    "y = a + x\n",
    "y"
   ]
  },
  {
   "cell_type": "markdown",
   "metadata": {},
   "source": [
    "### Multiplicação escalar-vetor\n",
    "\n",
    "\n",
    "$$\n",
    "\\begin{split}\n",
    "\\mathbf{y} &= a \\, \\mathbf{x} \\\\\n",
    "&= \\begin{bmatrix} \n",
    "    a \\, x_{0} \\\\\n",
    "    a \\, x_{1} \\\\\n",
    "    \\vdots \\\\\n",
    "    a \\, x_{N}\n",
    " \\end{bmatrix}\n",
    "\\end{split}\n",
    "$$\n",
    "\n",
    "    for i = 0:N\n",
    "        y[i] = a*x[i]\n",
    "        \n",
    "ou, utilizando a *colon notation*,\n",
    "\n",
    "    y[:] = a*x[:]"
   ]
  },
  {
   "cell_type": "code",
   "execution_count": 50,
   "metadata": {},
   "outputs": [],
   "source": [
    "a = 0.5"
   ]
  },
  {
   "cell_type": "code",
   "execution_count": 51,
   "metadata": {},
   "outputs": [],
   "source": [
    "y = a*x"
   ]
  },
  {
   "cell_type": "code",
   "execution_count": 52,
   "metadata": {},
   "outputs": [
    {
     "data": {
      "text/plain": [
       "array([0.5, 1. , 1.5, 2. , 2.5])"
      ]
     },
     "execution_count": 52,
     "metadata": {},
     "output_type": "execute_result"
    }
   ],
   "source": [
    "y"
   ]
  },
  {
   "cell_type": "markdown",
   "metadata": {},
   "source": [
    "### Adição vetor-vetor\n",
    "\n",
    "$$\n",
    "\\begin{split}\n",
    "\\mathbf{z} &= \\mathbf{x} + \\mathbf{y} \\\\\n",
    "&= \\begin{bmatrix} \n",
    "    x_{1} + y_{1} \\\\\n",
    "    x_{2} + y_{2} \\\\\n",
    "    \\vdots \\\\\n",
    "    x_{1} + y_{N}\n",
    " \\end{bmatrix}\n",
    "\\end{split}\n",
    "$$\n",
    "\n",
    "    for i = 1:N\n",
    "        z[i] = x[i] + y[i]"
   ]
  },
  {
   "cell_type": "code",
   "execution_count": 54,
   "metadata": {},
   "outputs": [
    {
     "name": "stdout",
     "output_type": "stream",
     "text": [
      "[1. 2. 3. 4. 5.]\n",
      "[0.5 1.  1.5 2.  2.5]\n"
     ]
    }
   ],
   "source": [
    "print(x)\n",
    "print(y)"
   ]
  },
  {
   "cell_type": "code",
   "execution_count": 55,
   "metadata": {},
   "outputs": [
    {
     "data": {
      "text/plain": [
       "array([1.5, 3. , 4.5, 6. , 7.5])"
      ]
     },
     "execution_count": 55,
     "metadata": {},
     "output_type": "execute_result"
    }
   ],
   "source": [
    "z = np.zeros_like(x)\n",
    "\n",
    "for i in range(len(z)):\n",
    "    z[i] = x[i]+y[i]\n",
    "\n",
    "z"
   ]
  },
  {
   "cell_type": "code",
   "execution_count": 56,
   "metadata": {},
   "outputs": [
    {
     "data": {
      "text/plain": [
       "array([1.5, 3. , 4.5, 6. , 7.5])"
      ]
     },
     "execution_count": 56,
     "metadata": {},
     "output_type": "execute_result"
    }
   ],
   "source": [
    "z = np.zeros_like(x)\n",
    "\n",
    "z[:] = x[:]+y[:]\n",
    "\n",
    "z"
   ]
  },
  {
   "cell_type": "code",
   "execution_count": 57,
   "metadata": {},
   "outputs": [],
   "source": [
    "z = x + y"
   ]
  },
  {
   "cell_type": "code",
   "execution_count": 58,
   "metadata": {},
   "outputs": [
    {
     "data": {
      "text/plain": [
       "array([1.5, 3. , 4.5, 6. , 7.5])"
      ]
     },
     "execution_count": 58,
     "metadata": {},
     "output_type": "execute_result"
    }
   ],
   "source": [
    "z"
   ]
  },
  {
   "cell_type": "markdown",
   "metadata": {},
   "source": [
    "Atenção! Observe a seguinte operação entre o vetor `x` e o escalar `a`"
   ]
  },
  {
   "cell_type": "code",
   "execution_count": 59,
   "metadata": {},
   "outputs": [
    {
     "data": {
      "text/plain": [
       "array([1., 2., 3., 4., 5.])"
      ]
     },
     "execution_count": 59,
     "metadata": {},
     "output_type": "execute_result"
    }
   ],
   "source": [
    "a = 10\n",
    "x"
   ]
  },
  {
   "cell_type": "code",
   "execution_count": 60,
   "metadata": {},
   "outputs": [
    {
     "data": {
      "text/plain": [
       "array([11., 12., 13., 14., 15.])"
      ]
     },
     "execution_count": 60,
     "metadata": {},
     "output_type": "execute_result"
    }
   ],
   "source": [
    "x + a "
   ]
  },
  {
   "cell_type": "code",
   "execution_count": 61,
   "metadata": {},
   "outputs": [
    {
     "data": {
      "text/plain": [
       "array([11., 12., 13., 14., 15.])"
      ]
     },
     "execution_count": 61,
     "metadata": {},
     "output_type": "execute_result"
    }
   ],
   "source": [
    "a + x"
   ]
  },
  {
   "cell_type": "markdown",
   "metadata": {},
   "source": [
    "### Multiplicação vetor - vetor  - elemento a elemento\n",
    "\n",
    "$$\n",
    "\\begin{split}\n",
    "\\mathbf{z} &= \\mathbf{x} + \\mathbf{y} \\\\\n",
    "&= \\begin{bmatrix} \n",
    "    x_{1} * y_{1} \\\\\n",
    "    x_{2} * y_{2} \\\\\n",
    "    \\vdots \\\\\n",
    "    x_{1} * y_{N}\n",
    " \\end{bmatrix}\n",
    "\\end{split}\n",
    "$$\n",
    "\n",
    "    for i = 1:N\n",
    "        z[i] = x[i] * y[i]"
   ]
  },
  {
   "cell_type": "code",
   "execution_count": 65,
   "metadata": {},
   "outputs": [
    {
     "name": "stdout",
     "output_type": "stream",
     "text": [
      "[ 7  8  9 10 11] [30. 35. 40. 45. 50.]\n"
     ]
    }
   ],
   "source": [
    "x = np.arange(7,12)\n",
    "y = np.linspace (30, 50, len(x))\n",
    "\n",
    "print (x,y)"
   ]
  },
  {
   "cell_type": "code",
   "execution_count": 63,
   "metadata": {},
   "outputs": [
    {
     "data": {
      "text/plain": [
       "array([ 30.,  70., 120., 180., 250.])"
      ]
     },
     "execution_count": 63,
     "metadata": {},
     "output_type": "execute_result"
    }
   ],
   "source": [
    "x * y"
   ]
  },
  {
   "cell_type": "markdown",
   "metadata": {},
   "source": [
    "## Dot product"
   ]
  },
  {
   "cell_type": "markdown",
   "metadata": {},
   "source": [
    "Seja $\\mathbf{x}$ e $\\mathbf{y}$ dois vetores $N \\times 1$ definidos como:\n",
    "    \n",
    "$$\\mathbf{x} = \\left[\n",
    "\\begin{array}{c}\n",
    "x_{1} \\\\\n",
    "x_{2} \\\\\n",
    "\\vdots \\\\\n",
    "x_{N}\n",
    "\\end{array}\n",
    "\\right]_{\\, N \\times 1}$$\n",
    "\n",
    "e\n",
    "\n",
    "$$\n",
    "\\mathbf{y} = \\left[\n",
    "\\begin{array}{c}\n",
    "y_{1} \\\\\n",
    "y_{2} \\\\\n",
    "\\vdots \\\\\n",
    "y_{N}\n",
    "\\end{array}\n",
    "\\right]_{\\, N \\times 1} \\quad .\n",
    "$$\n",
    "\n",
    "O [dot product](http://mathworld.wolfram.com/DotProduct.html) de $\\mathbf{x}$ e $\\mathbf{y}$ é dado por:\n",
    "\n",
    "    c = 0\n",
    "    for i = 1:N\n",
    "        c = c + x[i]*y[i]"
   ]
  },
  {
   "cell_type": "code",
   "execution_count": 68,
   "metadata": {},
   "outputs": [
    {
     "data": {
      "text/plain": [
       "(array([2, 4, 5]), array([1, 4, 9]))"
      ]
     },
     "execution_count": 68,
     "metadata": {},
     "output_type": "execute_result"
    }
   ],
   "source": [
    "# Implementação do produto escalar\n",
    "\n",
    "x = np.array([2,4,5])\n",
    "y = np.array([1,4,9])\n",
    "dot = 0\n",
    "x,y"
   ]
  },
  {
   "cell_type": "code",
   "execution_count": 69,
   "metadata": {},
   "outputs": [],
   "source": [
    "for i in range(len(x)):\n",
    "    dot = dot + (x[i]*y[i])"
   ]
  },
  {
   "cell_type": "code",
   "execution_count": 70,
   "metadata": {},
   "outputs": [
    {
     "data": {
      "text/plain": [
       "63"
      ]
     },
     "execution_count": 70,
     "metadata": {},
     "output_type": "execute_result"
    }
   ],
   "source": [
    "dot"
   ]
  },
  {
   "cell_type": "code",
   "execution_count": 71,
   "metadata": {},
   "outputs": [
    {
     "data": {
      "text/plain": [
       "63"
      ]
     },
     "execution_count": 71,
     "metadata": {},
     "output_type": "execute_result"
    }
   ],
   "source": [
    "# Rotina do numpy\n",
    "\n",
    "dot_py = np.dot(x,y)\n",
    "dot_py"
   ]
  },
  {
   "cell_type": "code",
   "execution_count": 72,
   "metadata": {},
   "outputs": [],
   "source": [
    "x = np.random.rand(1000)\n",
    "y = np.random.rand(1000)"
   ]
  },
  {
   "cell_type": "code",
   "execution_count": 73,
   "metadata": {},
   "outputs": [
    {
     "data": {
      "text/plain": [
       "array([1.94315854e-01, 1.29145333e-01, 4.01625355e-01, 5.59992543e-01,\n",
       "       8.89422809e-01, 7.43484398e-01, 3.59446372e-01, 1.80227490e-01,\n",
       "       7.01771335e-01, 2.96902956e-01, 4.38626015e-01, 3.88698315e-01,\n",
       "       7.76508237e-01, 9.62582382e-02, 5.77446970e-01, 3.86706194e-01,\n",
       "       5.11107921e-01, 7.29123252e-01, 8.58017500e-01, 1.99719594e-01,\n",
       "       9.41481981e-01, 8.07020253e-01, 7.93684962e-01, 1.31256484e-02,\n",
       "       6.39151398e-01, 2.86537984e-01, 5.93168126e-01, 7.25259263e-01,\n",
       "       7.05922506e-02, 5.37585913e-01, 6.30695632e-01, 6.05088972e-01,\n",
       "       5.75024755e-01, 3.67386278e-02, 9.52544891e-01, 1.20059955e-01,\n",
       "       9.08485372e-01, 9.74369526e-01, 7.67653186e-01, 4.13311795e-01,\n",
       "       4.83075858e-01, 2.27755820e-01, 3.47111720e-01, 1.17960709e-01,\n",
       "       9.23997121e-01, 8.81634502e-01, 9.37300429e-01, 9.30737252e-01,\n",
       "       3.10307297e-01, 2.14839816e-01, 9.96583686e-01, 2.29311901e-01,\n",
       "       4.62200837e-01, 9.85764021e-01, 4.93108812e-01, 7.77615123e-01,\n",
       "       3.82662362e-01, 9.60090548e-01, 9.75097234e-01, 2.97026663e-01,\n",
       "       8.16408646e-01, 9.76092765e-01, 9.33784652e-01, 1.23681667e-01,\n",
       "       6.56274590e-01, 8.62855593e-02, 1.81480462e-01, 3.51217306e-01,\n",
       "       9.88583104e-01, 7.10583851e-01, 7.83358021e-01, 5.18330911e-01,\n",
       "       1.33638900e-01, 8.29840596e-01, 1.50425333e-01, 5.69551986e-01,\n",
       "       9.85255634e-01, 4.17327422e-01, 7.78021702e-01, 1.52020535e-01,\n",
       "       4.41027662e-01, 4.29672544e-01, 8.07562808e-01, 7.25712142e-01,\n",
       "       6.90554011e-01, 4.61878613e-01, 3.47424100e-01, 2.49059175e-01,\n",
       "       6.58280269e-01, 8.35300818e-01, 3.02495452e-01, 2.66749100e-02,\n",
       "       3.15727775e-01, 5.68728455e-01, 4.68313469e-02, 5.12539336e-01,\n",
       "       4.76792077e-01, 9.98275141e-01, 4.08597119e-01, 3.95962508e-02,\n",
       "       8.96081013e-01, 8.17896483e-01, 8.84863096e-01, 2.01893486e-01,\n",
       "       1.01609778e-01, 3.24227584e-01, 4.71317670e-01, 7.77032762e-01,\n",
       "       1.34497185e-01, 9.28471541e-01, 7.61654664e-01, 8.04209828e-01,\n",
       "       2.15327808e-01, 2.72883811e-01, 4.36495193e-01, 3.75698765e-01,\n",
       "       1.52515186e-01, 6.11432403e-01, 7.68952026e-01, 6.36345855e-02,\n",
       "       2.27156267e-01, 3.68979334e-02, 2.29312914e-01, 6.78071009e-01,\n",
       "       2.94910751e-01, 1.21069264e-01, 6.29781102e-01, 6.62674644e-01,\n",
       "       4.52422732e-01, 1.10489284e-01, 6.97422575e-01, 2.41769968e-02,\n",
       "       5.54027779e-01, 3.53038489e-01, 2.16005064e-01, 9.41116888e-02,\n",
       "       7.78076576e-01, 5.63822041e-01, 5.28447181e-02, 2.29855197e-01,\n",
       "       7.23599992e-01, 7.94906518e-01, 7.62102073e-01, 6.05807467e-01,\n",
       "       8.77261627e-01, 8.35773498e-01, 9.87252458e-01, 2.70677412e-01,\n",
       "       5.29084695e-01, 3.69273133e-01, 2.47544631e-01, 3.56805683e-01,\n",
       "       3.69333534e-02, 2.48451784e-01, 9.31638483e-01, 1.45252015e-01,\n",
       "       3.45157297e-04, 4.69978235e-02, 2.50750587e-01, 1.00129758e-01,\n",
       "       8.02294307e-01, 9.93174704e-01, 4.54736816e-01, 7.84238094e-01,\n",
       "       6.58179666e-02, 1.26032540e-01, 2.48001466e-01, 1.19194332e-01,\n",
       "       3.24697567e-01, 5.33134352e-02, 1.67901508e-01, 8.50483281e-01,\n",
       "       3.62576610e-01, 3.18335632e-03, 6.88035513e-01, 4.74751955e-01,\n",
       "       3.30655081e-01, 2.29636378e-01, 6.38839121e-01, 2.91335601e-01,\n",
       "       2.30491483e-03, 7.35342434e-01, 5.47701428e-01, 1.92101891e-01,\n",
       "       5.59996767e-01, 5.43687076e-02, 2.65436477e-01, 5.70851340e-01,\n",
       "       8.46831791e-01, 6.50207591e-01, 8.85616026e-02, 5.82829621e-01,\n",
       "       2.02812522e-01, 3.20586963e-01, 7.89698429e-01, 2.57869117e-01,\n",
       "       2.87631438e-01, 9.73447679e-01, 8.67934077e-01, 4.19381616e-01,\n",
       "       4.94966090e-01, 9.24236678e-01, 4.42171056e-01, 7.18165435e-01,\n",
       "       2.55859820e-01, 8.36194554e-01, 8.00556300e-01, 1.83889298e-01,\n",
       "       9.09643378e-01, 2.81717700e-01, 1.70364656e-01, 1.21144295e-01,\n",
       "       2.16365629e-01, 3.98276928e-01, 6.66429241e-01, 7.21864804e-01,\n",
       "       9.70661009e-01, 5.88992139e-01, 5.08181813e-01, 7.74476347e-02,\n",
       "       1.00916677e-01, 1.59919299e-01, 2.25808041e-01, 2.08648101e-01,\n",
       "       3.24614828e-01, 8.97504911e-01, 8.08474991e-01, 5.04151998e-01,\n",
       "       6.65171181e-01, 2.17615343e-01, 3.31823069e-01, 5.11933513e-01,\n",
       "       6.78209942e-01, 5.95972506e-02, 9.77875052e-01, 9.24454410e-01,\n",
       "       5.87399320e-01, 2.21249657e-01, 3.27739542e-01, 1.89582079e-02,\n",
       "       6.77396104e-01, 5.36239676e-01, 2.85528823e-01, 8.37000887e-01,\n",
       "       8.13497232e-01, 8.58485022e-01, 2.62150675e-01, 6.60259533e-01,\n",
       "       5.39095089e-01, 5.88619154e-01, 3.63007925e-01, 9.66082816e-01,\n",
       "       7.44214492e-01, 9.15669813e-01, 2.28544463e-01, 1.51368579e-02,\n",
       "       3.33740396e-01, 5.35473815e-01, 4.02753941e-01, 4.12808030e-01,\n",
       "       8.06111640e-01, 3.85127280e-01, 5.19439044e-01, 9.63621790e-01,\n",
       "       1.77748626e-01, 9.23251856e-01, 7.16477674e-01, 6.13305494e-01,\n",
       "       7.16316008e-01, 4.89477244e-01, 8.24394621e-01, 5.33690903e-01,\n",
       "       1.32197461e-01, 7.07763504e-03, 4.93854300e-01, 4.33449044e-01,\n",
       "       6.58602279e-01, 9.08650637e-02, 7.80291568e-01, 1.35006349e-01,\n",
       "       3.76543271e-01, 4.19556293e-01, 7.84112965e-01, 5.04384555e-01,\n",
       "       4.27039887e-01, 7.54946658e-01, 6.90195534e-01, 1.19206550e-01,\n",
       "       8.05253316e-03, 5.83003441e-01, 8.13059839e-01, 1.84506204e-01,\n",
       "       6.08535116e-01, 3.18548770e-01, 8.62799595e-01, 2.14267976e-01,\n",
       "       8.17876363e-01, 9.70753740e-01, 3.02601297e-01, 9.22992650e-02,\n",
       "       7.71984914e-02, 3.10351283e-01, 7.51848043e-01, 3.46136011e-01,\n",
       "       3.13251667e-01, 9.18088992e-01, 2.32982551e-02, 7.12918051e-01,\n",
       "       5.62324199e-01, 9.81911475e-01, 3.76647123e-01, 8.32930085e-01,\n",
       "       5.64111591e-01, 4.66911147e-01, 5.61047960e-02, 7.96794322e-01,\n",
       "       7.13994968e-01, 4.25024638e-01, 1.99524528e-01, 2.30763201e-01,\n",
       "       5.46557500e-01, 6.36552378e-01, 8.25803413e-01, 7.79959357e-01,\n",
       "       4.86435962e-01, 9.51699457e-01, 3.40995975e-01, 6.74746232e-01,\n",
       "       5.41410834e-01, 8.18096519e-01, 2.02802614e-01, 2.79234346e-01,\n",
       "       9.70577943e-01, 3.11494597e-01, 8.80955094e-01, 1.54564554e-01,\n",
       "       3.97614058e-01, 3.98010941e-01, 8.75417124e-01, 8.69233308e-01,\n",
       "       1.19760536e-01, 7.32166138e-01, 8.11267665e-02, 5.71328038e-01,\n",
       "       5.87802737e-01, 6.60529203e-02, 1.90607598e-01, 7.33769977e-01,\n",
       "       8.20639199e-01, 9.05255933e-01, 3.28691902e-01, 3.64344000e-01,\n",
       "       4.57218017e-01, 2.80737247e-02, 2.16429538e-01, 4.35589560e-01,\n",
       "       4.03252421e-01, 3.76251852e-01, 8.69896990e-01, 7.93796506e-01,\n",
       "       6.51461168e-01, 6.64468443e-01, 9.82273804e-01, 8.26283826e-01,\n",
       "       3.87160969e-01, 5.37380824e-01, 4.35196588e-01, 5.91272359e-02,\n",
       "       1.94162600e-01, 4.98571740e-01, 6.28768654e-01, 9.95456075e-02,\n",
       "       4.01179762e-01, 8.54985077e-01, 6.20613940e-01, 1.27242651e-02,\n",
       "       2.58974295e-01, 7.54575437e-01, 5.01084846e-01, 7.65277763e-01,\n",
       "       5.74433595e-01, 9.86924980e-01, 3.15406308e-01, 1.23684492e-01,\n",
       "       1.27151289e-01, 3.85172623e-01, 9.58050150e-01, 2.74474735e-02,\n",
       "       1.11491683e-01, 4.93097838e-02, 6.65714634e-01, 8.61614107e-01,\n",
       "       5.45304501e-01, 3.82090851e-01, 6.89211963e-02, 8.87617869e-01,\n",
       "       4.68449095e-01, 5.67348552e-01, 7.83057749e-01, 3.74332533e-01,\n",
       "       2.68488086e-01, 3.60181436e-01, 7.52529334e-01, 4.76058935e-01,\n",
       "       7.74819527e-01, 2.83759147e-01, 8.87010304e-01, 4.08899575e-01,\n",
       "       3.83513463e-01, 6.31878987e-01, 2.45208253e-01, 1.67634691e-01,\n",
       "       7.16213346e-01, 2.14047333e-01, 3.41758826e-01, 9.33305895e-01,\n",
       "       4.28753931e-01, 1.68788603e-01, 7.67384680e-01, 2.58509250e-01,\n",
       "       1.15349166e-01, 7.44176501e-01, 9.46541606e-01, 7.94270221e-01,\n",
       "       2.19068096e-01, 3.30609194e-01, 3.03866185e-01, 7.09750111e-01,\n",
       "       8.37634980e-01, 9.79777365e-01, 4.73578168e-01, 4.87458403e-01,\n",
       "       9.17165512e-01, 4.76321870e-01, 1.50037980e-01, 3.94310599e-01,\n",
       "       5.84153842e-01, 7.16121290e-01, 2.06679120e-01, 8.93481448e-01,\n",
       "       9.78906030e-01, 3.95591177e-01, 7.45193281e-01, 5.04659648e-01,\n",
       "       2.86483096e-01, 3.00804304e-01, 6.77240111e-01, 3.37459624e-01,\n",
       "       8.62287302e-01, 7.54482755e-01, 5.43522370e-01, 1.91576053e-01,\n",
       "       6.72383650e-01, 7.23086138e-01, 2.78729023e-01, 3.00530897e-01,\n",
       "       5.33225987e-01, 9.24216246e-01, 5.74773782e-01, 5.73204173e-01,\n",
       "       6.14903596e-01, 6.23086172e-01, 9.26648732e-01, 3.07730293e-01,\n",
       "       4.37609994e-01, 5.63990196e-02, 2.57003780e-01, 5.81137535e-01,\n",
       "       5.45244324e-01, 8.01866281e-01, 8.72895655e-01, 1.41377798e-01,\n",
       "       6.32214049e-01, 5.59649373e-01, 5.34417385e-02, 2.74053437e-02,\n",
       "       1.15861336e-01, 6.86466283e-01, 7.34313024e-02, 4.67547662e-01,\n",
       "       8.85341766e-01, 5.73821419e-01, 4.11061405e-01, 4.17134228e-02,\n",
       "       3.15151827e-01, 5.25232796e-03, 8.26359501e-02, 9.30469977e-01,\n",
       "       2.36176874e-04, 5.43522148e-01, 9.88142514e-01, 7.95462740e-01,\n",
       "       3.85106110e-01, 6.06243169e-02, 1.40759113e-01, 8.41191476e-01,\n",
       "       2.51415654e-01, 6.44423838e-01, 8.92880927e-01, 3.86786879e-01,\n",
       "       8.12787022e-01, 5.23308636e-01, 1.18240833e-01, 8.48651689e-01,\n",
       "       2.79131424e-01, 6.51023737e-01, 4.45087400e-01, 4.82160340e-01,\n",
       "       4.77469020e-01, 2.30589490e-01, 5.89991157e-01, 5.55955303e-01,\n",
       "       3.92161844e-01, 9.00665271e-02, 8.14748870e-01, 3.65463300e-01,\n",
       "       8.74207574e-01, 8.41531052e-01, 7.96517153e-02, 2.33950285e-01,\n",
       "       8.83492201e-01, 3.06740733e-01, 8.44933836e-01, 1.22056114e-01,\n",
       "       1.69679217e-01, 3.86834110e-01, 5.64873403e-01, 1.52914135e-01,\n",
       "       2.62325146e-01, 4.57353538e-01, 7.61487587e-01, 7.76869491e-01,\n",
       "       4.01166960e-02, 2.92735842e-01, 2.22453164e-01, 7.25075049e-01,\n",
       "       2.32753414e-01, 6.80533778e-01, 6.98977496e-01, 9.14118851e-01,\n",
       "       4.26078558e-01, 5.84591130e-01, 3.97843914e-01, 4.24793563e-01,\n",
       "       5.08171190e-02, 5.81974719e-01, 1.45666378e-02, 4.44587244e-01,\n",
       "       8.08399653e-01, 1.56172578e-01, 5.77056478e-01, 5.11610648e-01,\n",
       "       1.21492202e-01, 6.10830945e-01, 6.04288679e-01, 8.47683622e-01,\n",
       "       5.14649190e-01, 6.98863956e-01, 4.99113134e-01, 3.69794774e-03,\n",
       "       3.57373489e-01, 2.98332615e-01, 1.17985292e-01, 2.36672992e-01,\n",
       "       5.82747690e-01, 5.66583028e-01, 3.95502269e-01, 1.05870143e-02,\n",
       "       3.98636597e-01, 1.23224593e-01, 3.84205792e-01, 9.93816924e-01,\n",
       "       9.36904652e-01, 1.08491955e-01, 3.09701071e-01, 5.13460405e-01,\n",
       "       2.99589047e-01, 9.64602419e-01, 5.40094882e-01, 7.45938964e-01,\n",
       "       9.76768291e-01, 7.83228657e-01, 8.46528985e-01, 8.77356911e-01,\n",
       "       8.26168586e-01, 2.36127617e-01, 3.45153098e-01, 7.55787842e-02,\n",
       "       7.45821866e-01, 4.77883776e-01, 3.95386997e-01, 2.90065980e-01,\n",
       "       6.59765351e-01, 6.36993226e-01, 4.99888298e-01, 1.72773735e-01,\n",
       "       1.69069783e-01, 6.05426542e-01, 9.57859370e-02, 6.73320749e-01,\n",
       "       8.82615420e-01, 7.96141704e-01, 5.87511554e-01, 6.49284541e-01,\n",
       "       6.78444607e-01, 5.87844807e-01, 8.50695341e-01, 9.01544150e-01,\n",
       "       7.86514557e-01, 8.02439743e-01, 8.10899053e-02, 6.94858845e-02,\n",
       "       2.14826182e-01, 5.60972010e-01, 2.18974996e-01, 6.44101126e-02,\n",
       "       4.26705608e-01, 2.16260305e-01, 6.36546647e-01, 5.88405497e-01,\n",
       "       8.60919801e-01, 9.26519532e-01, 1.88813240e-01, 8.03302882e-01,\n",
       "       2.49687691e-02, 8.81491838e-02, 7.79850410e-01, 8.16903239e-01,\n",
       "       2.03989809e-01, 1.09681378e-01, 5.51449707e-01, 2.89073326e-02,\n",
       "       9.43767256e-01, 2.82487038e-01, 2.72651969e-01, 9.23761304e-01,\n",
       "       2.19978024e-01, 3.33297849e-01, 5.62449565e-01, 5.77036533e-01,\n",
       "       8.05381946e-01, 9.19448155e-01, 1.96817523e-01, 2.82073040e-01,\n",
       "       8.95896488e-02, 9.17006516e-01, 6.16123755e-01, 3.82406163e-01,\n",
       "       8.17702012e-01, 4.86027459e-01, 5.70246399e-01, 7.78922100e-01,\n",
       "       9.51766279e-01, 9.01562132e-01, 5.94850813e-01, 9.98424920e-01,\n",
       "       2.21003328e-01, 1.96552937e-01, 1.59413524e-01, 5.41671033e-02,\n",
       "       7.60102687e-02, 3.21881528e-01, 8.84018339e-01, 9.89284278e-01,\n",
       "       9.53616923e-01, 9.71089279e-01, 9.09873990e-01, 4.56265233e-02,\n",
       "       6.07177034e-01, 5.40775760e-01, 1.29371594e-02, 8.69118904e-01,\n",
       "       4.21179132e-01, 1.78394149e-01, 8.37858696e-01, 5.32298283e-01,\n",
       "       6.13899884e-01, 7.57386414e-01, 3.49545132e-01, 7.29938785e-01,\n",
       "       8.05568959e-04, 3.40842992e-01, 1.01747540e-01, 2.22833144e-01,\n",
       "       6.20791516e-01, 9.67231689e-01, 5.71146665e-01, 1.80523452e-01,\n",
       "       4.96098495e-01, 7.96992047e-01, 4.11235735e-01, 9.63142293e-01,\n",
       "       3.87917730e-02, 7.04330982e-01, 7.09678003e-01, 3.54245372e-01,\n",
       "       8.10574973e-01, 7.69036202e-01, 4.14753485e-01, 1.92018226e-01,\n",
       "       6.78532838e-01, 5.04317126e-01, 6.83716748e-01, 9.03449035e-01,\n",
       "       5.39239355e-01, 2.85616433e-01, 3.31149921e-01, 1.64271040e-01,\n",
       "       6.59138195e-02, 6.25703243e-01, 1.35462378e-01, 5.42998282e-01,\n",
       "       8.82141408e-01, 6.18976984e-01, 8.81394325e-01, 6.71233002e-01,\n",
       "       1.56248502e-01, 2.07607846e-01, 6.45394345e-01, 3.01559753e-01,\n",
       "       6.69426402e-01, 2.37944690e-02, 3.73554383e-01, 9.02470671e-01,\n",
       "       1.81253750e-01, 8.11436329e-01, 3.74686265e-01, 4.29788954e-01,\n",
       "       8.24168004e-01, 2.91279345e-01, 4.72685201e-01, 5.39517971e-01,\n",
       "       8.44363327e-01, 3.19230868e-01, 5.47035294e-01, 7.14304001e-01,\n",
       "       8.47301106e-01, 5.11015121e-01, 6.62341850e-01, 7.89232238e-01,\n",
       "       4.20352264e-01, 8.32423873e-01, 2.03399877e-02, 8.11990739e-01,\n",
       "       3.04530049e-01, 5.16477671e-01, 1.92965470e-01, 1.55943750e-01,\n",
       "       1.03559074e-01, 8.17940227e-01, 1.01120050e-01, 9.65202556e-01,\n",
       "       9.21701652e-01, 6.83510856e-01, 3.18095915e-01, 9.89726394e-02,\n",
       "       9.98753517e-01, 5.24522243e-01, 4.47955336e-01, 9.26925344e-01,\n",
       "       5.78162382e-01, 8.46615969e-02, 9.35118539e-01, 4.06334172e-01,\n",
       "       2.90775130e-01, 4.89773422e-01, 8.04576635e-02, 2.47645540e-01,\n",
       "       3.16133624e-01, 6.82572661e-01, 2.93416672e-01, 3.92529996e-01,\n",
       "       3.34293404e-01, 5.24547837e-01, 3.34244486e-01, 3.12621213e-01,\n",
       "       4.89201883e-01, 2.03310290e-01, 2.34360295e-01, 4.81425271e-01,\n",
       "       4.88591942e-01, 7.56357950e-01, 4.87322566e-01, 7.31274300e-01,\n",
       "       7.28706933e-01, 8.43485345e-01, 6.14495341e-01, 5.02673888e-01,\n",
       "       1.62817829e-01, 5.13567728e-01, 1.73170746e-01, 3.95122993e-01,\n",
       "       9.50331884e-01, 3.32115731e-01, 1.47362598e-01, 8.35084756e-01,\n",
       "       7.97992090e-01, 7.91904064e-02, 4.16765736e-01, 7.67274983e-02,\n",
       "       6.65433663e-01, 6.73592623e-01, 8.59070857e-01, 2.56955228e-01,\n",
       "       2.21528563e-01, 6.81737901e-01, 3.14217245e-01, 8.77099766e-02,\n",
       "       5.06667470e-01, 6.06691372e-01, 2.13646632e-01, 9.18115791e-01,\n",
       "       9.47669886e-01, 2.04796493e-01, 7.33055183e-01, 6.16456229e-01,\n",
       "       5.10003972e-01, 2.71907291e-01, 4.76717460e-01, 9.85953418e-01,\n",
       "       2.11444540e-01, 2.99112024e-01, 7.65540205e-01, 9.44451385e-01,\n",
       "       4.09316521e-01, 5.74262002e-01, 1.06093658e-01, 6.93184221e-01,\n",
       "       8.88429067e-01, 9.62027975e-01, 3.27330775e-01, 2.41134281e-01,\n",
       "       7.67044742e-01, 2.16693136e-02, 3.00060458e-02, 5.75563980e-01,\n",
       "       7.56563523e-01, 1.67171569e-01, 1.93955148e-02, 2.11579831e-01,\n",
       "       5.78647060e-02, 9.35084812e-02, 8.11656742e-01, 3.00291784e-01,\n",
       "       8.19086405e-01, 3.93572401e-01, 8.01323139e-01, 2.71560882e-02,\n",
       "       2.94954939e-01, 3.64369520e-01, 3.84147554e-01, 4.30377335e-01,\n",
       "       3.66139430e-01, 2.86013378e-01, 5.71777379e-01, 9.53750998e-01,\n",
       "       4.00404063e-01, 6.34443095e-01, 7.20656814e-02, 8.89097175e-01,\n",
       "       5.73994775e-01, 2.55591771e-01, 6.27542462e-01, 4.88376304e-02,\n",
       "       8.01759790e-01, 3.03669643e-01, 3.09713781e-01, 9.81480958e-01,\n",
       "       5.81849048e-01, 9.94389243e-01, 8.92504974e-01, 4.39010700e-01,\n",
       "       6.30772602e-01, 1.37270306e-01, 2.06956657e-01, 5.54444556e-01,\n",
       "       1.00544355e-01, 4.31013912e-01, 4.63551000e-01, 1.81893501e-01,\n",
       "       8.10351643e-01, 3.04491179e-01, 6.12160000e-02, 2.13092340e-01,\n",
       "       1.34787105e-01, 2.36838142e-01, 3.52273067e-01, 1.27451381e-02,\n",
       "       7.93465269e-02, 4.27298044e-01, 7.00158603e-01, 4.09394047e-01,\n",
       "       4.36095061e-01, 8.39793200e-01, 5.75140339e-01, 5.77282728e-01,\n",
       "       5.74298268e-01, 9.68572847e-01, 1.59180074e-01, 1.05497428e-01,\n",
       "       8.67682847e-01, 7.19363995e-01, 2.50048872e-01, 3.15508701e-01,\n",
       "       6.96755436e-01, 6.18916104e-01, 4.20802630e-01, 7.28880597e-01,\n",
       "       1.48104825e-01, 5.36524078e-01, 7.98369609e-01, 2.15617649e-01,\n",
       "       4.01145216e-01, 1.41440524e-01, 6.93799217e-01, 1.56825331e-01,\n",
       "       4.20483807e-01, 1.37998671e-01, 2.74012206e-02, 8.15795387e-01,\n",
       "       9.57306697e-01, 5.36101699e-01, 6.92272655e-01, 5.14500948e-01,\n",
       "       7.11671001e-01, 3.58509148e-01, 2.21981553e-01, 4.61051202e-01,\n",
       "       5.77341028e-01, 4.09805827e-01, 6.75801028e-01, 4.89809998e-01,\n",
       "       9.37441607e-02, 4.36269749e-01, 1.22272919e-01, 4.24969804e-01,\n",
       "       3.68879716e-01, 8.65003799e-01, 5.01744971e-01, 3.11392106e-01,\n",
       "       5.90184522e-01, 6.15925142e-01, 9.58919429e-01, 6.23718301e-01,\n",
       "       4.86482166e-01, 3.81566451e-04, 9.03406990e-01, 8.76763340e-01,\n",
       "       9.80434155e-02, 1.41875125e-01, 8.80205122e-01, 6.47672656e-02,\n",
       "       4.74931130e-01, 5.95663262e-01, 6.54048650e-02, 9.32546549e-01,\n",
       "       4.28105776e-01, 8.66688823e-02, 3.15415258e-01, 5.18603828e-01,\n",
       "       9.92352093e-03, 8.22007025e-01, 6.01775449e-01, 6.50280819e-01,\n",
       "       8.64630824e-01, 3.71749503e-01, 1.16047784e-02, 8.27668319e-01,\n",
       "       7.64114685e-01, 5.88514022e-01, 1.40352183e-02, 9.04938853e-01,\n",
       "       9.50842005e-02, 1.47014391e-01, 2.34352695e-01, 1.15566581e-01,\n",
       "       7.89313812e-01, 6.31489520e-01, 8.12396510e-01, 8.33744720e-01,\n",
       "       5.82033196e-02, 7.57334966e-01, 3.19958929e-01, 2.57715839e-03,\n",
       "       3.56030908e-01, 8.73789300e-02, 7.66554992e-01, 4.74845832e-01,\n",
       "       5.59542191e-01, 8.15512085e-01, 4.69435349e-01, 2.23828424e-01,\n",
       "       7.01216067e-01, 8.14499748e-01, 5.08696738e-01, 5.42701491e-01,\n",
       "       9.90030100e-01, 2.22025652e-01, 4.66731215e-01, 8.85665346e-01])"
      ]
     },
     "execution_count": 73,
     "metadata": {},
     "output_type": "execute_result"
    }
   ],
   "source": [
    "x"
   ]
  },
  {
   "cell_type": "code",
   "execution_count": 74,
   "metadata": {},
   "outputs": [
    {
     "name": "stdout",
     "output_type": "stream",
     "text": [
      "dot_product = 247.12494483499603\n"
     ]
    }
   ],
   "source": [
    "# Implementação do produto escalar\n",
    "\n",
    "c = 0.\n",
    "for i in range(len(x)): \n",
    "      c += x[i] * y[i] \n",
    "        \n",
    "print(\"dot_product = \"+ str(c)); "
   ]
  },
  {
   "cell_type": "code",
   "execution_count": 75,
   "metadata": {},
   "outputs": [
    {
     "name": "stdout",
     "output_type": "stream",
     "text": [
      "dot_product = 247.1249448349961\n"
     ]
    }
   ],
   "source": [
    "# Rotina do numpy\n",
    "\n",
    "n_c = np.dot(x, y)\n",
    "\n",
    "print(\"dot_product = \"+ str(n_c)); "
   ]
  },
  {
   "cell_type": "markdown",
   "metadata": {},
   "source": [
    "## Entre vetor e matriz\n",
    "\n",
    "Seja $\\mathbf{A}$ uma matriz $N \\times M$ e $\\mathbf{x}$ um vetor $M \\times 1$. $\\mathbf{A}$ pode ser representado usando *partição por linha* ou *partição por coluna* da seguinte maneira:\n",
    "\n",
    "$$\\begin{split}\n",
    "    \\mathbf{A} \n",
    "    & = \\left[\n",
    "    \\begin{array}{ccc}\n",
    "        a_{11} & \\cdots & a_{1M} \\\\\n",
    "        \\vdots &        & \\vdots \\\\\n",
    "        a_{N1} & \\cdots & a_{NM}\n",
    "    \\end{array}\n",
    "    \\right]_{N \\times M} \\\\\n",
    "    & = \\left[\n",
    "    \\begin{array}{c}\n",
    "        \\mathbf{A}[1,:] \\\\\n",
    "        \\vdots \\\\\n",
    "        \\mathbf{A}[N,:]\n",
    "    \\end{array}\n",
    "    \\right]_{N \\times M} \\\\\n",
    "    & = \\left[\n",
    "    \\begin{array}{ccc}\n",
    "        \\mathbf{A}[:,1] &\n",
    "        \\cdots &\n",
    "        \\mathbf{A}[:,M]\n",
    "    \\end{array}\n",
    "    \\right]_{N \\times M}\n",
    "\\end{split} \\: ,$$\n",
    "\n",
    "em que $\\mathbf{A}[i,:]$, $i = 1, ..., N$, é um vetor $1 \\times M$ representando a $i$th linha de $\\mathbf{A}$ $\\mathbf{A}[:,j]$, $j = 1, ..., M$, é um vetor $N \\times 1$ representando a $j$th coluna de $\\mathbf{A}$.\n",
    "\n",
    "Podemos definir o produto $\\mathbf{y} = \\mathbf{A} \\mathbf{x}$ usando o `dot product`:"
   ]
  },
  {
   "cell_type": "code",
   "execution_count": 76,
   "metadata": {},
   "outputs": [
    {
     "data": {
      "text/plain": [
       "array([0., 1., 2., 3., 4.])"
      ]
     },
     "execution_count": 76,
     "metadata": {},
     "output_type": "execute_result"
    }
   ],
   "source": [
    "x = np.arange(5.)\n",
    "\n",
    "x"
   ]
  },
  {
   "cell_type": "code",
   "execution_count": 77,
   "metadata": {},
   "outputs": [
    {
     "data": {
      "text/plain": [
       "array([[ 0.,  1.,  2.,  3.,  4.],\n",
       "       [ 5.,  6.,  7.,  8.,  9.],\n",
       "       [10., 11., 12., 13., 14.],\n",
       "       [15., 16., 17., 18., 19.]])"
      ]
     },
     "execution_count": 77,
     "metadata": {},
     "output_type": "execute_result"
    }
   ],
   "source": [
    "A = np.reshape(np.arange(20.), (4,5))\n",
    "\n",
    "A"
   ]
  },
  {
   "cell_type": "code",
   "execution_count": 78,
   "metadata": {},
   "outputs": [
    {
     "data": {
      "text/plain": [
       "array([ 30.,  80., 130., 180.])"
      ]
     },
     "execution_count": 78,
     "metadata": {},
     "output_type": "execute_result"
    }
   ],
   "source": [
    "y = np.dot(A,x)\n",
    "\n",
    "y"
   ]
  },
  {
   "cell_type": "markdown",
   "metadata": {},
   "source": [
    "## Entre matriz e matriz"
   ]
  },
  {
   "cell_type": "markdown",
   "metadata": {},
   "source": [
    "Seja $\\mathbf{A}$ e $\\mathbf{B}$ matrizes $N \\times M$ e $M \\times L$ respectivamente. Essas matrizes podem ser representadas *elemento a elemento, usando a *row partition* ou a *colunm partition* da seguinte maneira:\n",
    "\n",
    "$$\\begin{split}\n",
    "    \\mathbf{A} \n",
    "    & = \\left[\n",
    "    \\begin{array}{ccc}\n",
    "        a_{11} & \\cdots & a_{1M} \\\\\n",
    "        \\vdots &        & \\vdots \\\\\n",
    "        a_{N1} & \\cdots & a_{NM}\n",
    "    \\end{array}\n",
    "    \\right]_{N \\times M} \\\\\\\\\n",
    "    & = \\left[\n",
    "    \\begin{array}{c}\n",
    "        \\mathbf{A}[1,:] \\\\\n",
    "        \\vdots \\\\\n",
    "        \\mathbf{A}[N,:]\n",
    "    \\end{array}\n",
    "    \\right]_{N \\times M} \\\\\\\\\n",
    "    & = \\left[\n",
    "    \\begin{array}{ccc}\n",
    "        \\mathbf{A}[:,1] &\n",
    "        \\cdots &\n",
    "        \\mathbf{A}[:,M]\n",
    "    \\end{array}\n",
    "    \\right]_{N \\times M} \\:\n",
    "\\end{split}$$\n",
    "\n",
    "$$\\begin{split}\n",
    "    \\mathbf{B} \n",
    "    & = \\left[\n",
    "    \\begin{array}{ccc}\n",
    "        b_{11} & \\cdots & b_{1L} \\\\\n",
    "        \\vdots &        & \\vdots \\\\\n",
    "        b_{M1} & \\cdots & b_{ML}\n",
    "    \\end{array}\n",
    "    \\right]_{M \\times L} \\\\\\\\\n",
    "    & = \\left[\n",
    "    \\begin{array}{c}\n",
    "        \\mathbf{B}[1,:] \\\\\n",
    "        \\vdots \\\\\n",
    "        \\mathbf{B}[M,:]\n",
    "    \\end{array}\n",
    "    \\right]_{M \\times L} \\\\\\\\\n",
    "    & = \\left[\n",
    "    \\begin{array}{ccc}\n",
    "        \\mathbf{B}[:,1] &\n",
    "        \\cdots &\n",
    "        \\mathbf{B}[:,L]\n",
    "    \\end{array}\n",
    "    \\right]_{M \\times L}\n",
    "\\end{split} \\: ,$$"
   ]
  },
  {
   "cell_type": "markdown",
   "metadata": {},
   "source": [
    "em que $a_{ij} = \\mathbf{A}[i,j]$ e $b_{ij} = \\mathbf{B}[i,j]$, $i = 1, ..., N$, $j = 1, ..., M$ e $k = 1, ..., L$."
   ]
  },
  {
   "cell_type": "markdown",
   "metadata": {},
   "source": [
    "Seja $\\mathbf{C}$ uma matriz $N \\times L$ dada por:\n",
    "\n",
    "$$\n",
    "\\mathbf{C} = \\mathbf{A} \\, \\mathbf{B} \\: ,\n",
    "$$\n",
    "\n",
    "em que os elementos $c_{ij} = \\mathbf{C}[i,k]$, $i = 1, ..., N$, $k = 1, ..., L$, são definidos como:\n",
    "\n",
    "$$\\begin{split}\n",
    "\\mathbf{C} \n",
    "    & = \\left[\n",
    "    \\begin{array}{ccc}\n",
    "        c_{11} & \\cdots & c_{1L} \\\\\n",
    "        \\vdots &        & \\vdots \\\\\n",
    "        c_{N1} & \\cdots & c_{NL}\n",
    "    \\end{array}\n",
    "    \\right] \\\\\\\\\n",
    "    & = \\left[\n",
    "    \\begin{array}{cccc}\n",
    "        \\left( a_{11} \\, b_{11} + \\cdots + a_{1M} \\, b_{M1} \\right) &\n",
    "        \\left( a_{11} \\, b_{12} + \\cdots + a_{1M} \\, b_{M2} \\right) &\n",
    "        \\cdots &\n",
    "        \\left( a_{11} \\, b_{1L} + \\cdots + a_{1M} \\, b_{ML} \\right) \\\\\n",
    "        \\left( a_{21} \\, b_{11} + \\cdots + a_{2M} \\, b_{M1} \\right) &\n",
    "        \\left( a_{21} \\, b_{12} + \\cdots + a_{2M} \\, b_{M2} \\right) &\n",
    "        \\cdots &\n",
    "        \\left( a_{21} \\, b_{1L} + \\cdots + a_{2M} \\, b_{ML} \\right) \\\\\n",
    "        \\vdots & \\vdots & & \\vdots \\\\\n",
    "        \\left( a_{N1} \\, b_{11} + \\cdots + a_{NM} \\, b_{M1} \\right) &\n",
    "        \\left( a_{N1} \\, b_{12} + \\cdots + a_{NM} \\, b_{M2} \\right) &\n",
    "        \\cdots &\n",
    "        \\left( a_{N1} \\, b_{1L} + \\cdots + a_{NM} \\, b_{ML} \\right)\n",
    "    \\end{array}\n",
    "    \\right] \\: .    \n",
    "\\end{split}\n",
    "$$"
   ]
  },
  {
   "cell_type": "markdown",
   "metadata": {},
   "source": [
    "A matriz $\\mathbf{C}$ pode ser calculada usando o `dot product`:"
   ]
  },
  {
   "cell_type": "code",
   "execution_count": 79,
   "metadata": {},
   "outputs": [],
   "source": [
    "A = np.array([[1.,2.],\n",
    "              [3.,4.],\n",
    "              [5.,6.]])\n",
    "B = np.array([[7., 8.],\n",
    "              [9., 10.]])"
   ]
  },
  {
   "cell_type": "code",
   "execution_count": 80,
   "metadata": {},
   "outputs": [
    {
     "data": {
      "text/plain": [
       "array([[1., 2.],\n",
       "       [3., 4.],\n",
       "       [5., 6.]])"
      ]
     },
     "execution_count": 80,
     "metadata": {},
     "output_type": "execute_result"
    }
   ],
   "source": [
    "A"
   ]
  },
  {
   "cell_type": "code",
   "execution_count": 81,
   "metadata": {},
   "outputs": [
    {
     "data": {
      "text/plain": [
       "array([[ 7.,  8.],\n",
       "       [ 9., 10.]])"
      ]
     },
     "execution_count": 81,
     "metadata": {},
     "output_type": "execute_result"
    }
   ],
   "source": [
    "B"
   ]
  },
  {
   "cell_type": "code",
   "execution_count": 82,
   "metadata": {},
   "outputs": [],
   "source": [
    "C = np.dot(A, B)"
   ]
  },
  {
   "cell_type": "code",
   "execution_count": 83,
   "metadata": {},
   "outputs": [
    {
     "name": "stdout",
     "output_type": "stream",
     "text": [
      "[[ 25.  28.]\n",
      " [ 57.  64.]\n",
      " [ 89. 100.]]\n"
     ]
    }
   ],
   "source": [
    "print(C)"
   ]
  },
  {
   "cell_type": "code",
   "execution_count": null,
   "metadata": {},
   "outputs": [],
   "source": []
  },
  {
   "cell_type": "code",
   "execution_count": null,
   "metadata": {},
   "outputs": [],
   "source": []
  }
 ],
 "metadata": {
  "kernelspec": {
   "display_name": "Python 3",
   "language": "python",
   "name": "python3"
  },
  "language_info": {
   "codemirror_mode": {
    "name": "ipython",
    "version": 3
   },
   "file_extension": ".py",
   "mimetype": "text/x-python",
   "name": "python",
   "nbconvert_exporter": "python",
   "pygments_lexer": "ipython3",
   "version": "3.7.3"
  }
 },
 "nbformat": 4,
 "nbformat_minor": 4
}
